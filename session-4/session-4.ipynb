{
 "cells": [
  {
   "cell_type": "markdown",
   "metadata": {},
   "source": [
    "# Session 4: Visualizing Representations\n",
    "\n",
    "## Assignment: Deep Dream and Style Net\n",
    "\n",
    "<p class='lead'>\n",
    "Creative Applications of Deep Learning with Google's Tensorflow  \n",
    "Parag K. Mital  \n",
    "Kadenze, Inc.\n",
    "</p>\n",
    "\n",
    "# Overview\n",
    "\n",
    "In this homework, we'll first walk through visualizing the gradients of a trained convolutional network.  Recall from the last session that we had trained a variational convolutional autoencoder.  We also trained a deep convolutional network.  In both of these networks, we learned only a few tools for understanding how the model performs.  These included measuring the loss of the network and visualizing the `W` weight matrices and/or convolutional filters of the network.\n",
    "\n",
    "During the lecture we saw how to visualize the gradients of Inception, Google's state of the art network for object recognition.  This resulted in a much more powerful technique for understanding how a network's activations transform or accentuate the representations in the input space.  We'll explore this more in Part 1.\n",
    "\n",
    "We also explored how to use the gradients of a particular layer or neuron within a network with respect to its input for performing \"gradient ascent\". This resulted in Deep Dream.  We'll explore this more in Parts 2-4.\n",
    "\n",
    "We also saw how the gradients at different layers of a convolutional network could be optimized for another image, resulting in the separation of content and style losses, depending on the chosen layers.  This allowed us to synthesize new images that shared another image's content and/or style, even if they came from separate images.  We'll explore this more in Part 5.\n",
    "\n",
    "Finally, you'll packaged all the GIFs you create throughout this notebook and upload them to Kadenze.\n",
    "\n",
    "\n",
    "<a name=\"learning-goals\"></a>\n",
    "# Learning Goals\n",
    "\n",
    "* Learn how to inspect deep networks by visualizing their gradients\n",
    "* Learn how to \"deep dream\" with different objective functions and regularization techniques\n",
    "* Learn how to \"stylize\" an image using content and style losses from different images\n",
    "\n",
    "\n",
    "# Table of Contents\n",
    "\n",
    "<!-- MarkdownTOC autolink=true autoanchor=true bracket=round -->\n",
    "\n",
    "- [Part 1 - Pretrained Networks](#part-1---pretrained-networks)\n",
    "  - [Graph Definition](#graph-definition)\n",
    "  - [Preprocess/Deprocessing](#preprocessdeprocessing)\n",
    "  - [Tensorboard](#tensorboard)\n",
    "  - [A Note on 1x1 Convolutions](#a-note-on-1x1-convolutions)\n",
    "  - [Network Labels](#network-labels)\n",
    "  - [Using Context Managers](#using-context-managers)\n",
    "- [Part 2 - Visualizing Gradients](#part-2---visualizing-gradients)\n",
    "- [Part 3 - Basic Deep Dream](#part-3---basic-deep-dream)\n",
    "- [Part 4 - Deep Dream Extensions](#part-4---deep-dream-extensions)\n",
    "  - [Using the Softmax Layer](#using-the-softmax-layer)\n",
    "  - [Fractal](#fractal)\n",
    "  - [Guided Hallucinations](#guided-hallucinations)\n",
    "  - [Further Explorations](#further-explorations)\n",
    "- [Part 5 - Style Net](#part-5---style-net)\n",
    "  - [Network](#network)\n",
    "  - [Content Features](#content-features)\n",
    "  - [Style Features](#style-features)\n",
    "  - [Remapping the Input](#remapping-the-input)\n",
    "  - [Content Loss](#content-loss)\n",
    "  - [Style Loss](#style-loss)\n",
    "  - [Total Variation Loss](#total-variation-loss)\n",
    "  - [Training](#training)\n",
    "- [Assignment Submission](#assignment-submission)\n",
    "\n",
    "<!-- /MarkdownTOC -->"
   ]
  },
  {
   "cell_type": "code",
   "execution_count": 1,
   "metadata": {
    "collapsed": true
   },
   "outputs": [],
   "source": [
    "# First check the Python version\n",
    "import sys\n",
    "if sys.version_info < (3,4):\n",
    "    print('You are running an older version of Python!\\n\\n',\n",
    "          'You should consider updating to Python 3.4.0 or',\n",
    "          'higher as the libraries built for this course',\n",
    "          'have only been tested in Python 3.4 and higher.\\n')\n",
    "    print('Try installing the Python 3.5 version of anaconda'\n",
    "          'and then restart `jupyter notebook`:\\n',\n",
    "          'https://www.continuum.io/downloads\\n\\n')\n",
    "\n",
    "# Now get necessary libraries\n",
    "try:\n",
    "    import os\n",
    "    import numpy as np\n",
    "    import matplotlib.pyplot as plt\n",
    "    from skimage.transform import resize\n",
    "    from skimage import data\n",
    "    from scipy.misc import imresize\n",
    "    from scipy.ndimage.filters import gaussian_filter\n",
    "    import IPython.display as ipyd\n",
    "    import tensorflow as tf\n",
    "    from libs import utils, gif, datasets, dataset_utils, vae, dft, vgg16, nb_utils\n",
    "except ImportError:\n",
    "    print(\"Make sure you have started notebook in the same directory\",\n",
    "          \"as the provided zip file which includes the 'libs' folder\",\n",
    "          \"and the file 'utils.py' inside of it.  You will NOT be able\",\n",
    "          \"to complete this assignment unless you restart jupyter\",\n",
    "          \"notebook inside the directory created by extracting\",\n",
    "          \"the zip file or cloning the github repo.  If you are still\")\n",
    "\n",
    "# We'll tell matplotlib to inline any drawn figures like so:\n",
    "%matplotlib inline\n",
    "plt.style.use('ggplot')"
   ]
  },
  {
   "cell_type": "code",
   "execution_count": 2,
   "metadata": {
    "collapsed": false
   },
   "outputs": [
    {
     "data": {
      "text/html": [
       "<style> .rendered_html code { \n",
       "    padding: 2px 4px;\n",
       "    color: #c7254e;\n",
       "    background-color: #f9f2f4;\n",
       "    border-radius: 4px;\n",
       "} </style>"
      ],
      "text/plain": [
       "<IPython.core.display.HTML object>"
      ]
     },
     "execution_count": 2,
     "metadata": {},
     "output_type": "execute_result"
    }
   ],
   "source": [
    "# Bit of formatting because I don't like the default inline code style:\n",
    "from IPython.core.display import HTML\n",
    "HTML(\"\"\"<style> .rendered_html code { \n",
    "    padding: 2px 4px;\n",
    "    color: #c7254e;\n",
    "    background-color: #f9f2f4;\n",
    "    border-radius: 4px;\n",
    "} </style>\"\"\")"
   ]
  },
  {
   "cell_type": "markdown",
   "metadata": {},
   "source": [
    "<a name=\"part-1---pretrained-networks\"></a>\n",
    "# Part 1 - Pretrained Networks\n",
    "\n",
    "In the libs module, you'll see that I've included a few modules for loading some state of the art networks.  These include:\n",
    "\n",
    "* [Inception v3](https://github.com/tensorflow/models/tree/master/inception)\n",
    "    - This network has been trained on ImageNet and its finaly output layer is a softmax layer denoting 1 of 1000 possible objects (+ 8 for unknown categories).  This network is about only 50MB!\n",
    "* [Inception v5](https://github.com/tensorflow/models/tree/master/inception)\n",
    "    - This network has been trained on ImageNet and its finaly output layer is a softmax layer denoting 1 of 1000 possible objects (+ 8 for unknown categories).  This network is about only 50MB!  It presents a few extensions to v5 which are not documented anywhere that I've found, as of yet...\n",
    "* [Visual Group Geometry @ Oxford's 16 layer](http://www.robots.ox.ac.uk/~vgg/research/very_deep/)\n",
    "    - This network has been trained on ImageNet and its finaly output layer is a softmax layer denoting 1 of 1000 possible objects.  This model is nearly half a gigabyte, about 10x larger in size than the inception network.  The trade off is that it is very fast.\n",
    "* [Visual Group Geometry @ Oxford's Face Recognition](http://www.robots.ox.ac.uk/~vgg/software/vgg_face/)\n",
    "    - This network has been trained on the VGG Face Dataset and its final output layer is a softmax layer denoting 1 of 2622 different possible people.\n",
    "* [Illustration2Vec](http://illustration2vec.net)\n",
    "    - This network has been trained on illustrations and manga and its final output layer is 4096 features.\n",
    "* [Illustration2Vec Tag](http://illustration2vec.net)\n",
    "    - Please do not use this network if you are under the age of 18 (seriously!)\n",
    "    - This network has been trained on manga and its final output layer is one of 1539 labels.\n",
    "\n",
    "When we use a pre-trained network, we load a network's definition and its weights which have already been trained.  The network's definition includes a set of operations such as convolutions, and adding biases, but all of their values, i.e. the weights, have already been trained.  \n",
    "\n",
    "<a name=\"graph-definition\"></a>\n",
    "## Graph Definition\n",
    "\n",
    "In the libs folder, you will see a few new modules for loading the above pre-trained networks. Each module is structured similarly to help you understand how they are loaded and include example code for using them.  Each module includes a `preprocess` function for using before sending the image to the network.  And when using deep dream techniques, we'll be using the `deprocess` function to undo the `preprocess` function's manipulations.\n",
    "\n",
    "Let's take a look at loading one of these.  Every network except for `i2v` includes a key 'labels' denoting what labels the network has been trained on.  If you are under the age of 18, please do not use the `i2v_tag model`, as its labels are unsuitable for minors.\n",
    "\n",
    "Let's load the libaries for the different pre-trained networks:"
   ]
  },
  {
   "cell_type": "code",
   "execution_count": 3,
   "metadata": {
    "collapsed": true
   },
   "outputs": [],
   "source": [
    "from libs import vgg16, inception, i2v"
   ]
  },
  {
   "cell_type": "markdown",
   "metadata": {},
   "source": [
    "Now we can load a pre-trained network's graph and any labels.  Explore the different networks in your own time.\n",
    "\n",
    "<h3><font color='red'>TODO! COMPLETE THIS SECTION!</font></h3>"
   ]
  },
  {
   "cell_type": "code",
   "execution_count": 4,
   "metadata": {
    "collapsed": false
   },
   "outputs": [
    {
     "name": "stdout",
     "output_type": "stream",
     "text": [
      "Downloading https://s3.amazonaws.com/cadl/models/inception5h.zip\n"
     ]
    }
   ],
   "source": [
    "# Stick w/ Inception for now, and then after you see how\n",
    "# the next few sections work w/ this network, come back\n",
    "# and explore the other networks.\n",
    "\n",
    "net = inception.get_inception_model(version='v5')\n",
    "# net = inception.get_inception_model(version='v3')\n",
    "# net = vgg16.get_vgg_model()\n",
    "# net = vgg16.get_vgg_face_model()\n",
    "# net = i2v.get_i2v_model()\n",
    "# net = i2v.get_i2v_tag_model()"
   ]
  },
  {
   "cell_type": "markdown",
   "metadata": {},
   "source": [
    "Each network returns a dictionary with the following keys defined.  Every network has a key for \"labels\" except for \"i2v\", since this is a feature only network, e.g. an unsupervised network, and does not have labels."
   ]
  },
  {
   "cell_type": "code",
   "execution_count": 5,
   "metadata": {
    "collapsed": false
   },
   "outputs": [
    {
     "name": "stdout",
     "output_type": "stream",
     "text": [
      "dict_keys(['preprocess', 'graph_def', 'labels', 'deprocess'])\n"
     ]
    }
   ],
   "source": [
    "print(net.keys())"
   ]
  },
  {
   "cell_type": "markdown",
   "metadata": {},
   "source": [
    "<a name=\"preprocessdeprocessing\"></a>\n",
    "## Preprocess/Deprocessing\n",
    "\n",
    "Each network has a preprocessing/deprocessing function which we'll use before sending the input to the network.  This preprocessing function is slightly different for each network.  Recall from the previous sessions what preprocess we had done before sending an image to a network.  We would often normalize the input by subtracting the mean and dividing by the standard deviation.  We'd also crop/resize the input to a standard size.  We'll need to do this for each network except for the Inception network, which is a true convolutional network and does not require us to do this (will be explained in more depth later). \n",
    "\n",
    "Whenever we `preprocess` the image, and want to visualize the result of adding back the gradient to the input image (when we use deep dream), we'll need to use the `deprocess` function stored in the dictionary.  Let's explore how these work.  We'll confirm this is performing the inverse operation, let's try to preprocess the image, then I'll have you try to deprocess it."
   ]
  },
  {
   "cell_type": "code",
   "execution_count": 6,
   "metadata": {
    "collapsed": false
   },
   "outputs": [
    {
     "name": "stdout",
     "output_type": "stream",
     "text": [
      "0.0 1.0\n"
     ]
    },
    {
     "data": {
      "image/png": "[encoded data removed]",
      "text/plain": [
       "<matplotlib.figure.Figure at 0x11ae61f60>"
      ]
     },
     "metadata": {},
     "output_type": "display_data"
    }
   ],
   "source": [
    "# First, let's get an image:\n",
    "og = plt.imread('clinton.png')[..., :3]\n",
    "plt.imshow(og)\n",
    "print(og.min(), og.max())"
   ]
  },
  {
   "cell_type": "markdown",
   "metadata": {},
   "source": [
    "Let's now try preprocessing this image.  The function for preprocessing is inside the module we used to load it.  For instance, for `vgg16`, we can find the `preprocess` function as `vgg16.preprocess`, or for `inception`, `inception.preprocess`, or for `i2v`, `i2v.preprocess`.  Or, we can just use the key `preprocess` in our dictionary `net`, as this is just convenience for us to access the corresponding preprocess function."
   ]
  },
  {
   "cell_type": "code",
   "execution_count": 7,
   "metadata": {
    "collapsed": false
   },
   "outputs": [
    {
     "name": "stdout",
     "output_type": "stream",
     "text": [
      "-117.0 138.0\n"
     ]
    }
   ],
   "source": [
    "# Now call the preprocess function.  This will preprocess our\n",
    "# image ready for being input to the network, except for changes\n",
    "# to the dimensions.  I.e., we will still need to convert this\n",
    "# to a 4-dimensional Tensor once we input it to the network.\n",
    "# We'll see how that works later.\n",
    "img = net['preprocess'](og)\n",
    "print(img.min(), img.max())"
   ]
  },
  {
   "cell_type": "markdown",
   "metadata": {},
   "source": [
    "Let's undo the preprocessing.  Recall that the `net` dictionary has the key `deprocess` which is the function we need to use on our processed image, `img`.\n",
    "\n",
    "<h3><font color='red'>TODO! COMPLETE THIS SECTION!</font></h3>"
   ]
  },
  {
   "cell_type": "code",
   "execution_count": 8,
   "metadata": {
    "collapsed": false
   },
   "outputs": [
    {
     "data": {
      "image/png": "[encoded data removed]",
      "text/plain": [
       "<matplotlib.figure.Figure at 0x123475908>"
      ]
     },
     "metadata": {},
     "output_type": "display_data"
    }
   ],
   "source": [
    "deprocessed = net['deprocess'](img)\n",
    "plt.imshow(deprocessed)\n",
    "plt.show()"
   ]
  },
  {
   "cell_type": "markdown",
   "metadata": {},
   "source": [
    "<a name=\"tensorboard\"></a>\n",
    "## Tensorboard\n",
    "\n",
    "I've added a utility module called `nb_utils` which includes a function `show_graph`.  This will use [Tensorboard](https://www.tensorflow.org/versions/r0.10/how_tos/graph_viz/index.html) to draw the computational graph defined by the various Tensorflow functions.  I didn't go over this during the lecture because there just wasn't enough time!  But explore it in your own time if it interests you, as it is a really unique tool which allows you to monitor your network's training progress via a web interface.  It even lets you monitor specific variables or processes within the network, e.g. the reconstruction of an autoencoder, without having to print to the console as we've been doing.  We'll just be using it to draw the pretrained network's graphs using the utility function I've given you.\n",
    "\n",
    "Be sure to interact with the graph and click on the various modules.\n",
    "\n",
    "For instance, if you've loaded the `inception` v5 network, locate the \"input\" to the network.  This is where we feed the image, the input placeholder (typically what we've been denoting as `X` in our own networks).  From there, it goes to the \"conv2d0\" variable scope (i.e. this uses the code: `with tf.variable_scope(\"conv2d0\")` to create a set of operations with the prefix \"conv2d0/\".  If you expand this scope, you'll see another scope, \"pre_relu\".  This is created using another `tf.variable_scope(\"pre_relu\")`, so that any new variables will have the prefix \"conv2d0/pre_relu\".  Finally, inside here, you'll see the convolution operation (`tf.nn.conv2d`) and the 4d weight tensor, \"w\" (e.g. created using `tf.get_variable`), used for convolution (and so has the name, \"conv2d0/pre_relu/w\".  Just after the convolution is the addition of the bias, b.  And finally after exiting the \"pre_relu\" scope, you should be able to see the \"conv2d0\" operation which applies the relu nonlinearity.  In summary, that region of the graph can be created in Tensorflow like so:\n",
    "\n",
    "```python\n",
    "input = tf.placeholder(...)\n",
    "with tf.variable_scope('conv2d0'):\n",
    "    with tf.variable_scope('pre_relu'):\n",
    "        w = tf.get_variable(...)\n",
    "        h = tf.nn.conv2d(input, h, ...)\n",
    "        b = tf.get_variable(...)\n",
    "        h = tf.nn.bias_add(h, b)\n",
    "    h = tf.nn.relu(h)\n",
    "```"
   ]
  },
  {
   "cell_type": "code",
   "execution_count": 9,
   "metadata": {
    "collapsed": false
   },
   "outputs": [
    {
     "data": {
      "text/html": [
       "\n",
       "            <iframe seamless style=\"width:800px;height:620px;border:0\" srcdoc=\"\n",
       "            <script>\n",
       "              function load() {\n",
       "                document.getElementById(&quot;graph0.47514670729906583&quot;).pbtxt = 'node {\\n  name: &quot;input&quot;\\n  op: &quot;Placeholder&quot;\\n  device: &quot;/cpu:0&quot;\\n  attr {\\n    key: &quot;dtype&quot;\\n    value {\\n      type: DT_FLOAT\\n    }\\n  }\\n  attr {\\n    key: &quot;shape&quot;\\n    value {\\n      shape {\\n      }\\n    }\\n  }\\n}\\nnode {\\n  name: &quot;conv2d0/w&quot;\\n  op: &quot;Const&quot;\\n  device: &quot;/cpu:0&quot;\\n  attr {\\n    key: &quot;dtype&quot;\\n    value {\\n      type: DT_FLOAT\\n    }\\n  }\\n  attr {\\n    key: &quot;value&quot;\\n    value {\\n      tensor {\\n        dtype: DT_FLOAT\\n        tensor_shape {\\n          dim {\\n            size: 7\\n          }\\n          dim {\\n            size: 7\\n          }\\n          dim {\\n            size: 3\\n          }\\n          dim {\\n            size: 64\\n          }\\n        }\\n        tensor_content: &quot;<stripped 37632 bytes>&quot;\\n      }\\n    }\\n  }\\n}\\nnode {\\n  name: &quot;conv2d0/b&quot;\\n  op: &quot;Const&quot;\\n  device: &quot;/cpu:0&quot;\\n  attr {\\n    key: &quot;dtype&quot;\\n    value {\\n      type: DT_FLOAT\\n    }\\n  }\\n  attr {\\n    key: &quot;value&quot;\\n    value {\\n      tensor {\\n        dtype: DT_FLOAT\\n        tensor_shape {\\n          dim {\\n            size: 64\\n          }\\n        }\\n        tensor_content: &quot;<stripped 256 bytes>&quot;\\n      }\\n    }\\n  }\\n}\\nnode {\\n  name: &quot;conv2d1/w&quot;\\n  op: &quot;Const&quot;\\n  device: &quot;/cpu:0&quot;\\n  attr {\\n    key: &quot;dtype&quot;\\n    value {\\n      type: DT_FLOAT\\n    }\\n  }\\n  attr {\\n    key: &quot;value&quot;\\n    value {\\n      tensor {\\n        dtype: DT_FLOAT\\n        tensor_shape {\\n          dim {\\n            size: 1\\n          }\\n          dim {\\n            size: 1\\n          }\\n          dim {\\n            size: 64\\n          }\\n          dim {\\n            size: 64\\n          }\\n        }\\n        tensor_content: &quot;<stripped 16384 bytes>&quot;\\n      }\\n    }\\n  }\\n}\\nnode {\\n  name: &quot;conv2d1/b&quot;\\n  op: &quot;Const&quot;\\n  device: &quot;/cpu:0&quot;\\n  attr {\\n    key: &quot;dtype&quot;\\n    value {\\n      type: DT_FLOAT\\n    }\\n  }\\n  attr {\\n    key: &quot;value&quot;\\n    value {\\n      tensor {\\n        dtype: DT_FLOAT\\n        tensor_shape {\\n          dim {\\n            size: 64\\n          }\\n        }\\n        tensor_content: &quot;<stripped 256 bytes>&quot;\\n      }\\n    }\\n  }\\n}\\nnode {\\n  name: &quot;conv2d2/w&quot;\\n  op: &quot;Const&quot;\\n  device: &quot;/cpu:0&quot;\\n  attr {\\n    key: &quot;dtype&quot;\\n    value {\\n      type: DT_FLOAT\\n    }\\n  }\\n  attr {\\n    key: &quot;value&quot;\\n    value {\\n      tensor {\\n        dtype: DT_FLOAT\\n        tensor_shape {\\n          dim {\\n            size: 3\\n          }\\n          dim {\\n            size: 3\\n          }\\n          dim {\\n            size: 64\\n          }\\n          dim {\\n            size: 192\\n          }\\n        }\\n        tensor_content: &quot;<stripped 442368 bytes>&quot;\\n      }\\n    }\\n  }\\n}\\nnode {\\n  name: &quot;conv2d2/b&quot;\\n  op: &quot;Const&quot;\\n  device: &quot;/cpu:0&quot;\\n  attr {\\n    key: &quot;dtype&quot;\\n    value {\\n      type: DT_FLOAT\\n    }\\n  }\\n  attr {\\n    key: &quot;value&quot;\\n    value {\\n      tensor {\\n        dtype: DT_FLOAT\\n        tensor_shape {\\n          dim {\\n            size: 192\\n          }\\n        }\\n        tensor_content: &quot;<stripped 768 bytes>&quot;\\n      }\\n    }\\n  }\\n}\\nnode {\\n  name: &quot;mixed3a/1x1_w&quot;\\n  op: &quot;Const&quot;\\n  device: &quot;/cpu:0&quot;\\n  attr {\\n    key: &quot;dtype&quot;\\n    value {\\n      type: DT_FLOAT\\n    }\\n  }\\n  attr {\\n    key: &quot;value&quot;\\n    value {\\n      tensor {\\n        dtype: DT_FLOAT\\n        tensor_shape {\\n          dim {\\n            size: 1\\n          }\\n          dim {\\n            size: 1\\n          }\\n          dim {\\n            size: 192\\n          }\\n          dim {\\n            size: 64\\n          }\\n        }\\n        tensor_content: &quot;<stripped 49152 bytes>&quot;\\n      }\\n    }\\n  }\\n}\\nnode {\\n  name: &quot;mixed3a/1x1_b&quot;\\n  op: &quot;Const&quot;\\n  device: &quot;/cpu:0&quot;\\n  attr {\\n    key: &quot;dtype&quot;\\n    value {\\n      type: DT_FLOAT\\n    }\\n  }\\n  attr {\\n    key: &quot;value&quot;\\n    value {\\n      tensor {\\n        dtype: DT_FLOAT\\n        tensor_shape {\\n          dim {\\n            size: 64\\n          }\\n        }\\n        tensor_content: &quot;<stripped 256 bytes>&quot;\\n      }\\n    }\\n  }\\n}\\nnode {\\n  name: &quot;mixed3a/3x3_bottleneck_w&quot;\\n  op: &quot;Const&quot;\\n  device: &quot;/cpu:0&quot;\\n  attr {\\n    key: &quot;dtype&quot;\\n    value {\\n      type: DT_FLOAT\\n    }\\n  }\\n  attr {\\n    key: &quot;value&quot;\\n    value {\\n      tensor {\\n        dtype: DT_FLOAT\\n        tensor_shape {\\n          dim {\\n            size: 1\\n          }\\n          dim {\\n            size: 1\\n          }\\n          dim {\\n            size: 192\\n          }\\n          dim {\\n            size: 96\\n          }\\n        }\\n        tensor_content: &quot;<stripped 73728 bytes>&quot;\\n      }\\n    }\\n  }\\n}\\nnode {\\n  name: &quot;mixed3a/3x3_bottleneck_b&quot;\\n  op: &quot;Const&quot;\\n  device: &quot;/cpu:0&quot;\\n  attr {\\n    key: &quot;dtype&quot;\\n    value {\\n      type: DT_FLOAT\\n    }\\n  }\\n  attr {\\n    key: &quot;value&quot;\\n    value {\\n      tensor {\\n        dtype: DT_FLOAT\\n        tensor_shape {\\n          dim {\\n            size: 96\\n          }\\n        }\\n        tensor_content: &quot;<stripped 384 bytes>&quot;\\n      }\\n    }\\n  }\\n}\\nnode {\\n  name: &quot;mixed3a/3x3_w&quot;\\n  op: &quot;Const&quot;\\n  device: &quot;/cpu:0&quot;\\n  attr {\\n    key: &quot;dtype&quot;\\n    value {\\n      type: DT_FLOAT\\n    }\\n  }\\n  attr {\\n    key: &quot;value&quot;\\n    value {\\n      tensor {\\n        dtype: DT_FLOAT\\n        tensor_shape {\\n          dim {\\n            size: 3\\n          }\\n          dim {\\n            size: 3\\n          }\\n          dim {\\n            size: 96\\n          }\\n          dim {\\n            size: 128\\n          }\\n        }\\n        tensor_content: &quot;<stripped 442368 bytes>&quot;\\n      }\\n    }\\n  }\\n}\\nnode {\\n  name: &quot;mixed3a/3x3_b&quot;\\n  op: &quot;Const&quot;\\n  device: &quot;/cpu:0&quot;\\n  attr {\\n    key: &quot;dtype&quot;\\n    value {\\n      type: DT_FLOAT\\n    }\\n  }\\n  attr {\\n    key: &quot;value&quot;\\n    value {\\n      tensor {\\n        dtype: DT_FLOAT\\n        tensor_shape {\\n          dim {\\n            size: 128\\n          }\\n        }\\n        tensor_content: &quot;<stripped 512 bytes>&quot;\\n      }\\n    }\\n  }\\n}\\nnode {\\n  name: &quot;mixed3a/5x5_bottleneck_w&quot;\\n  op: &quot;Const&quot;\\n  device: &quot;/cpu:0&quot;\\n  attr {\\n    key: &quot;dtype&quot;\\n    value {\\n      type: DT_FLOAT\\n    }\\n  }\\n  attr {\\n    key: &quot;value&quot;\\n    value {\\n      tensor {\\n        dtype: DT_FLOAT\\n        tensor_shape {\\n          dim {\\n            size: 1\\n          }\\n          dim {\\n            size: 1\\n          }\\n          dim {\\n            size: 192\\n          }\\n          dim {\\n            size: 16\\n          }\\n        }\\n        tensor_content: &quot;<stripped 12288 bytes>&quot;\\n      }\\n    }\\n  }\\n}\\nnode {\\n  name: &quot;mixed3a/5x5_bottleneck_b&quot;\\n  op: &quot;Const&quot;\\n  device: &quot;/cpu:0&quot;\\n  attr {\\n    key: &quot;dtype&quot;\\n    value {\\n      type: DT_FLOAT\\n    }\\n  }\\n  attr {\\n    key: &quot;value&quot;\\n    value {\\n      tensor {\\n        dtype: DT_FLOAT\\n        tensor_shape {\\n          dim {\\n            size: 16\\n          }\\n        }\\n        tensor_content: &quot;<stripped 64 bytes>&quot;\\n      }\\n    }\\n  }\\n}\\nnode {\\n  name: &quot;mixed3a/5x5_w&quot;\\n  op: &quot;Const&quot;\\n  device: &quot;/cpu:0&quot;\\n  attr {\\n    key: &quot;dtype&quot;\\n    value {\\n      type: DT_FLOAT\\n    }\\n  }\\n  attr {\\n    key: &quot;value&quot;\\n    value {\\n      tensor {\\n        dtype: DT_FLOAT\\n        tensor_shape {\\n          dim {\\n            size: 5\\n          }\\n          dim {\\n            size: 5\\n          }\\n          dim {\\n            size: 16\\n          }\\n          dim {\\n            size: 32\\n          }\\n        }\\n        tensor_content: &quot;<stripped 51200 bytes>&quot;\\n      }\\n    }\\n  }\\n}\\nnode {\\n  name: &quot;mixed3a/5x5_b&quot;\\n  op: &quot;Const&quot;\\n  device: &quot;/cpu:0&quot;\\n  attr {\\n    key: &quot;dtype&quot;\\n    value {\\n      type: DT_FLOAT\\n    }\\n  }\\n  attr {\\n    key: &quot;value&quot;\\n    value {\\n      tensor {\\n        dtype: DT_FLOAT\\n        tensor_shape {\\n          dim {\\n            size: 32\\n          }\\n        }\\n        tensor_content: &quot;<stripped 128 bytes>&quot;\\n      }\\n    }\\n  }\\n}\\nnode {\\n  name: &quot;mixed3a/pool_reduce_w&quot;\\n  op: &quot;Const&quot;\\n  device: &quot;/cpu:0&quot;\\n  attr {\\n    key: &quot;dtype&quot;\\n    value {\\n      type: DT_FLOAT\\n    }\\n  }\\n  attr {\\n    key: &quot;value&quot;\\n    value {\\n      tensor {\\n        dtype: DT_FLOAT\\n        tensor_shape {\\n          dim {\\n            size: 1\\n          }\\n          dim {\\n            size: 1\\n          }\\n          dim {\\n            size: 192\\n          }\\n          dim {\\n            size: 32\\n          }\\n        }\\n        tensor_content: &quot;<stripped 24576 bytes>&quot;\\n      }\\n    }\\n  }\\n}\\nnode {\\n  name: &quot;mixed3a/pool_reduce_b&quot;\\n  op: &quot;Const&quot;\\n  device: &quot;/cpu:0&quot;\\n  attr {\\n    key: &quot;dtype&quot;\\n    value {\\n      type: DT_FLOAT\\n    }\\n  }\\n  attr {\\n    key: &quot;value&quot;\\n    value {\\n      tensor {\\n        dtype: DT_FLOAT\\n        tensor_shape {\\n          dim {\\n            size: 32\\n          }\\n        }\\n        tensor_content: &quot;<stripped 128 bytes>&quot;\\n      }\\n    }\\n  }\\n}\\nnode {\\n  name: &quot;mixed3b/1x1_w&quot;\\n  op: &quot;Const&quot;\\n  device: &quot;/cpu:0&quot;\\n  attr {\\n    key: &quot;dtype&quot;\\n    value {\\n      type: DT_FLOAT\\n    }\\n  }\\n  attr {\\n    key: &quot;value&quot;\\n    value {\\n      tensor {\\n        dtype: DT_FLOAT\\n        tensor_shape {\\n          dim {\\n            size: 1\\n          }\\n          dim {\\n            size: 1\\n          }\\n          dim {\\n            size: 256\\n          }\\n          dim {\\n            size: 128\\n          }\\n        }\\n        tensor_content: &quot;<stripped 131072 bytes>&quot;\\n      }\\n    }\\n  }\\n}\\nnode {\\n  name: &quot;mixed3b/1x1_b&quot;\\n  op: &quot;Const&quot;\\n  device: &quot;/cpu:0&quot;\\n  attr {\\n    key: &quot;dtype&quot;\\n    value {\\n      type: DT_FLOAT\\n    }\\n  }\\n  attr {\\n    key: &quot;value&quot;\\n    value {\\n      tensor {\\n        dtype: DT_FLOAT\\n        tensor_shape {\\n          dim {\\n            size: 128\\n          }\\n        }\\n        tensor_content: &quot;<stripped 512 bytes>&quot;\\n      }\\n    }\\n  }\\n}\\nnode {\\n  name: &quot;mixed3b/3x3_bottleneck_w&quot;\\n  op: &quot;Const&quot;\\n  device: &quot;/cpu:0&quot;\\n  attr {\\n    key: &quot;dtype&quot;\\n    value {\\n      type: DT_FLOAT\\n    }\\n  }\\n  attr {\\n    key: &quot;value&quot;\\n    value {\\n      tensor {\\n        dtype: DT_FLOAT\\n        tensor_shape {\\n          dim {\\n            size: 1\\n          }\\n          dim {\\n            size: 1\\n          }\\n          dim {\\n            size: 256\\n          }\\n          dim {\\n            size: 128\\n          }\\n        }\\n        tensor_content: &quot;<stripped 131072 bytes>&quot;\\n      }\\n    }\\n  }\\n}\\nnode {\\n  name: &quot;mixed3b/3x3_bottleneck_b&quot;\\n  op: &quot;Const&quot;\\n  device: &quot;/cpu:0&quot;\\n  attr {\\n    key: &quot;dtype&quot;\\n    value {\\n      type: DT_FLOAT\\n    }\\n  }\\n  attr {\\n    key: &quot;value&quot;\\n    value {\\n      tensor {\\n        dtype: DT_FLOAT\\n        tensor_shape {\\n          dim {\\n            size: 128\\n          }\\n        }\\n        tensor_content: &quot;<stripped 512 bytes>&quot;\\n      }\\n    }\\n  }\\n}\\nnode {\\n  name: &quot;mixed3b/3x3_w&quot;\\n  op: &quot;Const&quot;\\n  device: &quot;/cpu:0&quot;\\n  attr {\\n    key: &quot;dtype&quot;\\n    value {\\n      type: DT_FLOAT\\n    }\\n  }\\n  attr {\\n    key: &quot;value&quot;\\n    value {\\n      tensor {\\n        dtype: DT_FLOAT\\n        tensor_shape {\\n          dim {\\n            size: 3\\n          }\\n          dim {\\n            size: 3\\n          }\\n          dim {\\n            size: 128\\n          }\\n          dim {\\n            size: 192\\n          }\\n        }\\n        tensor_content: &quot;<stripped 884736 bytes>&quot;\\n      }\\n    }\\n  }\\n}\\nnode {\\n  name: &quot;mixed3b/3x3_b&quot;\\n  op: &quot;Const&quot;\\n  device: &quot;/cpu:0&quot;\\n  attr {\\n    key: &quot;dtype&quot;\\n    value {\\n      type: DT_FLOAT\\n    }\\n  }\\n  attr {\\n    key: &quot;value&quot;\\n    value {\\n      tensor {\\n        dtype: DT_FLOAT\\n        tensor_shape {\\n          dim {\\n            size: 192\\n          }\\n        }\\n        tensor_content: &quot;<stripped 768 bytes>&quot;\\n      }\\n    }\\n  }\\n}\\nnode {\\n  name: &quot;mixed3b/5x5_bottleneck_w&quot;\\n  op: &quot;Const&quot;\\n  device: &quot;/cpu:0&quot;\\n  attr {\\n    key: &quot;dtype&quot;\\n    value {\\n      type: DT_FLOAT\\n    }\\n  }\\n  attr {\\n    key: &quot;value&quot;\\n    value {\\n      tensor {\\n        dtype: DT_FLOAT\\n        tensor_shape {\\n          dim {\\n            size: 1\\n          }\\n          dim {\\n            size: 1\\n          }\\n          dim {\\n            size: 256\\n          }\\n          dim {\\n            size: 32\\n          }\\n        }\\n        tensor_content: &quot;<stripped 32768 bytes>&quot;\\n      }\\n    }\\n  }\\n}\\nnode {\\n  name: &quot;mixed3b/5x5_bottleneck_b&quot;\\n  op: &quot;Const&quot;\\n  device: &quot;/cpu:0&quot;\\n  attr {\\n    key: &quot;dtype&quot;\\n    value {\\n      type: DT_FLOAT\\n    }\\n  }\\n  attr {\\n    key: &quot;value&quot;\\n    value {\\n      tensor {\\n        dtype: DT_FLOAT\\n        tensor_shape {\\n          dim {\\n            size: 32\\n          }\\n        }\\n        tensor_content: &quot;<stripped 128 bytes>&quot;\\n      }\\n    }\\n  }\\n}\\nnode {\\n  name: &quot;mixed3b/5x5_w&quot;\\n  op: &quot;Const&quot;\\n  device: &quot;/cpu:0&quot;\\n  attr {\\n    key: &quot;dtype&quot;\\n    value {\\n      type: DT_FLOAT\\n    }\\n  }\\n  attr {\\n    key: &quot;value&quot;\\n    value {\\n      tensor {\\n        dtype: DT_FLOAT\\n        tensor_shape {\\n          dim {\\n            size: 5\\n          }\\n          dim {\\n            size: 5\\n          }\\n          dim {\\n            size: 32\\n          }\\n          dim {\\n            size: 96\\n          }\\n        }\\n        tensor_content: &quot;<stripped 307200 bytes>&quot;\\n      }\\n    }\\n  }\\n}\\nnode {\\n  name: &quot;mixed3b/5x5_b&quot;\\n  op: &quot;Const&quot;\\n  device: &quot;/cpu:0&quot;\\n  attr {\\n    key: &quot;dtype&quot;\\n    value {\\n      type: DT_FLOAT\\n    }\\n  }\\n  attr {\\n    key: &quot;value&quot;\\n    value {\\n      tensor {\\n        dtype: DT_FLOAT\\n        tensor_shape {\\n          dim {\\n            size: 96\\n          }\\n        }\\n        tensor_content: &quot;<stripped 384 bytes>&quot;\\n      }\\n    }\\n  }\\n}\\nnode {\\n  name: &quot;mixed3b/pool_reduce_w&quot;\\n  op: &quot;Const&quot;\\n  device: &quot;/cpu:0&quot;\\n  attr {\\n    key: &quot;dtype&quot;\\n    value {\\n      type: DT_FLOAT\\n    }\\n  }\\n  attr {\\n    key: &quot;value&quot;\\n    value {\\n      tensor {\\n        dtype: DT_FLOAT\\n        tensor_shape {\\n          dim {\\n            size: 1\\n          }\\n          dim {\\n            size: 1\\n          }\\n          dim {\\n            size: 256\\n          }\\n          dim {\\n            size: 64\\n          }\\n        }\\n        tensor_content: &quot;<stripped 65536 bytes>&quot;\\n      }\\n    }\\n  }\\n}\\nnode {\\n  name: &quot;mixed3b/pool_reduce_b&quot;\\n  op: &quot;Const&quot;\\n  device: &quot;/cpu:0&quot;\\n  attr {\\n    key: &quot;dtype&quot;\\n    value {\\n      type: DT_FLOAT\\n    }\\n  }\\n  attr {\\n    key: &quot;value&quot;\\n    value {\\n      tensor {\\n        dtype: DT_FLOAT\\n        tensor_shape {\\n          dim {\\n            size: 64\\n          }\\n        }\\n        tensor_content: &quot;<stripped 256 bytes>&quot;\\n      }\\n    }\\n  }\\n}\\nnode {\\n  name: &quot;mixed4a/1x1_w&quot;\\n  op: &quot;Const&quot;\\n  device: &quot;/cpu:0&quot;\\n  attr {\\n    key: &quot;dtype&quot;\\n    value {\\n      type: DT_FLOAT\\n    }\\n  }\\n  attr {\\n    key: &quot;value&quot;\\n    value {\\n      tensor {\\n        dtype: DT_FLOAT\\n        tensor_shape {\\n          dim {\\n            size: 1\\n          }\\n          dim {\\n            size: 1\\n          }\\n          dim {\\n            size: 480\\n          }\\n          dim {\\n            size: 192\\n          }\\n        }\\n        tensor_content: &quot;<stripped 368640 bytes>&quot;\\n      }\\n    }\\n  }\\n}\\nnode {\\n  name: &quot;mixed4a/1x1_b&quot;\\n  op: &quot;Const&quot;\\n  device: &quot;/cpu:0&quot;\\n  attr {\\n    key: &quot;dtype&quot;\\n    value {\\n      type: DT_FLOAT\\n    }\\n  }\\n  attr {\\n    key: &quot;value&quot;\\n    value {\\n      tensor {\\n        dtype: DT_FLOAT\\n        tensor_shape {\\n          dim {\\n            size: 192\\n          }\\n        }\\n        tensor_content: &quot;<stripped 768 bytes>&quot;\\n      }\\n    }\\n  }\\n}\\nnode {\\n  name: &quot;mixed4a/3x3_bottleneck_w&quot;\\n  op: &quot;Const&quot;\\n  device: &quot;/cpu:0&quot;\\n  attr {\\n    key: &quot;dtype&quot;\\n    value {\\n      type: DT_FLOAT\\n    }\\n  }\\n  attr {\\n    key: &quot;value&quot;\\n    value {\\n      tensor {\\n        dtype: DT_FLOAT\\n        tensor_shape {\\n          dim {\\n            size: 1\\n          }\\n          dim {\\n            size: 1\\n          }\\n          dim {\\n            size: 480\\n          }\\n          dim {\\n            size: 96\\n          }\\n        }\\n        tensor_content: &quot;<stripped 184320 bytes>&quot;\\n      }\\n    }\\n  }\\n}\\nnode {\\n  name: &quot;mixed4a/3x3_bottleneck_b&quot;\\n  op: &quot;Const&quot;\\n  device: &quot;/cpu:0&quot;\\n  attr {\\n    key: &quot;dtype&quot;\\n    value {\\n      type: DT_FLOAT\\n    }\\n  }\\n  attr {\\n    key: &quot;value&quot;\\n    value {\\n      tensor {\\n        dtype: DT_FLOAT\\n        tensor_shape {\\n          dim {\\n            size: 96\\n          }\\n        }\\n        tensor_content: &quot;<stripped 384 bytes>&quot;\\n      }\\n    }\\n  }\\n}\\nnode {\\n  name: &quot;mixed4a/3x3_w&quot;\\n  op: &quot;Const&quot;\\n  device: &quot;/cpu:0&quot;\\n  attr {\\n    key: &quot;dtype&quot;\\n    value {\\n      type: DT_FLOAT\\n    }\\n  }\\n  attr {\\n    key: &quot;value&quot;\\n    value {\\n      tensor {\\n        dtype: DT_FLOAT\\n        tensor_shape {\\n          dim {\\n            size: 3\\n          }\\n          dim {\\n            size: 3\\n          }\\n          dim {\\n            size: 96\\n          }\\n          dim {\\n            size: 204\\n          }\\n        }\\n        tensor_content: &quot;<stripped 705024 bytes>&quot;\\n      }\\n    }\\n  }\\n}\\nnode {\\n  name: &quot;mixed4a/3x3_b&quot;\\n  op: &quot;Const&quot;\\n  device: &quot;/cpu:0&quot;\\n  attr {\\n    key: &quot;dtype&quot;\\n    value {\\n      type: DT_FLOAT\\n    }\\n  }\\n  attr {\\n    key: &quot;value&quot;\\n    value {\\n      tensor {\\n        dtype: DT_FLOAT\\n        tensor_shape {\\n          dim {\\n            size: 204\\n          }\\n        }\\n        tensor_content: &quot;<stripped 816 bytes>&quot;\\n      }\\n    }\\n  }\\n}\\nnode {\\n  name: &quot;mixed4a/5x5_bottleneck_w&quot;\\n  op: &quot;Const&quot;\\n  device: &quot;/cpu:0&quot;\\n  attr {\\n    key: &quot;dtype&quot;\\n    value {\\n      type: DT_FLOAT\\n    }\\n  }\\n  attr {\\n    key: &quot;value&quot;\\n    value {\\n      tensor {\\n        dtype: DT_FLOAT\\n        tensor_shape {\\n          dim {\\n            size: 1\\n          }\\n          dim {\\n            size: 1\\n          }\\n          dim {\\n            size: 480\\n          }\\n          dim {\\n            size: 16\\n          }\\n        }\\n        tensor_content: &quot;<stripped 30720 bytes>&quot;\\n      }\\n    }\\n  }\\n}\\nnode {\\n  name: &quot;mixed4a/5x5_bottleneck_b&quot;\\n  op: &quot;Const&quot;\\n  device: &quot;/cpu:0&quot;\\n  attr {\\n    key: &quot;dtype&quot;\\n    value {\\n      type: DT_FLOAT\\n    }\\n  }\\n  attr {\\n    key: &quot;value&quot;\\n    value {\\n      tensor {\\n        dtype: DT_FLOAT\\n        tensor_shape {\\n          dim {\\n            size: 16\\n          }\\n        }\\n        tensor_content: &quot;<stripped 64 bytes>&quot;\\n      }\\n    }\\n  }\\n}\\nnode {\\n  name: &quot;mixed4a/5x5_w&quot;\\n  op: &quot;Const&quot;\\n  device: &quot;/cpu:0&quot;\\n  attr {\\n    key: &quot;dtype&quot;\\n    value {\\n      type: DT_FLOAT\\n    }\\n  }\\n  attr {\\n    key: &quot;value&quot;\\n    value {\\n      tensor {\\n        dtype: DT_FLOAT\\n        tensor_shape {\\n          dim {\\n            size: 5\\n          }\\n          dim {\\n            size: 5\\n          }\\n          dim {\\n            size: 16\\n          }\\n          dim {\\n            size: 48\\n          }\\n        }\\n        tensor_content: &quot;<stripped 76800 bytes>&quot;\\n      }\\n    }\\n  }\\n}\\nnode {\\n  name: &quot;mixed4a/5x5_b&quot;\\n  op: &quot;Const&quot;\\n  device: &quot;/cpu:0&quot;\\n  attr {\\n    key: &quot;dtype&quot;\\n    value {\\n      type: DT_FLOAT\\n    }\\n  }\\n  attr {\\n    key: &quot;value&quot;\\n    value {\\n      tensor {\\n        dtype: DT_FLOAT\\n        tensor_shape {\\n          dim {\\n            size: 48\\n          }\\n        }\\n        tensor_content: &quot;<stripped 192 bytes>&quot;\\n      }\\n    }\\n  }\\n}\\nnode {\\n  name: &quot;mixed4a/pool_reduce_w&quot;\\n  op: &quot;Const&quot;\\n  device: &quot;/cpu:0&quot;\\n  attr {\\n    key: &quot;dtype&quot;\\n    value {\\n      type: DT_FLOAT\\n    }\\n  }\\n  attr {\\n    key: &quot;value&quot;\\n    value {\\n      tensor {\\n        dtype: DT_FLOAT\\n        tensor_shape {\\n          dim {\\n            size: 1\\n          }\\n          dim {\\n            size: 1\\n          }\\n          dim {\\n            size: 480\\n          }\\n          dim {\\n            size: 64\\n          }\\n        }\\n        tensor_content: &quot;<stripped 122880 bytes>&quot;\\n      }\\n    }\\n  }\\n}\\nnode {\\n  name: &quot;mixed4a/pool_reduce_b&quot;\\n  op: &quot;Const&quot;\\n  device: &quot;/cpu:0&quot;\\n  attr {\\n    key: &quot;dtype&quot;\\n    value {\\n      type: DT_FLOAT\\n    }\\n  }\\n  attr {\\n    key: &quot;value&quot;\\n    value {\\n      tensor {\\n        dtype: DT_FLOAT\\n        tensor_shape {\\n          dim {\\n            size: 64\\n          }\\n        }\\n        tensor_content: &quot;<stripped 256 bytes>&quot;\\n      }\\n    }\\n  }\\n}\\nnode {\\n  name: &quot;mixed4b/1x1_w&quot;\\n  op: &quot;Const&quot;\\n  device: &quot;/cpu:0&quot;\\n  attr {\\n    key: &quot;dtype&quot;\\n    value {\\n      type: DT_FLOAT\\n    }\\n  }\\n  attr {\\n    key: &quot;value&quot;\\n    value {\\n      tensor {\\n        dtype: DT_FLOAT\\n        tensor_shape {\\n          dim {\\n            size: 1\\n          }\\n          dim {\\n            size: 1\\n          }\\n          dim {\\n            size: 508\\n          }\\n          dim {\\n            size: 160\\n          }\\n        }\\n        tensor_content: &quot;<stripped 325120 bytes>&quot;\\n      }\\n    }\\n  }\\n}\\nnode {\\n  name: &quot;mixed4b/1x1_b&quot;\\n  op: &quot;Const&quot;\\n  device: &quot;/cpu:0&quot;\\n  attr {\\n    key: &quot;dtype&quot;\\n    value {\\n      type: DT_FLOAT\\n    }\\n  }\\n  attr {\\n    key: &quot;value&quot;\\n    value {\\n      tensor {\\n        dtype: DT_FLOAT\\n        tensor_shape {\\n          dim {\\n            size: 160\\n          }\\n        }\\n        tensor_content: &quot;<stripped 640 bytes>&quot;\\n      }\\n    }\\n  }\\n}\\nnode {\\n  name: &quot;mixed4b/3x3_bottleneck_w&quot;\\n  op: &quot;Const&quot;\\n  device: &quot;/cpu:0&quot;\\n  attr {\\n    key: &quot;dtype&quot;\\n    value {\\n      type: DT_FLOAT\\n    }\\n  }\\n  attr {\\n    key: &quot;value&quot;\\n    value {\\n      tensor {\\n        dtype: DT_FLOAT\\n        tensor_shape {\\n          dim {\\n            size: 1\\n          }\\n          dim {\\n            size: 1\\n          }\\n          dim {\\n            size: 508\\n          }\\n          dim {\\n            size: 112\\n          }\\n        }\\n        tensor_content: &quot;<stripped 227584 bytes>&quot;\\n      }\\n    }\\n  }\\n}\\nnode {\\n  name: &quot;mixed4b/3x3_bottleneck_b&quot;\\n  op: &quot;Const&quot;\\n  device: &quot;/cpu:0&quot;\\n  attr {\\n    key: &quot;dtype&quot;\\n    value {\\n      type: DT_FLOAT\\n    }\\n  }\\n  attr {\\n    key: &quot;value&quot;\\n    value {\\n      tensor {\\n        dtype: DT_FLOAT\\n        tensor_shape {\\n          dim {\\n            size: 112\\n          }\\n        }\\n        tensor_content: &quot;<stripped 448 bytes>&quot;\\n      }\\n    }\\n  }\\n}\\nnode {\\n  name: &quot;mixed4b/3x3_w&quot;\\n  op: &quot;Const&quot;\\n  device: &quot;/cpu:0&quot;\\n  attr {\\n    key: &quot;dtype&quot;\\n    value {\\n      type: DT_FLOAT\\n    }\\n  }\\n  attr {\\n    key: &quot;value&quot;\\n    value {\\n      tensor {\\n        dtype: DT_FLOAT\\n        tensor_shape {\\n          dim {\\n            size: 3\\n          }\\n          dim {\\n            size: 3\\n          }\\n          dim {\\n            size: 112\\n          }\\n          dim {\\n            size: 224\\n          }\\n        }\\n        tensor_content: &quot;<stripped 903168 bytes>&quot;\\n      }\\n    }\\n  }\\n}\\nnode {\\n  name: &quot;mixed4b/3x3_b&quot;\\n  op: &quot;Const&quot;\\n  device: &quot;/cpu:0&quot;\\n  attr {\\n    key: &quot;dtype&quot;\\n    value {\\n      type: DT_FLOAT\\n    }\\n  }\\n  attr {\\n    key: &quot;value&quot;\\n    value {\\n      tensor {\\n        dtype: DT_FLOAT\\n        tensor_shape {\\n          dim {\\n            size: 224\\n          }\\n        }\\n        tensor_content: &quot;<stripped 896 bytes>&quot;\\n      }\\n    }\\n  }\\n}\\nnode {\\n  name: &quot;mixed4b/5x5_bottleneck_w&quot;\\n  op: &quot;Const&quot;\\n  device: &quot;/cpu:0&quot;\\n  attr {\\n    key: &quot;dtype&quot;\\n    value {\\n      type: DT_FLOAT\\n    }\\n  }\\n  attr {\\n    key: &quot;value&quot;\\n    value {\\n      tensor {\\n        dtype: DT_FLOAT\\n        tensor_shape {\\n          dim {\\n            size: 1\\n          }\\n          dim {\\n            size: 1\\n          }\\n          dim {\\n            size: 508\\n          }\\n          dim {\\n            size: 24\\n          }\\n        }\\n        tensor_content: &quot;<stripped 48768 bytes>&quot;\\n      }\\n    }\\n  }\\n}\\nnode {\\n  name: &quot;mixed4b/5x5_bottleneck_b&quot;\\n  op: &quot;Const&quot;\\n  device: &quot;/cpu:0&quot;\\n  attr {\\n    key: &quot;dtype&quot;\\n    value {\\n      type: DT_FLOAT\\n    }\\n  }\\n  attr {\\n    key: &quot;value&quot;\\n    value {\\n      tensor {\\n        dtype: DT_FLOAT\\n        tensor_shape {\\n          dim {\\n            size: 24\\n          }\\n        }\\n        tensor_content: &quot;<stripped 96 bytes>&quot;\\n      }\\n    }\\n  }\\n}\\nnode {\\n  name: &quot;mixed4b/5x5_w&quot;\\n  op: &quot;Const&quot;\\n  device: &quot;/cpu:0&quot;\\n  attr {\\n    key: &quot;dtype&quot;\\n    value {\\n      type: DT_FLOAT\\n    }\\n  }\\n  attr {\\n    key: &quot;value&quot;\\n    value {\\n      tensor {\\n        dtype: DT_FLOAT\\n        tensor_shape {\\n          dim {\\n            size: 5\\n          }\\n          dim {\\n            size: 5\\n          }\\n          dim {\\n            size: 24\\n          }\\n          dim {\\n            size: 64\\n          }\\n        }\\n        tensor_content: &quot;<stripped 153600 bytes>&quot;\\n      }\\n    }\\n  }\\n}\\nnode {\\n  name: &quot;mixed4b/5x5_b&quot;\\n  op: &quot;Const&quot;\\n  device: &quot;/cpu:0&quot;\\n  attr {\\n    key: &quot;dtype&quot;\\n    value {\\n      type: DT_FLOAT\\n    }\\n  }\\n  attr {\\n    key: &quot;value&quot;\\n    value {\\n      tensor {\\n        dtype: DT_FLOAT\\n        tensor_shape {\\n          dim {\\n            size: 64\\n          }\\n        }\\n        tensor_content: &quot;<stripped 256 bytes>&quot;\\n      }\\n    }\\n  }\\n}\\nnode {\\n  name: &quot;mixed4b/pool_reduce_w&quot;\\n  op: &quot;Const&quot;\\n  device: &quot;/cpu:0&quot;\\n  attr {\\n    key: &quot;dtype&quot;\\n    value {\\n      type: DT_FLOAT\\n    }\\n  }\\n  attr {\\n    key: &quot;value&quot;\\n    value {\\n      tensor {\\n        dtype: DT_FLOAT\\n        tensor_shape {\\n          dim {\\n            size: 1\\n          }\\n          dim {\\n            size: 1\\n          }\\n          dim {\\n            size: 508\\n          }\\n          dim {\\n            size: 64\\n          }\\n        }\\n        tensor_content: &quot;<stripped 130048 bytes>&quot;\\n      }\\n    }\\n  }\\n}\\nnode {\\n  name: &quot;mixed4b/pool_reduce_b&quot;\\n  op: &quot;Const&quot;\\n  device: &quot;/cpu:0&quot;\\n  attr {\\n    key: &quot;dtype&quot;\\n    value {\\n      type: DT_FLOAT\\n    }\\n  }\\n  attr {\\n    key: &quot;value&quot;\\n    value {\\n      tensor {\\n        dtype: DT_FLOAT\\n        tensor_shape {\\n          dim {\\n            size: 64\\n          }\\n        }\\n        tensor_content: &quot;<stripped 256 bytes>&quot;\\n      }\\n    }\\n  }\\n}\\nnode {\\n  name: &quot;mixed4c/1x1_w&quot;\\n  op: &quot;Const&quot;\\n  device: &quot;/cpu:0&quot;\\n  attr {\\n    key: &quot;dtype&quot;\\n    value {\\n      type: DT_FLOAT\\n    }\\n  }\\n  attr {\\n    key: &quot;value&quot;\\n    value {\\n      tensor {\\n        dtype: DT_FLOAT\\n        tensor_shape {\\n          dim {\\n            size: 1\\n          }\\n          dim {\\n            size: 1\\n          }\\n          dim {\\n            size: 512\\n          }\\n          dim {\\n            size: 128\\n          }\\n        }\\n        tensor_content: &quot;<stripped 262144 bytes>&quot;\\n      }\\n    }\\n  }\\n}\\nnode {\\n  name: &quot;mixed4c/1x1_b&quot;\\n  op: &quot;Const&quot;\\n  device: &quot;/cpu:0&quot;\\n  attr {\\n    key: &quot;dtype&quot;\\n    value {\\n      type: DT_FLOAT\\n    }\\n  }\\n  attr {\\n    key: &quot;value&quot;\\n    value {\\n      tensor {\\n        dtype: DT_FLOAT\\n        tensor_shape {\\n          dim {\\n            size: 128\\n          }\\n        }\\n        tensor_content: &quot;<stripped 512 bytes>&quot;\\n      }\\n    }\\n  }\\n}\\nnode {\\n  name: &quot;mixed4c/3x3_bottleneck_w&quot;\\n  op: &quot;Const&quot;\\n  device: &quot;/cpu:0&quot;\\n  attr {\\n    key: &quot;dtype&quot;\\n    value {\\n      type: DT_FLOAT\\n    }\\n  }\\n  attr {\\n    key: &quot;value&quot;\\n    value {\\n      tensor {\\n        dtype: DT_FLOAT\\n        tensor_shape {\\n          dim {\\n            size: 1\\n          }\\n          dim {\\n            size: 1\\n          }\\n          dim {\\n            size: 512\\n          }\\n          dim {\\n            size: 128\\n          }\\n        }\\n        tensor_content: &quot;<stripped 262144 bytes>&quot;\\n      }\\n    }\\n  }\\n}\\nnode {\\n  name: &quot;mixed4c/3x3_bottleneck_b&quot;\\n  op: &quot;Const&quot;\\n  device: &quot;/cpu:0&quot;\\n  attr {\\n    key: &quot;dtype&quot;\\n    value {\\n      type: DT_FLOAT\\n    }\\n  }\\n  attr {\\n    key: &quot;value&quot;\\n    value {\\n      tensor {\\n        dtype: DT_FLOAT\\n        tensor_shape {\\n          dim {\\n            size: 128\\n          }\\n        }\\n        tensor_content: &quot;<stripped 512 bytes>&quot;\\n      }\\n    }\\n  }\\n}\\nnode {\\n  name: &quot;mixed4c/3x3_w&quot;\\n  op: &quot;Const&quot;\\n  device: &quot;/cpu:0&quot;\\n  attr {\\n    key: &quot;dtype&quot;\\n    value {\\n      type: DT_FLOAT\\n    }\\n  }\\n  attr {\\n    key: &quot;value&quot;\\n    value {\\n      tensor {\\n        dtype: DT_FLOAT\\n        tensor_shape {\\n          dim {\\n            size: 3\\n          }\\n          dim {\\n            size: 3\\n          }\\n          dim {\\n            size: 128\\n          }\\n          dim {\\n            size: 256\\n          }\\n        }\\n        tensor_content: &quot;<stripped 1179648 bytes>&quot;\\n      }\\n    }\\n  }\\n}\\nnode {\\n  name: &quot;mixed4c/3x3_b&quot;\\n  op: &quot;Const&quot;\\n  device: &quot;/cpu:0&quot;\\n  attr {\\n    key: &quot;dtype&quot;\\n    value {\\n      type: DT_FLOAT\\n    }\\n  }\\n  attr {\\n    key: &quot;value&quot;\\n    value {\\n      tensor {\\n        dtype: DT_FLOAT\\n        tensor_shape {\\n          dim {\\n            size: 256\\n          }\\n        }\\n        tensor_content: &quot;<stripped 1024 bytes>&quot;\\n      }\\n    }\\n  }\\n}\\nnode {\\n  name: &quot;mixed4c/5x5_bottleneck_w&quot;\\n  op: &quot;Const&quot;\\n  device: &quot;/cpu:0&quot;\\n  attr {\\n    key: &quot;dtype&quot;\\n    value {\\n      type: DT_FLOAT\\n    }\\n  }\\n  attr {\\n    key: &quot;value&quot;\\n    value {\\n      tensor {\\n        dtype: DT_FLOAT\\n        tensor_shape {\\n          dim {\\n            size: 1\\n          }\\n          dim {\\n            size: 1\\n          }\\n          dim {\\n            size: 512\\n          }\\n          dim {\\n            size: 24\\n          }\\n        }\\n        tensor_content: &quot;<stripped 49152 bytes>&quot;\\n      }\\n    }\\n  }\\n}\\nnode {\\n  name: &quot;mixed4c/5x5_bottleneck_b&quot;\\n  op: &quot;Const&quot;\\n  device: &quot;/cpu:0&quot;\\n  attr {\\n    key: &quot;dtype&quot;\\n    value {\\n      type: DT_FLOAT\\n    }\\n  }\\n  attr {\\n    key: &quot;value&quot;\\n    value {\\n      tensor {\\n        dtype: DT_FLOAT\\n        tensor_shape {\\n          dim {\\n            size: 24\\n          }\\n        }\\n        tensor_content: &quot;<stripped 96 bytes>&quot;\\n      }\\n    }\\n  }\\n}\\nnode {\\n  name: &quot;mixed4c/5x5_w&quot;\\n  op: &quot;Const&quot;\\n  device: &quot;/cpu:0&quot;\\n  attr {\\n    key: &quot;dtype&quot;\\n    value {\\n      type: DT_FLOAT\\n    }\\n  }\\n  attr {\\n    key: &quot;value&quot;\\n    value {\\n      tensor {\\n        dtype: DT_FLOAT\\n        tensor_shape {\\n          dim {\\n            size: 5\\n          }\\n          dim {\\n            size: 5\\n          }\\n          dim {\\n            size: 24\\n          }\\n          dim {\\n            size: 64\\n          }\\n        }\\n        tensor_content: &quot;<stripped 153600 bytes>&quot;\\n      }\\n    }\\n  }\\n}\\nnode {\\n  name: &quot;mixed4c/5x5_b&quot;\\n  op: &quot;Const&quot;\\n  device: &quot;/cpu:0&quot;\\n  attr {\\n    key: &quot;dtype&quot;\\n    value {\\n      type: DT_FLOAT\\n    }\\n  }\\n  attr {\\n    key: &quot;value&quot;\\n    value {\\n      tensor {\\n        dtype: DT_FLOAT\\n        tensor_shape {\\n          dim {\\n            size: 64\\n          }\\n        }\\n        tensor_content: &quot;<stripped 256 bytes>&quot;\\n      }\\n    }\\n  }\\n}\\nnode {\\n  name: &quot;mixed4c/pool_reduce_w&quot;\\n  op: &quot;Const&quot;\\n  device: &quot;/cpu:0&quot;\\n  attr {\\n    key: &quot;dtype&quot;\\n    value {\\n      type: DT_FLOAT\\n    }\\n  }\\n  attr {\\n    key: &quot;value&quot;\\n    value {\\n      tensor {\\n        dtype: DT_FLOAT\\n        tensor_shape {\\n          dim {\\n            size: 1\\n          }\\n          dim {\\n            size: 1\\n          }\\n          dim {\\n            size: 512\\n          }\\n          dim {\\n            size: 64\\n          }\\n        }\\n        tensor_content: &quot;<stripped 131072 bytes>&quot;\\n      }\\n    }\\n  }\\n}\\nnode {\\n  name: &quot;mixed4c/pool_reduce_b&quot;\\n  op: &quot;Const&quot;\\n  device: &quot;/cpu:0&quot;\\n  attr {\\n    key: &quot;dtype&quot;\\n    value {\\n      type: DT_FLOAT\\n    }\\n  }\\n  attr {\\n    key: &quot;value&quot;\\n    value {\\n      tensor {\\n        dtype: DT_FLOAT\\n        tensor_shape {\\n          dim {\\n            size: 64\\n          }\\n        }\\n        tensor_content: &quot;<stripped 256 bytes>&quot;\\n      }\\n    }\\n  }\\n}\\nnode {\\n  name: &quot;mixed4d/1x1_w&quot;\\n  op: &quot;Const&quot;\\n  device: &quot;/cpu:0&quot;\\n  attr {\\n    key: &quot;dtype&quot;\\n    value {\\n      type: DT_FLOAT\\n    }\\n  }\\n  attr {\\n    key: &quot;value&quot;\\n    value {\\n      tensor {\\n        dtype: DT_FLOAT\\n        tensor_shape {\\n          dim {\\n            size: 1\\n          }\\n          dim {\\n            size: 1\\n          }\\n          dim {\\n            size: 512\\n          }\\n          dim {\\n            size: 112\\n          }\\n        }\\n        tensor_content: &quot;<stripped 229376 bytes>&quot;\\n      }\\n    }\\n  }\\n}\\nnode {\\n  name: &quot;mixed4d/1x1_b&quot;\\n  op: &quot;Const&quot;\\n  device: &quot;/cpu:0&quot;\\n  attr {\\n    key: &quot;dtype&quot;\\n    value {\\n      type: DT_FLOAT\\n    }\\n  }\\n  attr {\\n    key: &quot;value&quot;\\n    value {\\n      tensor {\\n        dtype: DT_FLOAT\\n        tensor_shape {\\n          dim {\\n            size: 112\\n          }\\n        }\\n        tensor_content: &quot;<stripped 448 bytes>&quot;\\n      }\\n    }\\n  }\\n}\\nnode {\\n  name: &quot;mixed4d/3x3_bottleneck_w&quot;\\n  op: &quot;Const&quot;\\n  device: &quot;/cpu:0&quot;\\n  attr {\\n    key: &quot;dtype&quot;\\n    value {\\n      type: DT_FLOAT\\n    }\\n  }\\n  attr {\\n    key: &quot;value&quot;\\n    value {\\n      tensor {\\n        dtype: DT_FLOAT\\n        tensor_shape {\\n          dim {\\n            size: 1\\n          }\\n          dim {\\n            size: 1\\n          }\\n          dim {\\n            size: 512\\n          }\\n          dim {\\n            size: 144\\n          }\\n        }\\n        tensor_content: &quot;<stripped 294912 bytes>&quot;\\n      }\\n    }\\n  }\\n}\\nnode {\\n  name: &quot;mixed4d/3x3_bottleneck_b&quot;\\n  op: &quot;Const&quot;\\n  device: &quot;/cpu:0&quot;\\n  attr {\\n    key: &quot;dtype&quot;\\n    value {\\n      type: DT_FLOAT\\n    }\\n  }\\n  attr {\\n    key: &quot;value&quot;\\n    value {\\n      tensor {\\n        dtype: DT_FLOAT\\n        tensor_shape {\\n          dim {\\n            size: 144\\n          }\\n        }\\n        tensor_content: &quot;<stripped 576 bytes>&quot;\\n      }\\n    }\\n  }\\n}\\nnode {\\n  name: &quot;mixed4d/3x3_w&quot;\\n  op: &quot;Const&quot;\\n  device: &quot;/cpu:0&quot;\\n  attr {\\n    key: &quot;dtype&quot;\\n    value {\\n      type: DT_FLOAT\\n    }\\n  }\\n  attr {\\n    key: &quot;value&quot;\\n    value {\\n      tensor {\\n        dtype: DT_FLOAT\\n        tensor_shape {\\n          dim {\\n            size: 3\\n          }\\n          dim {\\n            size: 3\\n          }\\n          dim {\\n            size: 144\\n          }\\n          dim {\\n            size: 288\\n          }\\n        }\\n        tensor_content: &quot;<stripped 1492992 bytes>&quot;\\n      }\\n    }\\n  }\\n}\\nnode {\\n  name: &quot;mixed4d/3x3_b&quot;\\n  op: &quot;Const&quot;\\n  device: &quot;/cpu:0&quot;\\n  attr {\\n    key: &quot;dtype&quot;\\n    value {\\n      type: DT_FLOAT\\n    }\\n  }\\n  attr {\\n    key: &quot;value&quot;\\n    value {\\n      tensor {\\n        dtype: DT_FLOAT\\n        tensor_shape {\\n          dim {\\n            size: 288\\n          }\\n        }\\n        tensor_content: &quot;<stripped 1152 bytes>&quot;\\n      }\\n    }\\n  }\\n}\\nnode {\\n  name: &quot;mixed4d/5x5_bottleneck_w&quot;\\n  op: &quot;Const&quot;\\n  device: &quot;/cpu:0&quot;\\n  attr {\\n    key: &quot;dtype&quot;\\n    value {\\n      type: DT_FLOAT\\n    }\\n  }\\n  attr {\\n    key: &quot;value&quot;\\n    value {\\n      tensor {\\n        dtype: DT_FLOAT\\n        tensor_shape {\\n          dim {\\n            size: 1\\n          }\\n          dim {\\n            size: 1\\n          }\\n          dim {\\n            size: 512\\n          }\\n          dim {\\n            size: 32\\n          }\\n        }\\n        tensor_content: &quot;<stripped 65536 bytes>&quot;\\n      }\\n    }\\n  }\\n}\\nnode {\\n  name: &quot;mixed4d/5x5_bottleneck_b&quot;\\n  op: &quot;Const&quot;\\n  device: &quot;/cpu:0&quot;\\n  attr {\\n    key: &quot;dtype&quot;\\n    value {\\n      type: DT_FLOAT\\n    }\\n  }\\n  attr {\\n    key: &quot;value&quot;\\n    value {\\n      tensor {\\n        dtype: DT_FLOAT\\n        tensor_shape {\\n          dim {\\n            size: 32\\n          }\\n        }\\n        tensor_content: &quot;<stripped 128 bytes>&quot;\\n      }\\n    }\\n  }\\n}\\nnode {\\n  name: &quot;mixed4d/5x5_w&quot;\\n  op: &quot;Const&quot;\\n  device: &quot;/cpu:0&quot;\\n  attr {\\n    key: &quot;dtype&quot;\\n    value {\\n      type: DT_FLOAT\\n    }\\n  }\\n  attr {\\n    key: &quot;value&quot;\\n    value {\\n      tensor {\\n        dtype: DT_FLOAT\\n        tensor_shape {\\n          dim {\\n            size: 5\\n          }\\n          dim {\\n            size: 5\\n          }\\n          dim {\\n            size: 32\\n          }\\n          dim {\\n            size: 64\\n          }\\n        }\\n        tensor_content: &quot;<stripped 204800 bytes>&quot;\\n      }\\n    }\\n  }\\n}\\nnode {\\n  name: &quot;mixed4d/5x5_b&quot;\\n  op: &quot;Const&quot;\\n  device: &quot;/cpu:0&quot;\\n  attr {\\n    key: &quot;dtype&quot;\\n    value {\\n      type: DT_FLOAT\\n    }\\n  }\\n  attr {\\n    key: &quot;value&quot;\\n    value {\\n      tensor {\\n        dtype: DT_FLOAT\\n        tensor_shape {\\n          dim {\\n            size: 64\\n          }\\n        }\\n        tensor_content: &quot;<stripped 256 bytes>&quot;\\n      }\\n    }\\n  }\\n}\\nnode {\\n  name: &quot;mixed4d/pool_reduce_w&quot;\\n  op: &quot;Const&quot;\\n  device: &quot;/cpu:0&quot;\\n  attr {\\n    key: &quot;dtype&quot;\\n    value {\\n      type: DT_FLOAT\\n    }\\n  }\\n  attr {\\n    key: &quot;value&quot;\\n    value {\\n      tensor {\\n        dtype: DT_FLOAT\\n        tensor_shape {\\n          dim {\\n            size: 1\\n          }\\n          dim {\\n            size: 1\\n          }\\n          dim {\\n            size: 512\\n          }\\n          dim {\\n            size: 64\\n          }\\n        }\\n        tensor_content: &quot;<stripped 131072 bytes>&quot;\\n      }\\n    }\\n  }\\n}\\nnode {\\n  name: &quot;mixed4d/pool_reduce_b&quot;\\n  op: &quot;Const&quot;\\n  device: &quot;/cpu:0&quot;\\n  attr {\\n    key: &quot;dtype&quot;\\n    value {\\n      type: DT_FLOAT\\n    }\\n  }\\n  attr {\\n    key: &quot;value&quot;\\n    value {\\n      tensor {\\n        dtype: DT_FLOAT\\n        tensor_shape {\\n          dim {\\n            size: 64\\n          }\\n        }\\n        tensor_content: &quot;<stripped 256 bytes>&quot;\\n      }\\n    }\\n  }\\n}\\nnode {\\n  name: &quot;mixed4e/1x1_w&quot;\\n  op: &quot;Const&quot;\\n  device: &quot;/cpu:0&quot;\\n  attr {\\n    key: &quot;dtype&quot;\\n    value {\\n      type: DT_FLOAT\\n    }\\n  }\\n  attr {\\n    key: &quot;value&quot;\\n    value {\\n      tensor {\\n        dtype: DT_FLOAT\\n        tensor_shape {\\n          dim {\\n            size: 1\\n          }\\n          dim {\\n            size: 1\\n          }\\n          dim {\\n            size: 528\\n          }\\n          dim {\\n            size: 256\\n          }\\n        }\\n        tensor_content: &quot;<stripped 540672 bytes>&quot;\\n      }\\n    }\\n  }\\n}\\nnode {\\n  name: &quot;mixed4e/1x1_b&quot;\\n  op: &quot;Const&quot;\\n  device: &quot;/cpu:0&quot;\\n  attr {\\n    key: &quot;dtype&quot;\\n    value {\\n      type: DT_FLOAT\\n    }\\n  }\\n  attr {\\n    key: &quot;value&quot;\\n    value {\\n      tensor {\\n        dtype: DT_FLOAT\\n        tensor_shape {\\n          dim {\\n            size: 256\\n          }\\n        }\\n        tensor_content: &quot;<stripped 1024 bytes>&quot;\\n      }\\n    }\\n  }\\n}\\nnode {\\n  name: &quot;mixed4e/3x3_bottleneck_w&quot;\\n  op: &quot;Const&quot;\\n  device: &quot;/cpu:0&quot;\\n  attr {\\n    key: &quot;dtype&quot;\\n    value {\\n      type: DT_FLOAT\\n    }\\n  }\\n  attr {\\n    key: &quot;value&quot;\\n    value {\\n      tensor {\\n        dtype: DT_FLOAT\\n        tensor_shape {\\n          dim {\\n            size: 1\\n          }\\n          dim {\\n            size: 1\\n          }\\n          dim {\\n            size: 528\\n          }\\n          dim {\\n            size: 160\\n          }\\n        }\\n        tensor_content: &quot;<stripped 337920 bytes>&quot;\\n      }\\n    }\\n  }\\n}\\nnode {\\n  name: &quot;mixed4e/3x3_bottleneck_b&quot;\\n  op: &quot;Const&quot;\\n  device: &quot;/cpu:0&quot;\\n  attr {\\n    key: &quot;dtype&quot;\\n    value {\\n      type: DT_FLOAT\\n    }\\n  }\\n  attr {\\n    key: &quot;value&quot;\\n    value {\\n      tensor {\\n        dtype: DT_FLOAT\\n        tensor_shape {\\n          dim {\\n            size: 160\\n          }\\n        }\\n        tensor_content: &quot;<stripped 640 bytes>&quot;\\n      }\\n    }\\n  }\\n}\\nnode {\\n  name: &quot;mixed4e/3x3_w&quot;\\n  op: &quot;Const&quot;\\n  device: &quot;/cpu:0&quot;\\n  attr {\\n    key: &quot;dtype&quot;\\n    value {\\n      type: DT_FLOAT\\n    }\\n  }\\n  attr {\\n    key: &quot;value&quot;\\n    value {\\n      tensor {\\n        dtype: DT_FLOAT\\n        tensor_shape {\\n          dim {\\n            size: 3\\n          }\\n          dim {\\n            size: 3\\n          }\\n          dim {\\n            size: 160\\n          }\\n          dim {\\n            size: 320\\n          }\\n        }\\n        tensor_content: &quot;<stripped 1843200 bytes>&quot;\\n      }\\n    }\\n  }\\n}\\nnode {\\n  name: &quot;mixed4e/3x3_b&quot;\\n  op: &quot;Const&quot;\\n  device: &quot;/cpu:0&quot;\\n  attr {\\n    key: &quot;dtype&quot;\\n    value {\\n      type: DT_FLOAT\\n    }\\n  }\\n  attr {\\n    key: &quot;value&quot;\\n    value {\\n      tensor {\\n        dtype: DT_FLOAT\\n        tensor_shape {\\n          dim {\\n            size: 320\\n          }\\n        }\\n        tensor_content: &quot;<stripped 1280 bytes>&quot;\\n      }\\n    }\\n  }\\n}\\nnode {\\n  name: &quot;mixed4e/5x5_bottleneck_w&quot;\\n  op: &quot;Const&quot;\\n  device: &quot;/cpu:0&quot;\\n  attr {\\n    key: &quot;dtype&quot;\\n    value {\\n      type: DT_FLOAT\\n    }\\n  }\\n  attr {\\n    key: &quot;value&quot;\\n    value {\\n      tensor {\\n        dtype: DT_FLOAT\\n        tensor_shape {\\n          dim {\\n            size: 1\\n          }\\n          dim {\\n            size: 1\\n          }\\n          dim {\\n            size: 528\\n          }\\n          dim {\\n            size: 32\\n          }\\n        }\\n        tensor_content: &quot;<stripped 67584 bytes>&quot;\\n      }\\n    }\\n  }\\n}\\nnode {\\n  name: &quot;mixed4e/5x5_bottleneck_b&quot;\\n  op: &quot;Const&quot;\\n  device: &quot;/cpu:0&quot;\\n  attr {\\n    key: &quot;dtype&quot;\\n    value {\\n      type: DT_FLOAT\\n    }\\n  }\\n  attr {\\n    key: &quot;value&quot;\\n    value {\\n      tensor {\\n        dtype: DT_FLOAT\\n        tensor_shape {\\n          dim {\\n            size: 32\\n          }\\n        }\\n        tensor_content: &quot;<stripped 128 bytes>&quot;\\n      }\\n    }\\n  }\\n}\\nnode {\\n  name: &quot;mixed4e/5x5_w&quot;\\n  op: &quot;Const&quot;\\n  device: &quot;/cpu:0&quot;\\n  attr {\\n    key: &quot;dtype&quot;\\n    value {\\n      type: DT_FLOAT\\n    }\\n  }\\n  attr {\\n    key: &quot;value&quot;\\n    value {\\n      tensor {\\n        dtype: DT_FLOAT\\n        tensor_shape {\\n          dim {\\n            size: 5\\n          }\\n          dim {\\n            size: 5\\n          }\\n          dim {\\n            size: 32\\n          }\\n          dim {\\n            size: 128\\n          }\\n        }\\n        tensor_content: &quot;<stripped 409600 bytes>&quot;\\n      }\\n    }\\n  }\\n}\\nnode {\\n  name: &quot;mixed4e/5x5_b&quot;\\n  op: &quot;Const&quot;\\n  device: &quot;/cpu:0&quot;\\n  attr {\\n    key: &quot;dtype&quot;\\n    value {\\n      type: DT_FLOAT\\n    }\\n  }\\n  attr {\\n    key: &quot;value&quot;\\n    value {\\n      tensor {\\n        dtype: DT_FLOAT\\n        tensor_shape {\\n          dim {\\n            size: 128\\n          }\\n        }\\n        tensor_content: &quot;<stripped 512 bytes>&quot;\\n      }\\n    }\\n  }\\n}\\nnode {\\n  name: &quot;mixed4e/pool_reduce_w&quot;\\n  op: &quot;Const&quot;\\n  device: &quot;/cpu:0&quot;\\n  attr {\\n    key: &quot;dtype&quot;\\n    value {\\n      type: DT_FLOAT\\n    }\\n  }\\n  attr {\\n    key: &quot;value&quot;\\n    value {\\n      tensor {\\n        dtype: DT_FLOAT\\n        tensor_shape {\\n          dim {\\n            size: 1\\n          }\\n          dim {\\n            size: 1\\n          }\\n          dim {\\n            size: 528\\n          }\\n          dim {\\n            size: 128\\n          }\\n        }\\n        tensor_content: &quot;<stripped 270336 bytes>&quot;\\n      }\\n    }\\n  }\\n}\\nnode {\\n  name: &quot;mixed4e/pool_reduce_b&quot;\\n  op: &quot;Const&quot;\\n  device: &quot;/cpu:0&quot;\\n  attr {\\n    key: &quot;dtype&quot;\\n    value {\\n      type: DT_FLOAT\\n    }\\n  }\\n  attr {\\n    key: &quot;value&quot;\\n    value {\\n      tensor {\\n        dtype: DT_FLOAT\\n        tensor_shape {\\n          dim {\\n            size: 128\\n          }\\n        }\\n        tensor_content: &quot;<stripped 512 bytes>&quot;\\n      }\\n    }\\n  }\\n}\\nnode {\\n  name: &quot;mixed5a/1x1_w&quot;\\n  op: &quot;Const&quot;\\n  device: &quot;/cpu:0&quot;\\n  attr {\\n    key: &quot;dtype&quot;\\n    value {\\n      type: DT_FLOAT\\n    }\\n  }\\n  attr {\\n    key: &quot;value&quot;\\n    value {\\n      tensor {\\n        dtype: DT_FLOAT\\n        tensor_shape {\\n          dim {\\n            size: 1\\n          }\\n          dim {\\n            size: 1\\n          }\\n          dim {\\n            size: 832\\n          }\\n          dim {\\n            size: 256\\n          }\\n        }\\n        tensor_content: &quot;<stripped 851968 bytes>&quot;\\n      }\\n    }\\n  }\\n}\\nnode {\\n  name: &quot;mixed5a/1x1_b&quot;\\n  op: &quot;Const&quot;\\n  device: &quot;/cpu:0&quot;\\n  attr {\\n    key: &quot;dtype&quot;\\n    value {\\n      type: DT_FLOAT\\n    }\\n  }\\n  attr {\\n    key: &quot;value&quot;\\n    value {\\n      tensor {\\n        dtype: DT_FLOAT\\n        tensor_shape {\\n          dim {\\n            size: 256\\n          }\\n        }\\n        tensor_content: &quot;<stripped 1024 bytes>&quot;\\n      }\\n    }\\n  }\\n}\\nnode {\\n  name: &quot;mixed5a/3x3_bottleneck_w&quot;\\n  op: &quot;Const&quot;\\n  device: &quot;/cpu:0&quot;\\n  attr {\\n    key: &quot;dtype&quot;\\n    value {\\n      type: DT_FLOAT\\n    }\\n  }\\n  attr {\\n    key: &quot;value&quot;\\n    value {\\n      tensor {\\n        dtype: DT_FLOAT\\n        tensor_shape {\\n          dim {\\n            size: 1\\n          }\\n          dim {\\n            size: 1\\n          }\\n          dim {\\n            size: 832\\n          }\\n          dim {\\n            size: 160\\n          }\\n        }\\n        tensor_content: &quot;<stripped 532480 bytes>&quot;\\n      }\\n    }\\n  }\\n}\\nnode {\\n  name: &quot;mixed5a/3x3_bottleneck_b&quot;\\n  op: &quot;Const&quot;\\n  device: &quot;/cpu:0&quot;\\n  attr {\\n    key: &quot;dtype&quot;\\n    value {\\n      type: DT_FLOAT\\n    }\\n  }\\n  attr {\\n    key: &quot;value&quot;\\n    value {\\n      tensor {\\n        dtype: DT_FLOAT\\n        tensor_shape {\\n          dim {\\n            size: 160\\n          }\\n        }\\n        tensor_content: &quot;<stripped 640 bytes>&quot;\\n      }\\n    }\\n  }\\n}\\nnode {\\n  name: &quot;mixed5a/3x3_w&quot;\\n  op: &quot;Const&quot;\\n  device: &quot;/cpu:0&quot;\\n  attr {\\n    key: &quot;dtype&quot;\\n    value {\\n      type: DT_FLOAT\\n    }\\n  }\\n  attr {\\n    key: &quot;value&quot;\\n    value {\\n      tensor {\\n        dtype: DT_FLOAT\\n        tensor_shape {\\n          dim {\\n            size: 3\\n          }\\n          dim {\\n            size: 3\\n          }\\n          dim {\\n            size: 160\\n          }\\n          dim {\\n            size: 320\\n          }\\n        }\\n        tensor_content: &quot;<stripped 1843200 bytes>&quot;\\n      }\\n    }\\n  }\\n}\\nnode {\\n  name: &quot;mixed5a/3x3_b&quot;\\n  op: &quot;Const&quot;\\n  device: &quot;/cpu:0&quot;\\n  attr {\\n    key: &quot;dtype&quot;\\n    value {\\n      type: DT_FLOAT\\n    }\\n  }\\n  attr {\\n    key: &quot;value&quot;\\n    value {\\n      tensor {\\n        dtype: DT_FLOAT\\n        tensor_shape {\\n          dim {\\n            size: 320\\n          }\\n        }\\n        tensor_content: &quot;<stripped 1280 bytes>&quot;\\n      }\\n    }\\n  }\\n}\\nnode {\\n  name: &quot;mixed5a/5x5_bottleneck_w&quot;\\n  op: &quot;Const&quot;\\n  device: &quot;/cpu:0&quot;\\n  attr {\\n    key: &quot;dtype&quot;\\n    value {\\n      type: DT_FLOAT\\n    }\\n  }\\n  attr {\\n    key: &quot;value&quot;\\n    value {\\n      tensor {\\n        dtype: DT_FLOAT\\n        tensor_shape {\\n          dim {\\n            size: 1\\n          }\\n          dim {\\n            size: 1\\n          }\\n          dim {\\n            size: 832\\n          }\\n          dim {\\n            size: 48\\n          }\\n        }\\n        tensor_content: &quot;<stripped 159744 bytes>&quot;\\n      }\\n    }\\n  }\\n}\\nnode {\\n  name: &quot;mixed5a/5x5_bottleneck_b&quot;\\n  op: &quot;Const&quot;\\n  device: &quot;/cpu:0&quot;\\n  attr {\\n    key: &quot;dtype&quot;\\n    value {\\n      type: DT_FLOAT\\n    }\\n  }\\n  attr {\\n    key: &quot;value&quot;\\n    value {\\n      tensor {\\n        dtype: DT_FLOAT\\n        tensor_shape {\\n          dim {\\n            size: 48\\n          }\\n        }\\n        tensor_content: &quot;<stripped 192 bytes>&quot;\\n      }\\n    }\\n  }\\n}\\nnode {\\n  name: &quot;mixed5a/5x5_w&quot;\\n  op: &quot;Const&quot;\\n  device: &quot;/cpu:0&quot;\\n  attr {\\n    key: &quot;dtype&quot;\\n    value {\\n      type: DT_FLOAT\\n    }\\n  }\\n  attr {\\n    key: &quot;value&quot;\\n    value {\\n      tensor {\\n        dtype: DT_FLOAT\\n        tensor_shape {\\n          dim {\\n            size: 5\\n          }\\n          dim {\\n            size: 5\\n          }\\n          dim {\\n            size: 48\\n          }\\n          dim {\\n            size: 128\\n          }\\n        }\\n        tensor_content: &quot;<stripped 614400 bytes>&quot;\\n      }\\n    }\\n  }\\n}\\nnode {\\n  name: &quot;mixed5a/5x5_b&quot;\\n  op: &quot;Const&quot;\\n  device: &quot;/cpu:0&quot;\\n  attr {\\n    key: &quot;dtype&quot;\\n    value {\\n      type: DT_FLOAT\\n    }\\n  }\\n  attr {\\n    key: &quot;value&quot;\\n    value {\\n      tensor {\\n        dtype: DT_FLOAT\\n        tensor_shape {\\n          dim {\\n            size: 128\\n          }\\n        }\\n        tensor_content: &quot;<stripped 512 bytes>&quot;\\n      }\\n    }\\n  }\\n}\\nnode {\\n  name: &quot;mixed5a/pool_reduce_w&quot;\\n  op: &quot;Const&quot;\\n  device: &quot;/cpu:0&quot;\\n  attr {\\n    key: &quot;dtype&quot;\\n    value {\\n      type: DT_FLOAT\\n    }\\n  }\\n  attr {\\n    key: &quot;value&quot;\\n    value {\\n      tensor {\\n        dtype: DT_FLOAT\\n        tensor_shape {\\n          dim {\\n            size: 1\\n          }\\n          dim {\\n            size: 1\\n          }\\n          dim {\\n            size: 832\\n          }\\n          dim {\\n            size: 128\\n          }\\n        }\\n        tensor_content: &quot;<stripped 425984 bytes>&quot;\\n      }\\n    }\\n  }\\n}\\nnode {\\n  name: &quot;mixed5a/pool_reduce_b&quot;\\n  op: &quot;Const&quot;\\n  device: &quot;/cpu:0&quot;\\n  attr {\\n    key: &quot;dtype&quot;\\n    value {\\n      type: DT_FLOAT\\n    }\\n  }\\n  attr {\\n    key: &quot;value&quot;\\n    value {\\n      tensor {\\n        dtype: DT_FLOAT\\n        tensor_shape {\\n          dim {\\n            size: 128\\n          }\\n        }\\n        tensor_content: &quot;<stripped 512 bytes>&quot;\\n      }\\n    }\\n  }\\n}\\nnode {\\n  name: &quot;mixed5b/1x1_w&quot;\\n  op: &quot;Const&quot;\\n  device: &quot;/cpu:0&quot;\\n  attr {\\n    key: &quot;dtype&quot;\\n    value {\\n      type: DT_FLOAT\\n    }\\n  }\\n  attr {\\n    key: &quot;value&quot;\\n    value {\\n      tensor {\\n        dtype: DT_FLOAT\\n        tensor_shape {\\n          dim {\\n            size: 1\\n          }\\n          dim {\\n            size: 1\\n          }\\n          dim {\\n            size: 832\\n          }\\n          dim {\\n            size: 384\\n          }\\n        }\\n        tensor_content: &quot;<stripped 1277952 bytes>&quot;\\n      }\\n    }\\n  }\\n}\\nnode {\\n  name: &quot;mixed5b/1x1_b&quot;\\n  op: &quot;Const&quot;\\n  device: &quot;/cpu:0&quot;\\n  attr {\\n    key: &quot;dtype&quot;\\n    value {\\n      type: DT_FLOAT\\n    }\\n  }\\n  attr {\\n    key: &quot;value&quot;\\n    value {\\n      tensor {\\n        dtype: DT_FLOAT\\n        tensor_shape {\\n          dim {\\n            size: 384\\n          }\\n        }\\n        tensor_content: &quot;<stripped 1536 bytes>&quot;\\n      }\\n    }\\n  }\\n}\\nnode {\\n  name: &quot;mixed5b/3x3_bottleneck_w&quot;\\n  op: &quot;Const&quot;\\n  device: &quot;/cpu:0&quot;\\n  attr {\\n    key: &quot;dtype&quot;\\n    value {\\n      type: DT_FLOAT\\n    }\\n  }\\n  attr {\\n    key: &quot;value&quot;\\n    value {\\n      tensor {\\n        dtype: DT_FLOAT\\n        tensor_shape {\\n          dim {\\n            size: 1\\n          }\\n          dim {\\n            size: 1\\n          }\\n          dim {\\n            size: 832\\n          }\\n          dim {\\n            size: 192\\n          }\\n        }\\n        tensor_content: &quot;<stripped 638976 bytes>&quot;\\n      }\\n    }\\n  }\\n}\\nnode {\\n  name: &quot;mixed5b/3x3_bottleneck_b&quot;\\n  op: &quot;Const&quot;\\n  device: &quot;/cpu:0&quot;\\n  attr {\\n    key: &quot;dtype&quot;\\n    value {\\n      type: DT_FLOAT\\n    }\\n  }\\n  attr {\\n    key: &quot;value&quot;\\n    value {\\n      tensor {\\n        dtype: DT_FLOAT\\n        tensor_shape {\\n          dim {\\n            size: 192\\n          }\\n        }\\n        tensor_content: &quot;<stripped 768 bytes>&quot;\\n      }\\n    }\\n  }\\n}\\nnode {\\n  name: &quot;mixed5b/3x3_w&quot;\\n  op: &quot;Const&quot;\\n  device: &quot;/cpu:0&quot;\\n  attr {\\n    key: &quot;dtype&quot;\\n    value {\\n      type: DT_FLOAT\\n    }\\n  }\\n  attr {\\n    key: &quot;value&quot;\\n    value {\\n      tensor {\\n        dtype: DT_FLOAT\\n        tensor_shape {\\n          dim {\\n            size: 3\\n          }\\n          dim {\\n            size: 3\\n          }\\n          dim {\\n            size: 192\\n          }\\n          dim {\\n            size: 384\\n          }\\n        }\\n        tensor_content: &quot;<stripped 2654208 bytes>&quot;\\n      }\\n    }\\n  }\\n}\\nnode {\\n  name: &quot;mixed5b/3x3_b&quot;\\n  op: &quot;Const&quot;\\n  device: &quot;/cpu:0&quot;\\n  attr {\\n    key: &quot;dtype&quot;\\n    value {\\n      type: DT_FLOAT\\n    }\\n  }\\n  attr {\\n    key: &quot;value&quot;\\n    value {\\n      tensor {\\n        dtype: DT_FLOAT\\n        tensor_shape {\\n          dim {\\n            size: 384\\n          }\\n        }\\n        tensor_content: &quot;<stripped 1536 bytes>&quot;\\n      }\\n    }\\n  }\\n}\\nnode {\\n  name: &quot;mixed5b/5x5_bottleneck_w&quot;\\n  op: &quot;Const&quot;\\n  device: &quot;/cpu:0&quot;\\n  attr {\\n    key: &quot;dtype&quot;\\n    value {\\n      type: DT_FLOAT\\n    }\\n  }\\n  attr {\\n    key: &quot;value&quot;\\n    value {\\n      tensor {\\n        dtype: DT_FLOAT\\n        tensor_shape {\\n          dim {\\n            size: 1\\n          }\\n          dim {\\n            size: 1\\n          }\\n          dim {\\n            size: 832\\n          }\\n          dim {\\n            size: 48\\n          }\\n        }\\n        tensor_content: &quot;<stripped 159744 bytes>&quot;\\n      }\\n    }\\n  }\\n}\\nnode {\\n  name: &quot;mixed5b/5x5_bottleneck_b&quot;\\n  op: &quot;Const&quot;\\n  device: &quot;/cpu:0&quot;\\n  attr {\\n    key: &quot;dtype&quot;\\n    value {\\n      type: DT_FLOAT\\n    }\\n  }\\n  attr {\\n    key: &quot;value&quot;\\n    value {\\n      tensor {\\n        dtype: DT_FLOAT\\n        tensor_shape {\\n          dim {\\n            size: 48\\n          }\\n        }\\n        tensor_content: &quot;<stripped 192 bytes>&quot;\\n      }\\n    }\\n  }\\n}\\nnode {\\n  name: &quot;mixed5b/5x5_w&quot;\\n  op: &quot;Const&quot;\\n  device: &quot;/cpu:0&quot;\\n  attr {\\n    key: &quot;dtype&quot;\\n    value {\\n      type: DT_FLOAT\\n    }\\n  }\\n  attr {\\n    key: &quot;value&quot;\\n    value {\\n      tensor {\\n        dtype: DT_FLOAT\\n        tensor_shape {\\n          dim {\\n            size: 5\\n          }\\n          dim {\\n            size: 5\\n          }\\n          dim {\\n            size: 48\\n          }\\n          dim {\\n            size: 128\\n          }\\n        }\\n        tensor_content: &quot;<stripped 614400 bytes>&quot;\\n      }\\n    }\\n  }\\n}\\nnode {\\n  name: &quot;mixed5b/5x5_b&quot;\\n  op: &quot;Const&quot;\\n  device: &quot;/cpu:0&quot;\\n  attr {\\n    key: &quot;dtype&quot;\\n    value {\\n      type: DT_FLOAT\\n    }\\n  }\\n  attr {\\n    key: &quot;value&quot;\\n    value {\\n      tensor {\\n        dtype: DT_FLOAT\\n        tensor_shape {\\n          dim {\\n            size: 128\\n          }\\n        }\\n        tensor_content: &quot;<stripped 512 bytes>&quot;\\n      }\\n    }\\n  }\\n}\\nnode {\\n  name: &quot;mixed5b/pool_reduce_w&quot;\\n  op: &quot;Const&quot;\\n  device: &quot;/cpu:0&quot;\\n  attr {\\n    key: &quot;dtype&quot;\\n    value {\\n      type: DT_FLOAT\\n    }\\n  }\\n  attr {\\n    key: &quot;value&quot;\\n    value {\\n      tensor {\\n        dtype: DT_FLOAT\\n        tensor_shape {\\n          dim {\\n            size: 1\\n          }\\n          dim {\\n            size: 1\\n          }\\n          dim {\\n            size: 832\\n          }\\n          dim {\\n            size: 128\\n          }\\n        }\\n        tensor_content: &quot;<stripped 425984 bytes>&quot;\\n      }\\n    }\\n  }\\n}\\nnode {\\n  name: &quot;mixed5b/pool_reduce_b&quot;\\n  op: &quot;Const&quot;\\n  device: &quot;/cpu:0&quot;\\n  attr {\\n    key: &quot;dtype&quot;\\n    value {\\n      type: DT_FLOAT\\n    }\\n  }\\n  attr {\\n    key: &quot;value&quot;\\n    value {\\n      tensor {\\n        dtype: DT_FLOAT\\n        tensor_shape {\\n          dim {\\n            size: 128\\n          }\\n        }\\n        tensor_content: &quot;<stripped 512 bytes>&quot;\\n      }\\n    }\\n  }\\n}\\nnode {\\n  name: &quot;head0/bottleneck_w&quot;\\n  op: &quot;Const&quot;\\n  device: &quot;/cpu:0&quot;\\n  attr {\\n    key: &quot;dtype&quot;\\n    value {\\n      type: DT_FLOAT\\n    }\\n  }\\n  attr {\\n    key: &quot;value&quot;\\n    value {\\n      tensor {\\n        dtype: DT_FLOAT\\n        tensor_shape {\\n          dim {\\n            size: 1\\n          }\\n          dim {\\n            size: 1\\n          }\\n          dim {\\n            size: 508\\n          }\\n          dim {\\n            size: 128\\n          }\\n        }\\n        tensor_content: &quot;<stripped 260096 bytes>&quot;\\n      }\\n    }\\n  }\\n}\\nnode {\\n  name: &quot;head0/bottleneck_b&quot;\\n  op: &quot;Const&quot;\\n  device: &quot;/cpu:0&quot;\\n  attr {\\n    key: &quot;dtype&quot;\\n    value {\\n      type: DT_FLOAT\\n    }\\n  }\\n  attr {\\n    key: &quot;value&quot;\\n    value {\\n      tensor {\\n        dtype: DT_FLOAT\\n        tensor_shape {\\n          dim {\\n            size: 128\\n          }\\n        }\\n        tensor_content: &quot;<stripped 512 bytes>&quot;\\n      }\\n    }\\n  }\\n}\\nnode {\\n  name: &quot;nn0/w&quot;\\n  op: &quot;Const&quot;\\n  device: &quot;/cpu:0&quot;\\n  attr {\\n    key: &quot;dtype&quot;\\n    value {\\n      type: DT_FLOAT\\n    }\\n  }\\n  attr {\\n    key: &quot;value&quot;\\n    value {\\n      tensor {\\n        dtype: DT_FLOAT\\n        tensor_shape {\\n          dim {\\n            size: 2048\\n          }\\n          dim {\\n            size: 1024\\n          }\\n        }\\n        tensor_content: &quot;<stripped 8388608 bytes>&quot;\\n      }\\n    }\\n  }\\n}\\nnode {\\n  name: &quot;nn0/b&quot;\\n  op: &quot;Const&quot;\\n  device: &quot;/cpu:0&quot;\\n  attr {\\n    key: &quot;dtype&quot;\\n    value {\\n      type: DT_FLOAT\\n    }\\n  }\\n  attr {\\n    key: &quot;value&quot;\\n    value {\\n      tensor {\\n        dtype: DT_FLOAT\\n        tensor_shape {\\n          dim {\\n            size: 1024\\n          }\\n        }\\n        tensor_content: &quot;<stripped 4096 bytes>&quot;\\n      }\\n    }\\n  }\\n}\\nnode {\\n  name: &quot;softmax0/w&quot;\\n  op: &quot;Const&quot;\\n  device: &quot;/cpu:0&quot;\\n  attr {\\n    key: &quot;dtype&quot;\\n    value {\\n      type: DT_FLOAT\\n    }\\n  }\\n  attr {\\n    key: &quot;value&quot;\\n    value {\\n      tensor {\\n        dtype: DT_FLOAT\\n        tensor_shape {\\n          dim {\\n            size: 1024\\n          }\\n          dim {\\n            size: 1008\\n          }\\n        }\\n        tensor_content: &quot;<stripped 4128768 bytes>&quot;\\n      }\\n    }\\n  }\\n}\\nnode {\\n  name: &quot;softmax0/b&quot;\\n  op: &quot;Const&quot;\\n  device: &quot;/cpu:0&quot;\\n  attr {\\n    key: &quot;dtype&quot;\\n    value {\\n      type: DT_FLOAT\\n    }\\n  }\\n  attr {\\n    key: &quot;value&quot;\\n    value {\\n      tensor {\\n        dtype: DT_FLOAT\\n        tensor_shape {\\n          dim {\\n            size: 1008\\n          }\\n        }\\n        tensor_content: &quot;<stripped 4032 bytes>&quot;\\n      }\\n    }\\n  }\\n}\\nnode {\\n  name: &quot;head1/bottleneck_w&quot;\\n  op: &quot;Const&quot;\\n  device: &quot;/cpu:0&quot;\\n  attr {\\n    key: &quot;dtype&quot;\\n    value {\\n      type: DT_FLOAT\\n    }\\n  }\\n  attr {\\n    key: &quot;value&quot;\\n    value {\\n      tensor {\\n        dtype: DT_FLOAT\\n        tensor_shape {\\n          dim {\\n            size: 1\\n          }\\n          dim {\\n            size: 1\\n          }\\n          dim {\\n            size: 528\\n          }\\n          dim {\\n            size: 128\\n          }\\n        }\\n        tensor_content: &quot;<stripped 270336 bytes>&quot;\\n      }\\n    }\\n  }\\n}\\nnode {\\n  name: &quot;head1/bottleneck_b&quot;\\n  op: &quot;Const&quot;\\n  device: &quot;/cpu:0&quot;\\n  attr {\\n    key: &quot;dtype&quot;\\n    value {\\n      type: DT_FLOAT\\n    }\\n  }\\n  attr {\\n    key: &quot;value&quot;\\n    value {\\n      tensor {\\n        dtype: DT_FLOAT\\n        tensor_shape {\\n          dim {\\n            size: 128\\n          }\\n        }\\n        tensor_content: &quot;<stripped 512 bytes>&quot;\\n      }\\n    }\\n  }\\n}\\nnode {\\n  name: &quot;nn1/w&quot;\\n  op: &quot;Const&quot;\\n  device: &quot;/cpu:0&quot;\\n  attr {\\n    key: &quot;dtype&quot;\\n    value {\\n      type: DT_FLOAT\\n    }\\n  }\\n  attr {\\n    key: &quot;value&quot;\\n    value {\\n      tensor {\\n        dtype: DT_FLOAT\\n        tensor_shape {\\n          dim {\\n            size: 2048\\n          }\\n          dim {\\n            size: 1024\\n          }\\n        }\\n        tensor_content: &quot;<stripped 8388608 bytes>&quot;\\n      }\\n    }\\n  }\\n}\\nnode {\\n  name: &quot;nn1/b&quot;\\n  op: &quot;Const&quot;\\n  device: &quot;/cpu:0&quot;\\n  attr {\\n    key: &quot;dtype&quot;\\n    value {\\n      type: DT_FLOAT\\n    }\\n  }\\n  attr {\\n    key: &quot;value&quot;\\n    value {\\n      tensor {\\n        dtype: DT_FLOAT\\n        tensor_shape {\\n          dim {\\n            size: 1024\\n          }\\n        }\\n        tensor_content: &quot;<stripped 4096 bytes>&quot;\\n      }\\n    }\\n  }\\n}\\nnode {\\n  name: &quot;softmax1/w&quot;\\n  op: &quot;Const&quot;\\n  device: &quot;/cpu:0&quot;\\n  attr {\\n    key: &quot;dtype&quot;\\n    value {\\n      type: DT_FLOAT\\n    }\\n  }\\n  attr {\\n    key: &quot;value&quot;\\n    value {\\n      tensor {\\n        dtype: DT_FLOAT\\n        tensor_shape {\\n          dim {\\n            size: 1024\\n          }\\n          dim {\\n            size: 1008\\n          }\\n        }\\n        tensor_content: &quot;<stripped 4128768 bytes>&quot;\\n      }\\n    }\\n  }\\n}\\nnode {\\n  name: &quot;softmax1/b&quot;\\n  op: &quot;Const&quot;\\n  device: &quot;/cpu:0&quot;\\n  attr {\\n    key: &quot;dtype&quot;\\n    value {\\n      type: DT_FLOAT\\n    }\\n  }\\n  attr {\\n    key: &quot;value&quot;\\n    value {\\n      tensor {\\n        dtype: DT_FLOAT\\n        tensor_shape {\\n          dim {\\n            size: 1008\\n          }\\n        }\\n        tensor_content: &quot;<stripped 4032 bytes>&quot;\\n      }\\n    }\\n  }\\n}\\nnode {\\n  name: &quot;softmax2/w&quot;\\n  op: &quot;Const&quot;\\n  device: &quot;/cpu:0&quot;\\n  attr {\\n    key: &quot;dtype&quot;\\n    value {\\n      type: DT_FLOAT\\n    }\\n  }\\n  attr {\\n    key: &quot;value&quot;\\n    value {\\n      tensor {\\n        dtype: DT_FLOAT\\n        tensor_shape {\\n          dim {\\n            size: 1024\\n          }\\n          dim {\\n            size: 1008\\n          }\\n        }\\n        tensor_content: &quot;<stripped 4128768 bytes>&quot;\\n      }\\n    }\\n  }\\n}\\nnode {\\n  name: &quot;softmax2/b&quot;\\n  op: &quot;Const&quot;\\n  device: &quot;/cpu:0&quot;\\n  attr {\\n    key: &quot;dtype&quot;\\n    value {\\n      type: DT_FLOAT\\n    }\\n  }\\n  attr {\\n    key: &quot;value&quot;\\n    value {\\n      tensor {\\n        dtype: DT_FLOAT\\n        tensor_shape {\\n          dim {\\n            size: 1008\\n          }\\n        }\\n        tensor_content: &quot;<stripped 4032 bytes>&quot;\\n      }\\n    }\\n  }\\n}\\nnode {\\n  name: &quot;conv2d0/pre_relu/conv&quot;\\n  op: &quot;Conv2D&quot;\\n  input: &quot;input&quot;\\n  input: &quot;conv2d0/w&quot;\\n  device: &quot;/cpu:0&quot;\\n  attr {\\n    key: &quot;T&quot;\\n    value {\\n      type: DT_FLOAT\\n    }\\n  }\\n  attr {\\n    key: &quot;padding&quot;\\n    value {\\n      s: &quot;SAME&quot;\\n    }\\n  }\\n  attr {\\n    key: &quot;strides&quot;\\n    value {\\n      list {\\n        i: 1\\n        i: 2\\n        i: 2\\n        i: 1\\n      }\\n    }\\n  }\\n  attr {\\n    key: &quot;use_cudnn_on_gpu&quot;\\n    value {\\n      b: true\\n    }\\n  }\\n}\\nnode {\\n  name: &quot;conv2d0/pre_relu&quot;\\n  op: &quot;BiasAdd&quot;\\n  input: &quot;conv2d0/pre_relu/conv&quot;\\n  input: &quot;conv2d0/b&quot;\\n  device: &quot;/cpu:0&quot;\\n  attr {\\n    key: &quot;T&quot;\\n    value {\\n      type: DT_FLOAT\\n    }\\n  }\\n}\\nnode {\\n  name: &quot;conv2d0&quot;\\n  op: &quot;Relu&quot;\\n  input: &quot;conv2d0/pre_relu&quot;\\n  device: &quot;/cpu:0&quot;\\n  attr {\\n    key: &quot;T&quot;\\n    value {\\n      type: DT_FLOAT\\n    }\\n  }\\n}\\nnode {\\n  name: &quot;maxpool0&quot;\\n  op: &quot;MaxPool&quot;\\n  input: &quot;conv2d0&quot;\\n  device: &quot;/cpu:0&quot;\\n  attr {\\n    key: &quot;ksize&quot;\\n    value {\\n      list {\\n        i: 1\\n        i: 3\\n        i: 3\\n        i: 1\\n      }\\n    }\\n  }\\n  attr {\\n    key: &quot;padding&quot;\\n    value {\\n      s: &quot;SAME&quot;\\n    }\\n  }\\n  attr {\\n    key: &quot;strides&quot;\\n    value {\\n      list {\\n        i: 1\\n        i: 2\\n        i: 2\\n        i: 1\\n      }\\n    }\\n  }\\n}\\nnode {\\n  name: &quot;localresponsenorm0&quot;\\n  op: &quot;LRN&quot;\\n  input: &quot;maxpool0&quot;\\n  device: &quot;/cpu:0&quot;\\n  attr {\\n    key: &quot;alpha&quot;\\n    value {\\n      f: 9.999999747378752e-05\\n    }\\n  }\\n  attr {\\n    key: &quot;beta&quot;\\n    value {\\n      f: 0.5\\n    }\\n  }\\n  attr {\\n    key: &quot;bias&quot;\\n    value {\\n      f: 2.0\\n    }\\n  }\\n  attr {\\n    key: &quot;depth_radius&quot;\\n    value {\\n      i: 5\\n    }\\n  }\\n}\\nnode {\\n  name: &quot;conv2d1/pre_relu/conv&quot;\\n  op: &quot;Conv2D&quot;\\n  input: &quot;localresponsenorm0&quot;\\n  input: &quot;conv2d1/w&quot;\\n  device: &quot;/cpu:0&quot;\\n  attr {\\n    key: &quot;T&quot;\\n    value {\\n      type: DT_FLOAT\\n    }\\n  }\\n  attr {\\n    key: &quot;padding&quot;\\n    value {\\n      s: &quot;VALID&quot;\\n    }\\n  }\\n  attr {\\n    key: &quot;strides&quot;\\n    value {\\n      list {\\n        i: 1\\n        i: 1\\n        i: 1\\n        i: 1\\n      }\\n    }\\n  }\\n  attr {\\n    key: &quot;use_cudnn_on_gpu&quot;\\n    value {\\n      b: true\\n    }\\n  }\\n}\\nnode {\\n  name: &quot;conv2d1/pre_relu&quot;\\n  op: &quot;BiasAdd&quot;\\n  input: &quot;conv2d1/pre_relu/conv&quot;\\n  input: &quot;conv2d1/b&quot;\\n  device: &quot;/cpu:0&quot;\\n  attr {\\n    key: &quot;T&quot;\\n    value {\\n      type: DT_FLOAT\\n    }\\n  }\\n}\\nnode {\\n  name: &quot;conv2d1&quot;\\n  op: &quot;Relu&quot;\\n  input: &quot;conv2d1/pre_relu&quot;\\n  device: &quot;/cpu:0&quot;\\n  attr {\\n    key: &quot;T&quot;\\n    value {\\n      type: DT_FLOAT\\n    }\\n  }\\n}\\nnode {\\n  name: &quot;conv2d2/pre_relu/conv&quot;\\n  op: &quot;Conv2D&quot;\\n  input: &quot;conv2d1&quot;\\n  input: &quot;conv2d2/w&quot;\\n  device: &quot;/cpu:0&quot;\\n  attr {\\n    key: &quot;T&quot;\\n    value {\\n      type: DT_FLOAT\\n    }\\n  }\\n  attr {\\n    key: &quot;padding&quot;\\n    value {\\n      s: &quot;SAME&quot;\\n    }\\n  }\\n  attr {\\n    key: &quot;strides&quot;\\n    value {\\n      list {\\n        i: 1\\n        i: 1\\n        i: 1\\n        i: 1\\n      }\\n    }\\n  }\\n  attr {\\n    key: &quot;use_cudnn_on_gpu&quot;\\n    value {\\n      b: true\\n    }\\n  }\\n}\\nnode {\\n  name: &quot;conv2d2/pre_relu&quot;\\n  op: &quot;BiasAdd&quot;\\n  input: &quot;conv2d2/pre_relu/conv&quot;\\n  input: &quot;conv2d2/b&quot;\\n  device: &quot;/cpu:0&quot;\\n  attr {\\n    key: &quot;T&quot;\\n    value {\\n      type: DT_FLOAT\\n    }\\n  }\\n}\\nnode {\\n  name: &quot;conv2d2&quot;\\n  op: &quot;Relu&quot;\\n  input: &quot;conv2d2/pre_relu&quot;\\n  device: &quot;/cpu:0&quot;\\n  attr {\\n    key: &quot;T&quot;\\n    value {\\n      type: DT_FLOAT\\n    }\\n  }\\n}\\nnode {\\n  name: &quot;localresponsenorm1&quot;\\n  op: &quot;LRN&quot;\\n  input: &quot;conv2d2&quot;\\n  device: &quot;/cpu:0&quot;\\n  attr {\\n    key: &quot;alpha&quot;\\n    value {\\n      f: 9.999999747378752e-05\\n    }\\n  }\\n  attr {\\n    key: &quot;beta&quot;\\n    value {\\n      f: 0.5\\n    }\\n  }\\n  attr {\\n    key: &quot;bias&quot;\\n    value {\\n      f: 2.0\\n    }\\n  }\\n  attr {\\n    key: &quot;depth_radius&quot;\\n    value {\\n      i: 5\\n    }\\n  }\\n}\\nnode {\\n  name: &quot;maxpool1&quot;\\n  op: &quot;MaxPool&quot;\\n  input: &quot;localresponsenorm1&quot;\\n  device: &quot;/cpu:0&quot;\\n  attr {\\n    key: &quot;ksize&quot;\\n    value {\\n      list {\\n        i: 1\\n        i: 3\\n        i: 3\\n        i: 1\\n      }\\n    }\\n  }\\n  attr {\\n    key: &quot;padding&quot;\\n    value {\\n      s: &quot;SAME&quot;\\n    }\\n  }\\n  attr {\\n    key: &quot;strides&quot;\\n    value {\\n      list {\\n        i: 1\\n        i: 2\\n        i: 2\\n        i: 1\\n      }\\n    }\\n  }\\n}\\nnode {\\n  name: &quot;mixed3a/1x1_pre_relu/conv&quot;\\n  op: &quot;Conv2D&quot;\\n  input: &quot;maxpool1&quot;\\n  input: &quot;mixed3a/1x1_w&quot;\\n  device: &quot;/cpu:0&quot;\\n  attr {\\n    key: &quot;T&quot;\\n    value {\\n      type: DT_FLOAT\\n    }\\n  }\\n  attr {\\n    key: &quot;padding&quot;\\n    value {\\n      s: &quot;SAME&quot;\\n    }\\n  }\\n  attr {\\n    key: &quot;strides&quot;\\n    value {\\n      list {\\n        i: 1\\n        i: 1\\n        i: 1\\n        i: 1\\n      }\\n    }\\n  }\\n  attr {\\n    key: &quot;use_cudnn_on_gpu&quot;\\n    value {\\n      b: true\\n    }\\n  }\\n}\\nnode {\\n  name: &quot;mixed3a/1x1_pre_relu&quot;\\n  op: &quot;BiasAdd&quot;\\n  input: &quot;mixed3a/1x1_pre_relu/conv&quot;\\n  input: &quot;mixed3a/1x1_b&quot;\\n  device: &quot;/cpu:0&quot;\\n  attr {\\n    key: &quot;T&quot;\\n    value {\\n      type: DT_FLOAT\\n    }\\n  }\\n}\\nnode {\\n  name: &quot;mixed3a/1x1&quot;\\n  op: &quot;Relu&quot;\\n  input: &quot;mixed3a/1x1_pre_relu&quot;\\n  device: &quot;/cpu:0&quot;\\n  attr {\\n    key: &quot;T&quot;\\n    value {\\n      type: DT_FLOAT\\n    }\\n  }\\n}\\nnode {\\n  name: &quot;mixed3a/3x3_bottleneck_pre_relu/conv&quot;\\n  op: &quot;Conv2D&quot;\\n  input: &quot;maxpool1&quot;\\n  input: &quot;mixed3a/3x3_bottleneck_w&quot;\\n  device: &quot;/cpu:0&quot;\\n  attr {\\n    key: &quot;T&quot;\\n    value {\\n      type: DT_FLOAT\\n    }\\n  }\\n  attr {\\n    key: &quot;padding&quot;\\n    value {\\n      s: &quot;SAME&quot;\\n    }\\n  }\\n  attr {\\n    key: &quot;strides&quot;\\n    value {\\n      list {\\n        i: 1\\n        i: 1\\n        i: 1\\n        i: 1\\n      }\\n    }\\n  }\\n  attr {\\n    key: &quot;use_cudnn_on_gpu&quot;\\n    value {\\n      b: true\\n    }\\n  }\\n}\\nnode {\\n  name: &quot;mixed3a/3x3_bottleneck_pre_relu&quot;\\n  op: &quot;BiasAdd&quot;\\n  input: &quot;mixed3a/3x3_bottleneck_pre_relu/conv&quot;\\n  input: &quot;mixed3a/3x3_bottleneck_b&quot;\\n  device: &quot;/cpu:0&quot;\\n  attr {\\n    key: &quot;T&quot;\\n    value {\\n      type: DT_FLOAT\\n    }\\n  }\\n}\\nnode {\\n  name: &quot;mixed3a/3x3_bottleneck&quot;\\n  op: &quot;Relu&quot;\\n  input: &quot;mixed3a/3x3_bottleneck_pre_relu&quot;\\n  device: &quot;/cpu:0&quot;\\n  attr {\\n    key: &quot;T&quot;\\n    value {\\n      type: DT_FLOAT\\n    }\\n  }\\n}\\nnode {\\n  name: &quot;mixed3a/3x3_pre_relu/conv&quot;\\n  op: &quot;Conv2D&quot;\\n  input: &quot;mixed3a/3x3_bottleneck&quot;\\n  input: &quot;mixed3a/3x3_w&quot;\\n  device: &quot;/cpu:0&quot;\\n  attr {\\n    key: &quot;T&quot;\\n    value {\\n      type: DT_FLOAT\\n    }\\n  }\\n  attr {\\n    key: &quot;padding&quot;\\n    value {\\n      s: &quot;SAME&quot;\\n    }\\n  }\\n  attr {\\n    key: &quot;strides&quot;\\n    value {\\n      list {\\n        i: 1\\n        i: 1\\n        i: 1\\n        i: 1\\n      }\\n    }\\n  }\\n  attr {\\n    key: &quot;use_cudnn_on_gpu&quot;\\n    value {\\n      b: true\\n    }\\n  }\\n}\\nnode {\\n  name: &quot;mixed3a/3x3_pre_relu&quot;\\n  op: &quot;BiasAdd&quot;\\n  input: &quot;mixed3a/3x3_pre_relu/conv&quot;\\n  input: &quot;mixed3a/3x3_b&quot;\\n  device: &quot;/cpu:0&quot;\\n  attr {\\n    key: &quot;T&quot;\\n    value {\\n      type: DT_FLOAT\\n    }\\n  }\\n}\\nnode {\\n  name: &quot;mixed3a/3x3&quot;\\n  op: &quot;Relu&quot;\\n  input: &quot;mixed3a/3x3_pre_relu&quot;\\n  device: &quot;/cpu:0&quot;\\n  attr {\\n    key: &quot;T&quot;\\n    value {\\n      type: DT_FLOAT\\n    }\\n  }\\n}\\nnode {\\n  name: &quot;mixed3a/5x5_bottleneck_pre_relu/conv&quot;\\n  op: &quot;Conv2D&quot;\\n  input: &quot;maxpool1&quot;\\n  input: &quot;mixed3a/5x5_bottleneck_w&quot;\\n  device: &quot;/cpu:0&quot;\\n  attr {\\n    key: &quot;T&quot;\\n    value {\\n      type: DT_FLOAT\\n    }\\n  }\\n  attr {\\n    key: &quot;padding&quot;\\n    value {\\n      s: &quot;SAME&quot;\\n    }\\n  }\\n  attr {\\n    key: &quot;strides&quot;\\n    value {\\n      list {\\n        i: 1\\n        i: 1\\n        i: 1\\n        i: 1\\n      }\\n    }\\n  }\\n  attr {\\n    key: &quot;use_cudnn_on_gpu&quot;\\n    value {\\n      b: true\\n    }\\n  }\\n}\\nnode {\\n  name: &quot;mixed3a/5x5_bottleneck_pre_relu&quot;\\n  op: &quot;BiasAdd&quot;\\n  input: &quot;mixed3a/5x5_bottleneck_pre_relu/conv&quot;\\n  input: &quot;mixed3a/5x5_bottleneck_b&quot;\\n  device: &quot;/cpu:0&quot;\\n  attr {\\n    key: &quot;T&quot;\\n    value {\\n      type: DT_FLOAT\\n    }\\n  }\\n}\\nnode {\\n  name: &quot;mixed3a/5x5_bottleneck&quot;\\n  op: &quot;Relu&quot;\\n  input: &quot;mixed3a/5x5_bottleneck_pre_relu&quot;\\n  device: &quot;/cpu:0&quot;\\n  attr {\\n    key: &quot;T&quot;\\n    value {\\n      type: DT_FLOAT\\n    }\\n  }\\n}\\nnode {\\n  name: &quot;mixed3a/5x5_pre_relu/conv&quot;\\n  op: &quot;Conv2D&quot;\\n  input: &quot;mixed3a/5x5_bottleneck&quot;\\n  input: &quot;mixed3a/5x5_w&quot;\\n  device: &quot;/cpu:0&quot;\\n  attr {\\n    key: &quot;T&quot;\\n    value {\\n      type: DT_FLOAT\\n    }\\n  }\\n  attr {\\n    key: &quot;padding&quot;\\n    value {\\n      s: &quot;SAME&quot;\\n    }\\n  }\\n  attr {\\n    key: &quot;strides&quot;\\n    value {\\n      list {\\n        i: 1\\n        i: 1\\n        i: 1\\n        i: 1\\n      }\\n    }\\n  }\\n  attr {\\n    key: &quot;use_cudnn_on_gpu&quot;\\n    value {\\n      b: true\\n    }\\n  }\\n}\\nnode {\\n  name: &quot;mixed3a/5x5_pre_relu&quot;\\n  op: &quot;BiasAdd&quot;\\n  input: &quot;mixed3a/5x5_pre_relu/conv&quot;\\n  input: &quot;mixed3a/5x5_b&quot;\\n  device: &quot;/cpu:0&quot;\\n  attr {\\n    key: &quot;T&quot;\\n    value {\\n      type: DT_FLOAT\\n    }\\n  }\\n}\\nnode {\\n  name: &quot;mixed3a/5x5&quot;\\n  op: &quot;Relu&quot;\\n  input: &quot;mixed3a/5x5_pre_relu&quot;\\n  device: &quot;/cpu:0&quot;\\n  attr {\\n    key: &quot;T&quot;\\n    value {\\n      type: DT_FLOAT\\n    }\\n  }\\n}\\nnode {\\n  name: &quot;mixed3a/pool&quot;\\n  op: &quot;MaxPool&quot;\\n  input: &quot;maxpool1&quot;\\n  device: &quot;/cpu:0&quot;\\n  attr {\\n    key: &quot;ksize&quot;\\n    value {\\n      list {\\n        i: 1\\n        i: 3\\n        i: 3\\n        i: 1\\n      }\\n    }\\n  }\\n  attr {\\n    key: &quot;padding&quot;\\n    value {\\n      s: &quot;SAME&quot;\\n    }\\n  }\\n  attr {\\n    key: &quot;strides&quot;\\n    value {\\n      list {\\n        i: 1\\n        i: 1\\n        i: 1\\n        i: 1\\n      }\\n    }\\n  }\\n}\\nnode {\\n  name: &quot;mixed3a/pool_reduce_pre_relu/conv&quot;\\n  op: &quot;Conv2D&quot;\\n  input: &quot;mixed3a/pool&quot;\\n  input: &quot;mixed3a/pool_reduce_w&quot;\\n  device: &quot;/cpu:0&quot;\\n  attr {\\n    key: &quot;T&quot;\\n    value {\\n      type: DT_FLOAT\\n    }\\n  }\\n  attr {\\n    key: &quot;padding&quot;\\n    value {\\n      s: &quot;SAME&quot;\\n    }\\n  }\\n  attr {\\n    key: &quot;strides&quot;\\n    value {\\n      list {\\n        i: 1\\n        i: 1\\n        i: 1\\n        i: 1\\n      }\\n    }\\n  }\\n  attr {\\n    key: &quot;use_cudnn_on_gpu&quot;\\n    value {\\n      b: true\\n    }\\n  }\\n}\\nnode {\\n  name: &quot;mixed3a/pool_reduce_pre_relu&quot;\\n  op: &quot;BiasAdd&quot;\\n  input: &quot;mixed3a/pool_reduce_pre_relu/conv&quot;\\n  input: &quot;mixed3a/pool_reduce_b&quot;\\n  device: &quot;/cpu:0&quot;\\n  attr {\\n    key: &quot;T&quot;\\n    value {\\n      type: DT_FLOAT\\n    }\\n  }\\n}\\nnode {\\n  name: &quot;mixed3a/pool_reduce&quot;\\n  op: &quot;Relu&quot;\\n  input: &quot;mixed3a/pool_reduce_pre_relu&quot;\\n  device: &quot;/cpu:0&quot;\\n  attr {\\n    key: &quot;T&quot;\\n    value {\\n      type: DT_FLOAT\\n    }\\n  }\\n}\\nnode {\\n  name: &quot;mixed3a/concat/dim&quot;\\n  op: &quot;Const&quot;\\n  device: &quot;/cpu:0&quot;\\n  attr {\\n    key: &quot;dtype&quot;\\n    value {\\n      type: DT_INT32\\n    }\\n  }\\n  attr {\\n    key: &quot;value&quot;\\n    value {\\n      tensor {\\n        dtype: DT_INT32\\n        tensor_shape {\\n        }\\n        int_val: 3\\n      }\\n    }\\n  }\\n}\\nnode {\\n  name: &quot;mixed3a&quot;\\n  op: &quot;Concat&quot;\\n  input: &quot;mixed3a/concat/dim&quot;\\n  input: &quot;mixed3a/1x1&quot;\\n  input: &quot;mixed3a/3x3&quot;\\n  input: &quot;mixed3a/5x5&quot;\\n  input: &quot;mixed3a/pool_reduce&quot;\\n  device: &quot;/cpu:0&quot;\\n  attr {\\n    key: &quot;N&quot;\\n    value {\\n      i: 4\\n    }\\n  }\\n  attr {\\n    key: &quot;T&quot;\\n    value {\\n      type: DT_FLOAT\\n    }\\n  }\\n}\\nnode {\\n  name: &quot;mixed3b/1x1_pre_relu/conv&quot;\\n  op: &quot;Conv2D&quot;\\n  input: &quot;mixed3a&quot;\\n  input: &quot;mixed3b/1x1_w&quot;\\n  device: &quot;/cpu:0&quot;\\n  attr {\\n    key: &quot;T&quot;\\n    value {\\n      type: DT_FLOAT\\n    }\\n  }\\n  attr {\\n    key: &quot;padding&quot;\\n    value {\\n      s: &quot;SAME&quot;\\n    }\\n  }\\n  attr {\\n    key: &quot;strides&quot;\\n    value {\\n      list {\\n        i: 1\\n        i: 1\\n        i: 1\\n        i: 1\\n      }\\n    }\\n  }\\n  attr {\\n    key: &quot;use_cudnn_on_gpu&quot;\\n    value {\\n      b: true\\n    }\\n  }\\n}\\nnode {\\n  name: &quot;mixed3b/1x1_pre_relu&quot;\\n  op: &quot;BiasAdd&quot;\\n  input: &quot;mixed3b/1x1_pre_relu/conv&quot;\\n  input: &quot;mixed3b/1x1_b&quot;\\n  device: &quot;/cpu:0&quot;\\n  attr {\\n    key: &quot;T&quot;\\n    value {\\n      type: DT_FLOAT\\n    }\\n  }\\n}\\nnode {\\n  name: &quot;mixed3b/1x1&quot;\\n  op: &quot;Relu&quot;\\n  input: &quot;mixed3b/1x1_pre_relu&quot;\\n  device: &quot;/cpu:0&quot;\\n  attr {\\n    key: &quot;T&quot;\\n    value {\\n      type: DT_FLOAT\\n    }\\n  }\\n}\\nnode {\\n  name: &quot;mixed3b/3x3_bottleneck_pre_relu/conv&quot;\\n  op: &quot;Conv2D&quot;\\n  input: &quot;mixed3a&quot;\\n  input: &quot;mixed3b/3x3_bottleneck_w&quot;\\n  device: &quot;/cpu:0&quot;\\n  attr {\\n    key: &quot;T&quot;\\n    value {\\n      type: DT_FLOAT\\n    }\\n  }\\n  attr {\\n    key: &quot;padding&quot;\\n    value {\\n      s: &quot;SAME&quot;\\n    }\\n  }\\n  attr {\\n    key: &quot;strides&quot;\\n    value {\\n      list {\\n        i: 1\\n        i: 1\\n        i: 1\\n        i: 1\\n      }\\n    }\\n  }\\n  attr {\\n    key: &quot;use_cudnn_on_gpu&quot;\\n    value {\\n      b: true\\n    }\\n  }\\n}\\nnode {\\n  name: &quot;mixed3b/3x3_bottleneck_pre_relu&quot;\\n  op: &quot;BiasAdd&quot;\\n  input: &quot;mixed3b/3x3_bottleneck_pre_relu/conv&quot;\\n  input: &quot;mixed3b/3x3_bottleneck_b&quot;\\n  device: &quot;/cpu:0&quot;\\n  attr {\\n    key: &quot;T&quot;\\n    value {\\n      type: DT_FLOAT\\n    }\\n  }\\n}\\nnode {\\n  name: &quot;mixed3b/3x3_bottleneck&quot;\\n  op: &quot;Relu&quot;\\n  input: &quot;mixed3b/3x3_bottleneck_pre_relu&quot;\\n  device: &quot;/cpu:0&quot;\\n  attr {\\n    key: &quot;T&quot;\\n    value {\\n      type: DT_FLOAT\\n    }\\n  }\\n}\\nnode {\\n  name: &quot;mixed3b/3x3_pre_relu/conv&quot;\\n  op: &quot;Conv2D&quot;\\n  input: &quot;mixed3b/3x3_bottleneck&quot;\\n  input: &quot;mixed3b/3x3_w&quot;\\n  device: &quot;/cpu:0&quot;\\n  attr {\\n    key: &quot;T&quot;\\n    value {\\n      type: DT_FLOAT\\n    }\\n  }\\n  attr {\\n    key: &quot;padding&quot;\\n    value {\\n      s: &quot;SAME&quot;\\n    }\\n  }\\n  attr {\\n    key: &quot;strides&quot;\\n    value {\\n      list {\\n        i: 1\\n        i: 1\\n        i: 1\\n        i: 1\\n      }\\n    }\\n  }\\n  attr {\\n    key: &quot;use_cudnn_on_gpu&quot;\\n    value {\\n      b: true\\n    }\\n  }\\n}\\nnode {\\n  name: &quot;mixed3b/3x3_pre_relu&quot;\\n  op: &quot;BiasAdd&quot;\\n  input: &quot;mixed3b/3x3_pre_relu/conv&quot;\\n  input: &quot;mixed3b/3x3_b&quot;\\n  device: &quot;/cpu:0&quot;\\n  attr {\\n    key: &quot;T&quot;\\n    value {\\n      type: DT_FLOAT\\n    }\\n  }\\n}\\nnode {\\n  name: &quot;mixed3b/3x3&quot;\\n  op: &quot;Relu&quot;\\n  input: &quot;mixed3b/3x3_pre_relu&quot;\\n  device: &quot;/cpu:0&quot;\\n  attr {\\n    key: &quot;T&quot;\\n    value {\\n      type: DT_FLOAT\\n    }\\n  }\\n}\\nnode {\\n  name: &quot;mixed3b/5x5_bottleneck_pre_relu/conv&quot;\\n  op: &quot;Conv2D&quot;\\n  input: &quot;mixed3a&quot;\\n  input: &quot;mixed3b/5x5_bottleneck_w&quot;\\n  device: &quot;/cpu:0&quot;\\n  attr {\\n    key: &quot;T&quot;\\n    value {\\n      type: DT_FLOAT\\n    }\\n  }\\n  attr {\\n    key: &quot;padding&quot;\\n    value {\\n      s: &quot;SAME&quot;\\n    }\\n  }\\n  attr {\\n    key: &quot;strides&quot;\\n    value {\\n      list {\\n        i: 1\\n        i: 1\\n        i: 1\\n        i: 1\\n      }\\n    }\\n  }\\n  attr {\\n    key: &quot;use_cudnn_on_gpu&quot;\\n    value {\\n      b: true\\n    }\\n  }\\n}\\nnode {\\n  name: &quot;mixed3b/5x5_bottleneck_pre_relu&quot;\\n  op: &quot;BiasAdd&quot;\\n  input: &quot;mixed3b/5x5_bottleneck_pre_relu/conv&quot;\\n  input: &quot;mixed3b/5x5_bottleneck_b&quot;\\n  device: &quot;/cpu:0&quot;\\n  attr {\\n    key: &quot;T&quot;\\n    value {\\n      type: DT_FLOAT\\n    }\\n  }\\n}\\nnode {\\n  name: &quot;mixed3b/5x5_bottleneck&quot;\\n  op: &quot;Relu&quot;\\n  input: &quot;mixed3b/5x5_bottleneck_pre_relu&quot;\\n  device: &quot;/cpu:0&quot;\\n  attr {\\n    key: &quot;T&quot;\\n    value {\\n      type: DT_FLOAT\\n    }\\n  }\\n}\\nnode {\\n  name: &quot;mixed3b/5x5_pre_relu/conv&quot;\\n  op: &quot;Conv2D&quot;\\n  input: &quot;mixed3b/5x5_bottleneck&quot;\\n  input: &quot;mixed3b/5x5_w&quot;\\n  device: &quot;/cpu:0&quot;\\n  attr {\\n    key: &quot;T&quot;\\n    value {\\n      type: DT_FLOAT\\n    }\\n  }\\n  attr {\\n    key: &quot;padding&quot;\\n    value {\\n      s: &quot;SAME&quot;\\n    }\\n  }\\n  attr {\\n    key: &quot;strides&quot;\\n    value {\\n      list {\\n        i: 1\\n        i: 1\\n        i: 1\\n        i: 1\\n      }\\n    }\\n  }\\n  attr {\\n    key: &quot;use_cudnn_on_gpu&quot;\\n    value {\\n      b: true\\n    }\\n  }\\n}\\nnode {\\n  name: &quot;mixed3b/5x5_pre_relu&quot;\\n  op: &quot;BiasAdd&quot;\\n  input: &quot;mixed3b/5x5_pre_relu/conv&quot;\\n  input: &quot;mixed3b/5x5_b&quot;\\n  device: &quot;/cpu:0&quot;\\n  attr {\\n    key: &quot;T&quot;\\n    value {\\n      type: DT_FLOAT\\n    }\\n  }\\n}\\nnode {\\n  name: &quot;mixed3b/5x5&quot;\\n  op: &quot;Relu&quot;\\n  input: &quot;mixed3b/5x5_pre_relu&quot;\\n  device: &quot;/cpu:0&quot;\\n  attr {\\n    key: &quot;T&quot;\\n    value {\\n      type: DT_FLOAT\\n    }\\n  }\\n}\\nnode {\\n  name: &quot;mixed3b/pool&quot;\\n  op: &quot;MaxPool&quot;\\n  input: &quot;mixed3a&quot;\\n  device: &quot;/cpu:0&quot;\\n  attr {\\n    key: &quot;ksize&quot;\\n    value {\\n      list {\\n        i: 1\\n        i: 3\\n        i: 3\\n        i: 1\\n      }\\n    }\\n  }\\n  attr {\\n    key: &quot;padding&quot;\\n    value {\\n      s: &quot;SAME&quot;\\n    }\\n  }\\n  attr {\\n    key: &quot;strides&quot;\\n    value {\\n      list {\\n        i: 1\\n        i: 1\\n        i: 1\\n        i: 1\\n      }\\n    }\\n  }\\n}\\nnode {\\n  name: &quot;mixed3b/pool_reduce_pre_relu/conv&quot;\\n  op: &quot;Conv2D&quot;\\n  input: &quot;mixed3b/pool&quot;\\n  input: &quot;mixed3b/pool_reduce_w&quot;\\n  device: &quot;/cpu:0&quot;\\n  attr {\\n    key: &quot;T&quot;\\n    value {\\n      type: DT_FLOAT\\n    }\\n  }\\n  attr {\\n    key: &quot;padding&quot;\\n    value {\\n      s: &quot;SAME&quot;\\n    }\\n  }\\n  attr {\\n    key: &quot;strides&quot;\\n    value {\\n      list {\\n        i: 1\\n        i: 1\\n        i: 1\\n        i: 1\\n      }\\n    }\\n  }\\n  attr {\\n    key: &quot;use_cudnn_on_gpu&quot;\\n    value {\\n      b: true\\n    }\\n  }\\n}\\nnode {\\n  name: &quot;mixed3b/pool_reduce_pre_relu&quot;\\n  op: &quot;BiasAdd&quot;\\n  input: &quot;mixed3b/pool_reduce_pre_relu/conv&quot;\\n  input: &quot;mixed3b/pool_reduce_b&quot;\\n  device: &quot;/cpu:0&quot;\\n  attr {\\n    key: &quot;T&quot;\\n    value {\\n      type: DT_FLOAT\\n    }\\n  }\\n}\\nnode {\\n  name: &quot;mixed3b/pool_reduce&quot;\\n  op: &quot;Relu&quot;\\n  input: &quot;mixed3b/pool_reduce_pre_relu&quot;\\n  device: &quot;/cpu:0&quot;\\n  attr {\\n    key: &quot;T&quot;\\n    value {\\n      type: DT_FLOAT\\n    }\\n  }\\n}\\nnode {\\n  name: &quot;mixed3b/concat/dim&quot;\\n  op: &quot;Const&quot;\\n  device: &quot;/cpu:0&quot;\\n  attr {\\n    key: &quot;dtype&quot;\\n    value {\\n      type: DT_INT32\\n    }\\n  }\\n  attr {\\n    key: &quot;value&quot;\\n    value {\\n      tensor {\\n        dtype: DT_INT32\\n        tensor_shape {\\n        }\\n        int_val: 3\\n      }\\n    }\\n  }\\n}\\nnode {\\n  name: &quot;mixed3b&quot;\\n  op: &quot;Concat&quot;\\n  input: &quot;mixed3b/concat/dim&quot;\\n  input: &quot;mixed3b/1x1&quot;\\n  input: &quot;mixed3b/3x3&quot;\\n  input: &quot;mixed3b/5x5&quot;\\n  input: &quot;mixed3b/pool_reduce&quot;\\n  device: &quot;/cpu:0&quot;\\n  attr {\\n    key: &quot;N&quot;\\n    value {\\n      i: 4\\n    }\\n  }\\n  attr {\\n    key: &quot;T&quot;\\n    value {\\n      type: DT_FLOAT\\n    }\\n  }\\n}\\nnode {\\n  name: &quot;maxpool4&quot;\\n  op: &quot;MaxPool&quot;\\n  input: &quot;mixed3b&quot;\\n  device: &quot;/cpu:0&quot;\\n  attr {\\n    key: &quot;ksize&quot;\\n    value {\\n      list {\\n        i: 1\\n        i: 3\\n        i: 3\\n        i: 1\\n      }\\n    }\\n  }\\n  attr {\\n    key: &quot;padding&quot;\\n    value {\\n      s: &quot;SAME&quot;\\n    }\\n  }\\n  attr {\\n    key: &quot;strides&quot;\\n    value {\\n      list {\\n        i: 1\\n        i: 2\\n        i: 2\\n        i: 1\\n      }\\n    }\\n  }\\n}\\nnode {\\n  name: &quot;mixed4a/1x1_pre_relu/conv&quot;\\n  op: &quot;Conv2D&quot;\\n  input: &quot;maxpool4&quot;\\n  input: &quot;mixed4a/1x1_w&quot;\\n  device: &quot;/cpu:0&quot;\\n  attr {\\n    key: &quot;T&quot;\\n    value {\\n      type: DT_FLOAT\\n    }\\n  }\\n  attr {\\n    key: &quot;padding&quot;\\n    value {\\n      s: &quot;SAME&quot;\\n    }\\n  }\\n  attr {\\n    key: &quot;strides&quot;\\n    value {\\n      list {\\n        i: 1\\n        i: 1\\n        i: 1\\n        i: 1\\n      }\\n    }\\n  }\\n  attr {\\n    key: &quot;use_cudnn_on_gpu&quot;\\n    value {\\n      b: true\\n    }\\n  }\\n}\\nnode {\\n  name: &quot;mixed4a/1x1_pre_relu&quot;\\n  op: &quot;BiasAdd&quot;\\n  input: &quot;mixed4a/1x1_pre_relu/conv&quot;\\n  input: &quot;mixed4a/1x1_b&quot;\\n  device: &quot;/cpu:0&quot;\\n  attr {\\n    key: &quot;T&quot;\\n    value {\\n      type: DT_FLOAT\\n    }\\n  }\\n}\\nnode {\\n  name: &quot;mixed4a/1x1&quot;\\n  op: &quot;Relu&quot;\\n  input: &quot;mixed4a/1x1_pre_relu&quot;\\n  device: &quot;/cpu:0&quot;\\n  attr {\\n    key: &quot;T&quot;\\n    value {\\n      type: DT_FLOAT\\n    }\\n  }\\n}\\nnode {\\n  name: &quot;mixed4a/3x3_bottleneck_pre_relu/conv&quot;\\n  op: &quot;Conv2D&quot;\\n  input: &quot;maxpool4&quot;\\n  input: &quot;mixed4a/3x3_bottleneck_w&quot;\\n  device: &quot;/cpu:0&quot;\\n  attr {\\n    key: &quot;T&quot;\\n    value {\\n      type: DT_FLOAT\\n    }\\n  }\\n  attr {\\n    key: &quot;padding&quot;\\n    value {\\n      s: &quot;SAME&quot;\\n    }\\n  }\\n  attr {\\n    key: &quot;strides&quot;\\n    value {\\n      list {\\n        i: 1\\n        i: 1\\n        i: 1\\n        i: 1\\n      }\\n    }\\n  }\\n  attr {\\n    key: &quot;use_cudnn_on_gpu&quot;\\n    value {\\n      b: true\\n    }\\n  }\\n}\\nnode {\\n  name: &quot;mixed4a/3x3_bottleneck_pre_relu&quot;\\n  op: &quot;BiasAdd&quot;\\n  input: &quot;mixed4a/3x3_bottleneck_pre_relu/conv&quot;\\n  input: &quot;mixed4a/3x3_bottleneck_b&quot;\\n  device: &quot;/cpu:0&quot;\\n  attr {\\n    key: &quot;T&quot;\\n    value {\\n      type: DT_FLOAT\\n    }\\n  }\\n}\\nnode {\\n  name: &quot;mixed4a/3x3_bottleneck&quot;\\n  op: &quot;Relu&quot;\\n  input: &quot;mixed4a/3x3_bottleneck_pre_relu&quot;\\n  device: &quot;/cpu:0&quot;\\n  attr {\\n    key: &quot;T&quot;\\n    value {\\n      type: DT_FLOAT\\n    }\\n  }\\n}\\nnode {\\n  name: &quot;mixed4a/3x3_pre_relu/conv&quot;\\n  op: &quot;Conv2D&quot;\\n  input: &quot;mixed4a/3x3_bottleneck&quot;\\n  input: &quot;mixed4a/3x3_w&quot;\\n  device: &quot;/cpu:0&quot;\\n  attr {\\n    key: &quot;T&quot;\\n    value {\\n      type: DT_FLOAT\\n    }\\n  }\\n  attr {\\n    key: &quot;padding&quot;\\n    value {\\n      s: &quot;SAME&quot;\\n    }\\n  }\\n  attr {\\n    key: &quot;strides&quot;\\n    value {\\n      list {\\n        i: 1\\n        i: 1\\n        i: 1\\n        i: 1\\n      }\\n    }\\n  }\\n  attr {\\n    key: &quot;use_cudnn_on_gpu&quot;\\n    value {\\n      b: true\\n    }\\n  }\\n}\\nnode {\\n  name: &quot;mixed4a/3x3_pre_relu&quot;\\n  op: &quot;BiasAdd&quot;\\n  input: &quot;mixed4a/3x3_pre_relu/conv&quot;\\n  input: &quot;mixed4a/3x3_b&quot;\\n  device: &quot;/cpu:0&quot;\\n  attr {\\n    key: &quot;T&quot;\\n    value {\\n      type: DT_FLOAT\\n    }\\n  }\\n}\\nnode {\\n  name: &quot;mixed4a/3x3&quot;\\n  op: &quot;Relu&quot;\\n  input: &quot;mixed4a/3x3_pre_relu&quot;\\n  device: &quot;/cpu:0&quot;\\n  attr {\\n    key: &quot;T&quot;\\n    value {\\n      type: DT_FLOAT\\n    }\\n  }\\n}\\nnode {\\n  name: &quot;mixed4a/5x5_bottleneck_pre_relu/conv&quot;\\n  op: &quot;Conv2D&quot;\\n  input: &quot;maxpool4&quot;\\n  input: &quot;mixed4a/5x5_bottleneck_w&quot;\\n  device: &quot;/cpu:0&quot;\\n  attr {\\n    key: &quot;T&quot;\\n    value {\\n      type: DT_FLOAT\\n    }\\n  }\\n  attr {\\n    key: &quot;padding&quot;\\n    value {\\n      s: &quot;SAME&quot;\\n    }\\n  }\\n  attr {\\n    key: &quot;strides&quot;\\n    value {\\n      list {\\n        i: 1\\n        i: 1\\n        i: 1\\n        i: 1\\n      }\\n    }\\n  }\\n  attr {\\n    key: &quot;use_cudnn_on_gpu&quot;\\n    value {\\n      b: true\\n    }\\n  }\\n}\\nnode {\\n  name: &quot;mixed4a/5x5_bottleneck_pre_relu&quot;\\n  op: &quot;BiasAdd&quot;\\n  input: &quot;mixed4a/5x5_bottleneck_pre_relu/conv&quot;\\n  input: &quot;mixed4a/5x5_bottleneck_b&quot;\\n  device: &quot;/cpu:0&quot;\\n  attr {\\n    key: &quot;T&quot;\\n    value {\\n      type: DT_FLOAT\\n    }\\n  }\\n}\\nnode {\\n  name: &quot;mixed4a/5x5_bottleneck&quot;\\n  op: &quot;Relu&quot;\\n  input: &quot;mixed4a/5x5_bottleneck_pre_relu&quot;\\n  device: &quot;/cpu:0&quot;\\n  attr {\\n    key: &quot;T&quot;\\n    value {\\n      type: DT_FLOAT\\n    }\\n  }\\n}\\nnode {\\n  name: &quot;mixed4a/5x5_pre_relu/conv&quot;\\n  op: &quot;Conv2D&quot;\\n  input: &quot;mixed4a/5x5_bottleneck&quot;\\n  input: &quot;mixed4a/5x5_w&quot;\\n  device: &quot;/cpu:0&quot;\\n  attr {\\n    key: &quot;T&quot;\\n    value {\\n      type: DT_FLOAT\\n    }\\n  }\\n  attr {\\n    key: &quot;padding&quot;\\n    value {\\n      s: &quot;SAME&quot;\\n    }\\n  }\\n  attr {\\n    key: &quot;strides&quot;\\n    value {\\n      list {\\n        i: 1\\n        i: 1\\n        i: 1\\n        i: 1\\n      }\\n    }\\n  }\\n  attr {\\n    key: &quot;use_cudnn_on_gpu&quot;\\n    value {\\n      b: true\\n    }\\n  }\\n}\\nnode {\\n  name: &quot;mixed4a/5x5_pre_relu&quot;\\n  op: &quot;BiasAdd&quot;\\n  input: &quot;mixed4a/5x5_pre_relu/conv&quot;\\n  input: &quot;mixed4a/5x5_b&quot;\\n  device: &quot;/cpu:0&quot;\\n  attr {\\n    key: &quot;T&quot;\\n    value {\\n      type: DT_FLOAT\\n    }\\n  }\\n}\\nnode {\\n  name: &quot;mixed4a/5x5&quot;\\n  op: &quot;Relu&quot;\\n  input: &quot;mixed4a/5x5_pre_relu&quot;\\n  device: &quot;/cpu:0&quot;\\n  attr {\\n    key: &quot;T&quot;\\n    value {\\n      type: DT_FLOAT\\n    }\\n  }\\n}\\nnode {\\n  name: &quot;mixed4a/pool&quot;\\n  op: &quot;MaxPool&quot;\\n  input: &quot;maxpool4&quot;\\n  device: &quot;/cpu:0&quot;\\n  attr {\\n    key: &quot;ksize&quot;\\n    value {\\n      list {\\n        i: 1\\n        i: 3\\n        i: 3\\n        i: 1\\n      }\\n    }\\n  }\\n  attr {\\n    key: &quot;padding&quot;\\n    value {\\n      s: &quot;SAME&quot;\\n    }\\n  }\\n  attr {\\n    key: &quot;strides&quot;\\n    value {\\n      list {\\n        i: 1\\n        i: 1\\n        i: 1\\n        i: 1\\n      }\\n    }\\n  }\\n}\\nnode {\\n  name: &quot;mixed4a/pool_reduce_pre_relu/conv&quot;\\n  op: &quot;Conv2D&quot;\\n  input: &quot;mixed4a/pool&quot;\\n  input: &quot;mixed4a/pool_reduce_w&quot;\\n  device: &quot;/cpu:0&quot;\\n  attr {\\n    key: &quot;T&quot;\\n    value {\\n      type: DT_FLOAT\\n    }\\n  }\\n  attr {\\n    key: &quot;padding&quot;\\n    value {\\n      s: &quot;SAME&quot;\\n    }\\n  }\\n  attr {\\n    key: &quot;strides&quot;\\n    value {\\n      list {\\n        i: 1\\n        i: 1\\n        i: 1\\n        i: 1\\n      }\\n    }\\n  }\\n  attr {\\n    key: &quot;use_cudnn_on_gpu&quot;\\n    value {\\n      b: true\\n    }\\n  }\\n}\\nnode {\\n  name: &quot;mixed4a/pool_reduce_pre_relu&quot;\\n  op: &quot;BiasAdd&quot;\\n  input: &quot;mixed4a/pool_reduce_pre_relu/conv&quot;\\n  input: &quot;mixed4a/pool_reduce_b&quot;\\n  device: &quot;/cpu:0&quot;\\n  attr {\\n    key: &quot;T&quot;\\n    value {\\n      type: DT_FLOAT\\n    }\\n  }\\n}\\nnode {\\n  name: &quot;mixed4a/pool_reduce&quot;\\n  op: &quot;Relu&quot;\\n  input: &quot;mixed4a/pool_reduce_pre_relu&quot;\\n  device: &quot;/cpu:0&quot;\\n  attr {\\n    key: &quot;T&quot;\\n    value {\\n      type: DT_FLOAT\\n    }\\n  }\\n}\\nnode {\\n  name: &quot;mixed4a/concat/dim&quot;\\n  op: &quot;Const&quot;\\n  device: &quot;/cpu:0&quot;\\n  attr {\\n    key: &quot;dtype&quot;\\n    value {\\n      type: DT_INT32\\n    }\\n  }\\n  attr {\\n    key: &quot;value&quot;\\n    value {\\n      tensor {\\n        dtype: DT_INT32\\n        tensor_shape {\\n        }\\n        int_val: 3\\n      }\\n    }\\n  }\\n}\\nnode {\\n  name: &quot;mixed4a&quot;\\n  op: &quot;Concat&quot;\\n  input: &quot;mixed4a/concat/dim&quot;\\n  input: &quot;mixed4a/1x1&quot;\\n  input: &quot;mixed4a/3x3&quot;\\n  input: &quot;mixed4a/5x5&quot;\\n  input: &quot;mixed4a/pool_reduce&quot;\\n  device: &quot;/cpu:0&quot;\\n  attr {\\n    key: &quot;N&quot;\\n    value {\\n      i: 4\\n    }\\n  }\\n  attr {\\n    key: &quot;T&quot;\\n    value {\\n      type: DT_FLOAT\\n    }\\n  }\\n}\\nnode {\\n  name: &quot;mixed4b/1x1_pre_relu/conv&quot;\\n  op: &quot;Conv2D&quot;\\n  input: &quot;mixed4a&quot;\\n  input: &quot;mixed4b/1x1_w&quot;\\n  device: &quot;/cpu:0&quot;\\n  attr {\\n    key: &quot;T&quot;\\n    value {\\n      type: DT_FLOAT\\n    }\\n  }\\n  attr {\\n    key: &quot;padding&quot;\\n    value {\\n      s: &quot;SAME&quot;\\n    }\\n  }\\n  attr {\\n    key: &quot;strides&quot;\\n    value {\\n      list {\\n        i: 1\\n        i: 1\\n        i: 1\\n        i: 1\\n      }\\n    }\\n  }\\n  attr {\\n    key: &quot;use_cudnn_on_gpu&quot;\\n    value {\\n      b: true\\n    }\\n  }\\n}\\nnode {\\n  name: &quot;mixed4b/1x1_pre_relu&quot;\\n  op: &quot;BiasAdd&quot;\\n  input: &quot;mixed4b/1x1_pre_relu/conv&quot;\\n  input: &quot;mixed4b/1x1_b&quot;\\n  device: &quot;/cpu:0&quot;\\n  attr {\\n    key: &quot;T&quot;\\n    value {\\n      type: DT_FLOAT\\n    }\\n  }\\n}\\nnode {\\n  name: &quot;mixed4b/1x1&quot;\\n  op: &quot;Relu&quot;\\n  input: &quot;mixed4b/1x1_pre_relu&quot;\\n  device: &quot;/cpu:0&quot;\\n  attr {\\n    key: &quot;T&quot;\\n    value {\\n      type: DT_FLOAT\\n    }\\n  }\\n}\\nnode {\\n  name: &quot;mixed4b/3x3_bottleneck_pre_relu/conv&quot;\\n  op: &quot;Conv2D&quot;\\n  input: &quot;mixed4a&quot;\\n  input: &quot;mixed4b/3x3_bottleneck_w&quot;\\n  device: &quot;/cpu:0&quot;\\n  attr {\\n    key: &quot;T&quot;\\n    value {\\n      type: DT_FLOAT\\n    }\\n  }\\n  attr {\\n    key: &quot;padding&quot;\\n    value {\\n      s: &quot;SAME&quot;\\n    }\\n  }\\n  attr {\\n    key: &quot;strides&quot;\\n    value {\\n      list {\\n        i: 1\\n        i: 1\\n        i: 1\\n        i: 1\\n      }\\n    }\\n  }\\n  attr {\\n    key: &quot;use_cudnn_on_gpu&quot;\\n    value {\\n      b: true\\n    }\\n  }\\n}\\nnode {\\n  name: &quot;mixed4b/3x3_bottleneck_pre_relu&quot;\\n  op: &quot;BiasAdd&quot;\\n  input: &quot;mixed4b/3x3_bottleneck_pre_relu/conv&quot;\\n  input: &quot;mixed4b/3x3_bottleneck_b&quot;\\n  device: &quot;/cpu:0&quot;\\n  attr {\\n    key: &quot;T&quot;\\n    value {\\n      type: DT_FLOAT\\n    }\\n  }\\n}\\nnode {\\n  name: &quot;mixed4b/3x3_bottleneck&quot;\\n  op: &quot;Relu&quot;\\n  input: &quot;mixed4b/3x3_bottleneck_pre_relu&quot;\\n  device: &quot;/cpu:0&quot;\\n  attr {\\n    key: &quot;T&quot;\\n    value {\\n      type: DT_FLOAT\\n    }\\n  }\\n}\\nnode {\\n  name: &quot;mixed4b/3x3_pre_relu/conv&quot;\\n  op: &quot;Conv2D&quot;\\n  input: &quot;mixed4b/3x3_bottleneck&quot;\\n  input: &quot;mixed4b/3x3_w&quot;\\n  device: &quot;/cpu:0&quot;\\n  attr {\\n    key: &quot;T&quot;\\n    value {\\n      type: DT_FLOAT\\n    }\\n  }\\n  attr {\\n    key: &quot;padding&quot;\\n    value {\\n      s: &quot;SAME&quot;\\n    }\\n  }\\n  attr {\\n    key: &quot;strides&quot;\\n    value {\\n      list {\\n        i: 1\\n        i: 1\\n        i: 1\\n        i: 1\\n      }\\n    }\\n  }\\n  attr {\\n    key: &quot;use_cudnn_on_gpu&quot;\\n    value {\\n      b: true\\n    }\\n  }\\n}\\nnode {\\n  name: &quot;mixed4b/3x3_pre_relu&quot;\\n  op: &quot;BiasAdd&quot;\\n  input: &quot;mixed4b/3x3_pre_relu/conv&quot;\\n  input: &quot;mixed4b/3x3_b&quot;\\n  device: &quot;/cpu:0&quot;\\n  attr {\\n    key: &quot;T&quot;\\n    value {\\n      type: DT_FLOAT\\n    }\\n  }\\n}\\nnode {\\n  name: &quot;mixed4b/3x3&quot;\\n  op: &quot;Relu&quot;\\n  input: &quot;mixed4b/3x3_pre_relu&quot;\\n  device: &quot;/cpu:0&quot;\\n  attr {\\n    key: &quot;T&quot;\\n    value {\\n      type: DT_FLOAT\\n    }\\n  }\\n}\\nnode {\\n  name: &quot;mixed4b/5x5_bottleneck_pre_relu/conv&quot;\\n  op: &quot;Conv2D&quot;\\n  input: &quot;mixed4a&quot;\\n  input: &quot;mixed4b/5x5_bottleneck_w&quot;\\n  device: &quot;/cpu:0&quot;\\n  attr {\\n    key: &quot;T&quot;\\n    value {\\n      type: DT_FLOAT\\n    }\\n  }\\n  attr {\\n    key: &quot;padding&quot;\\n    value {\\n      s: &quot;SAME&quot;\\n    }\\n  }\\n  attr {\\n    key: &quot;strides&quot;\\n    value {\\n      list {\\n        i: 1\\n        i: 1\\n        i: 1\\n        i: 1\\n      }\\n    }\\n  }\\n  attr {\\n    key: &quot;use_cudnn_on_gpu&quot;\\n    value {\\n      b: true\\n    }\\n  }\\n}\\nnode {\\n  name: &quot;mixed4b/5x5_bottleneck_pre_relu&quot;\\n  op: &quot;BiasAdd&quot;\\n  input: &quot;mixed4b/5x5_bottleneck_pre_relu/conv&quot;\\n  input: &quot;mixed4b/5x5_bottleneck_b&quot;\\n  device: &quot;/cpu:0&quot;\\n  attr {\\n    key: &quot;T&quot;\\n    value {\\n      type: DT_FLOAT\\n    }\\n  }\\n}\\nnode {\\n  name: &quot;mixed4b/5x5_bottleneck&quot;\\n  op: &quot;Relu&quot;\\n  input: &quot;mixed4b/5x5_bottleneck_pre_relu&quot;\\n  device: &quot;/cpu:0&quot;\\n  attr {\\n    key: &quot;T&quot;\\n    value {\\n      type: DT_FLOAT\\n    }\\n  }\\n}\\nnode {\\n  name: &quot;mixed4b/5x5_pre_relu/conv&quot;\\n  op: &quot;Conv2D&quot;\\n  input: &quot;mixed4b/5x5_bottleneck&quot;\\n  input: &quot;mixed4b/5x5_w&quot;\\n  device: &quot;/cpu:0&quot;\\n  attr {\\n    key: &quot;T&quot;\\n    value {\\n      type: DT_FLOAT\\n    }\\n  }\\n  attr {\\n    key: &quot;padding&quot;\\n    value {\\n      s: &quot;SAME&quot;\\n    }\\n  }\\n  attr {\\n    key: &quot;strides&quot;\\n    value {\\n      list {\\n        i: 1\\n        i: 1\\n        i: 1\\n        i: 1\\n      }\\n    }\\n  }\\n  attr {\\n    key: &quot;use_cudnn_on_gpu&quot;\\n    value {\\n      b: true\\n    }\\n  }\\n}\\nnode {\\n  name: &quot;mixed4b/5x5_pre_relu&quot;\\n  op: &quot;BiasAdd&quot;\\n  input: &quot;mixed4b/5x5_pre_relu/conv&quot;\\n  input: &quot;mixed4b/5x5_b&quot;\\n  device: &quot;/cpu:0&quot;\\n  attr {\\n    key: &quot;T&quot;\\n    value {\\n      type: DT_FLOAT\\n    }\\n  }\\n}\\nnode {\\n  name: &quot;mixed4b/5x5&quot;\\n  op: &quot;Relu&quot;\\n  input: &quot;mixed4b/5x5_pre_relu&quot;\\n  device: &quot;/cpu:0&quot;\\n  attr {\\n    key: &quot;T&quot;\\n    value {\\n      type: DT_FLOAT\\n    }\\n  }\\n}\\nnode {\\n  name: &quot;mixed4b/pool&quot;\\n  op: &quot;MaxPool&quot;\\n  input: &quot;mixed4a&quot;\\n  device: &quot;/cpu:0&quot;\\n  attr {\\n    key: &quot;ksize&quot;\\n    value {\\n      list {\\n        i: 1\\n        i: 3\\n        i: 3\\n        i: 1\\n      }\\n    }\\n  }\\n  attr {\\n    key: &quot;padding&quot;\\n    value {\\n      s: &quot;SAME&quot;\\n    }\\n  }\\n  attr {\\n    key: &quot;strides&quot;\\n    value {\\n      list {\\n        i: 1\\n        i: 1\\n        i: 1\\n        i: 1\\n      }\\n    }\\n  }\\n}\\nnode {\\n  name: &quot;mixed4b/pool_reduce_pre_relu/conv&quot;\\n  op: &quot;Conv2D&quot;\\n  input: &quot;mixed4b/pool&quot;\\n  input: &quot;mixed4b/pool_reduce_w&quot;\\n  device: &quot;/cpu:0&quot;\\n  attr {\\n    key: &quot;T&quot;\\n    value {\\n      type: DT_FLOAT\\n    }\\n  }\\n  attr {\\n    key: &quot;padding&quot;\\n    value {\\n      s: &quot;SAME&quot;\\n    }\\n  }\\n  attr {\\n    key: &quot;strides&quot;\\n    value {\\n      list {\\n        i: 1\\n        i: 1\\n        i: 1\\n        i: 1\\n      }\\n    }\\n  }\\n  attr {\\n    key: &quot;use_cudnn_on_gpu&quot;\\n    value {\\n      b: true\\n    }\\n  }\\n}\\nnode {\\n  name: &quot;mixed4b/pool_reduce_pre_relu&quot;\\n  op: &quot;BiasAdd&quot;\\n  input: &quot;mixed4b/pool_reduce_pre_relu/conv&quot;\\n  input: &quot;mixed4b/pool_reduce_b&quot;\\n  device: &quot;/cpu:0&quot;\\n  attr {\\n    key: &quot;T&quot;\\n    value {\\n      type: DT_FLOAT\\n    }\\n  }\\n}\\nnode {\\n  name: &quot;mixed4b/pool_reduce&quot;\\n  op: &quot;Relu&quot;\\n  input: &quot;mixed4b/pool_reduce_pre_relu&quot;\\n  device: &quot;/cpu:0&quot;\\n  attr {\\n    key: &quot;T&quot;\\n    value {\\n      type: DT_FLOAT\\n    }\\n  }\\n}\\nnode {\\n  name: &quot;mixed4b/concat/dim&quot;\\n  op: &quot;Const&quot;\\n  device: &quot;/cpu:0&quot;\\n  attr {\\n    key: &quot;dtype&quot;\\n    value {\\n      type: DT_INT32\\n    }\\n  }\\n  attr {\\n    key: &quot;value&quot;\\n    value {\\n      tensor {\\n        dtype: DT_INT32\\n        tensor_shape {\\n        }\\n        int_val: 3\\n      }\\n    }\\n  }\\n}\\nnode {\\n  name: &quot;mixed4b&quot;\\n  op: &quot;Concat&quot;\\n  input: &quot;mixed4b/concat/dim&quot;\\n  input: &quot;mixed4b/1x1&quot;\\n  input: &quot;mixed4b/3x3&quot;\\n  input: &quot;mixed4b/5x5&quot;\\n  input: &quot;mixed4b/pool_reduce&quot;\\n  device: &quot;/cpu:0&quot;\\n  attr {\\n    key: &quot;N&quot;\\n    value {\\n      i: 4\\n    }\\n  }\\n  attr {\\n    key: &quot;T&quot;\\n    value {\\n      type: DT_FLOAT\\n    }\\n  }\\n}\\nnode {\\n  name: &quot;mixed4c/1x1_pre_relu/conv&quot;\\n  op: &quot;Conv2D&quot;\\n  input: &quot;mixed4b&quot;\\n  input: &quot;mixed4c/1x1_w&quot;\\n  device: &quot;/cpu:0&quot;\\n  attr {\\n    key: &quot;T&quot;\\n    value {\\n      type: DT_FLOAT\\n    }\\n  }\\n  attr {\\n    key: &quot;padding&quot;\\n    value {\\n      s: &quot;SAME&quot;\\n    }\\n  }\\n  attr {\\n    key: &quot;strides&quot;\\n    value {\\n      list {\\n        i: 1\\n        i: 1\\n        i: 1\\n        i: 1\\n      }\\n    }\\n  }\\n  attr {\\n    key: &quot;use_cudnn_on_gpu&quot;\\n    value {\\n      b: true\\n    }\\n  }\\n}\\nnode {\\n  name: &quot;mixed4c/1x1_pre_relu&quot;\\n  op: &quot;BiasAdd&quot;\\n  input: &quot;mixed4c/1x1_pre_relu/conv&quot;\\n  input: &quot;mixed4c/1x1_b&quot;\\n  device: &quot;/cpu:0&quot;\\n  attr {\\n    key: &quot;T&quot;\\n    value {\\n      type: DT_FLOAT\\n    }\\n  }\\n}\\nnode {\\n  name: &quot;mixed4c/1x1&quot;\\n  op: &quot;Relu&quot;\\n  input: &quot;mixed4c/1x1_pre_relu&quot;\\n  device: &quot;/cpu:0&quot;\\n  attr {\\n    key: &quot;T&quot;\\n    value {\\n      type: DT_FLOAT\\n    }\\n  }\\n}\\nnode {\\n  name: &quot;mixed4c/3x3_bottleneck_pre_relu/conv&quot;\\n  op: &quot;Conv2D&quot;\\n  input: &quot;mixed4b&quot;\\n  input: &quot;mixed4c/3x3_bottleneck_w&quot;\\n  device: &quot;/cpu:0&quot;\\n  attr {\\n    key: &quot;T&quot;\\n    value {\\n      type: DT_FLOAT\\n    }\\n  }\\n  attr {\\n    key: &quot;padding&quot;\\n    value {\\n      s: &quot;SAME&quot;\\n    }\\n  }\\n  attr {\\n    key: &quot;strides&quot;\\n    value {\\n      list {\\n        i: 1\\n        i: 1\\n        i: 1\\n        i: 1\\n      }\\n    }\\n  }\\n  attr {\\n    key: &quot;use_cudnn_on_gpu&quot;\\n    value {\\n      b: true\\n    }\\n  }\\n}\\nnode {\\n  name: &quot;mixed4c/3x3_bottleneck_pre_relu&quot;\\n  op: &quot;BiasAdd&quot;\\n  input: &quot;mixed4c/3x3_bottleneck_pre_relu/conv&quot;\\n  input: &quot;mixed4c/3x3_bottleneck_b&quot;\\n  device: &quot;/cpu:0&quot;\\n  attr {\\n    key: &quot;T&quot;\\n    value {\\n      type: DT_FLOAT\\n    }\\n  }\\n}\\nnode {\\n  name: &quot;mixed4c/3x3_bottleneck&quot;\\n  op: &quot;Relu&quot;\\n  input: &quot;mixed4c/3x3_bottleneck_pre_relu&quot;\\n  device: &quot;/cpu:0&quot;\\n  attr {\\n    key: &quot;T&quot;\\n    value {\\n      type: DT_FLOAT\\n    }\\n  }\\n}\\nnode {\\n  name: &quot;mixed4c/3x3_pre_relu/conv&quot;\\n  op: &quot;Conv2D&quot;\\n  input: &quot;mixed4c/3x3_bottleneck&quot;\\n  input: &quot;mixed4c/3x3_w&quot;\\n  device: &quot;/cpu:0&quot;\\n  attr {\\n    key: &quot;T&quot;\\n    value {\\n      type: DT_FLOAT\\n    }\\n  }\\n  attr {\\n    key: &quot;padding&quot;\\n    value {\\n      s: &quot;SAME&quot;\\n    }\\n  }\\n  attr {\\n    key: &quot;strides&quot;\\n    value {\\n      list {\\n        i: 1\\n        i: 1\\n        i: 1\\n        i: 1\\n      }\\n    }\\n  }\\n  attr {\\n    key: &quot;use_cudnn_on_gpu&quot;\\n    value {\\n      b: true\\n    }\\n  }\\n}\\nnode {\\n  name: &quot;mixed4c/3x3_pre_relu&quot;\\n  op: &quot;BiasAdd&quot;\\n  input: &quot;mixed4c/3x3_pre_relu/conv&quot;\\n  input: &quot;mixed4c/3x3_b&quot;\\n  device: &quot;/cpu:0&quot;\\n  attr {\\n    key: &quot;T&quot;\\n    value {\\n      type: DT_FLOAT\\n    }\\n  }\\n}\\nnode {\\n  name: &quot;mixed4c/3x3&quot;\\n  op: &quot;Relu&quot;\\n  input: &quot;mixed4c/3x3_pre_relu&quot;\\n  device: &quot;/cpu:0&quot;\\n  attr {\\n    key: &quot;T&quot;\\n    value {\\n      type: DT_FLOAT\\n    }\\n  }\\n}\\nnode {\\n  name: &quot;mixed4c/5x5_bottleneck_pre_relu/conv&quot;\\n  op: &quot;Conv2D&quot;\\n  input: &quot;mixed4b&quot;\\n  input: &quot;mixed4c/5x5_bottleneck_w&quot;\\n  device: &quot;/cpu:0&quot;\\n  attr {\\n    key: &quot;T&quot;\\n    value {\\n      type: DT_FLOAT\\n    }\\n  }\\n  attr {\\n    key: &quot;padding&quot;\\n    value {\\n      s: &quot;SAME&quot;\\n    }\\n  }\\n  attr {\\n    key: &quot;strides&quot;\\n    value {\\n      list {\\n        i: 1\\n        i: 1\\n        i: 1\\n        i: 1\\n      }\\n    }\\n  }\\n  attr {\\n    key: &quot;use_cudnn_on_gpu&quot;\\n    value {\\n      b: true\\n    }\\n  }\\n}\\nnode {\\n  name: &quot;mixed4c/5x5_bottleneck_pre_relu&quot;\\n  op: &quot;BiasAdd&quot;\\n  input: &quot;mixed4c/5x5_bottleneck_pre_relu/conv&quot;\\n  input: &quot;mixed4c/5x5_bottleneck_b&quot;\\n  device: &quot;/cpu:0&quot;\\n  attr {\\n    key: &quot;T&quot;\\n    value {\\n      type: DT_FLOAT\\n    }\\n  }\\n}\\nnode {\\n  name: &quot;mixed4c/5x5_bottleneck&quot;\\n  op: &quot;Relu&quot;\\n  input: &quot;mixed4c/5x5_bottleneck_pre_relu&quot;\\n  device: &quot;/cpu:0&quot;\\n  attr {\\n    key: &quot;T&quot;\\n    value {\\n      type: DT_FLOAT\\n    }\\n  }\\n}\\nnode {\\n  name: &quot;mixed4c/5x5_pre_relu/conv&quot;\\n  op: &quot;Conv2D&quot;\\n  input: &quot;mixed4c/5x5_bottleneck&quot;\\n  input: &quot;mixed4c/5x5_w&quot;\\n  device: &quot;/cpu:0&quot;\\n  attr {\\n    key: &quot;T&quot;\\n    value {\\n      type: DT_FLOAT\\n    }\\n  }\\n  attr {\\n    key: &quot;padding&quot;\\n    value {\\n      s: &quot;SAME&quot;\\n    }\\n  }\\n  attr {\\n    key: &quot;strides&quot;\\n    value {\\n      list {\\n        i: 1\\n        i: 1\\n        i: 1\\n        i: 1\\n      }\\n    }\\n  }\\n  attr {\\n    key: &quot;use_cudnn_on_gpu&quot;\\n    value {\\n      b: true\\n    }\\n  }\\n}\\nnode {\\n  name: &quot;mixed4c/5x5_pre_relu&quot;\\n  op: &quot;BiasAdd&quot;\\n  input: &quot;mixed4c/5x5_pre_relu/conv&quot;\\n  input: &quot;mixed4c/5x5_b&quot;\\n  device: &quot;/cpu:0&quot;\\n  attr {\\n    key: &quot;T&quot;\\n    value {\\n      type: DT_FLOAT\\n    }\\n  }\\n}\\nnode {\\n  name: &quot;mixed4c/5x5&quot;\\n  op: &quot;Relu&quot;\\n  input: &quot;mixed4c/5x5_pre_relu&quot;\\n  device: &quot;/cpu:0&quot;\\n  attr {\\n    key: &quot;T&quot;\\n    value {\\n      type: DT_FLOAT\\n    }\\n  }\\n}\\nnode {\\n  name: &quot;mixed4c/pool&quot;\\n  op: &quot;MaxPool&quot;\\n  input: &quot;mixed4b&quot;\\n  device: &quot;/cpu:0&quot;\\n  attr {\\n    key: &quot;ksize&quot;\\n    value {\\n      list {\\n        i: 1\\n        i: 3\\n        i: 3\\n        i: 1\\n      }\\n    }\\n  }\\n  attr {\\n    key: &quot;padding&quot;\\n    value {\\n      s: &quot;SAME&quot;\\n    }\\n  }\\n  attr {\\n    key: &quot;strides&quot;\\n    value {\\n      list {\\n        i: 1\\n        i: 1\\n        i: 1\\n        i: 1\\n      }\\n    }\\n  }\\n}\\nnode {\\n  name: &quot;mixed4c/pool_reduce_pre_relu/conv&quot;\\n  op: &quot;Conv2D&quot;\\n  input: &quot;mixed4c/pool&quot;\\n  input: &quot;mixed4c/pool_reduce_w&quot;\\n  device: &quot;/cpu:0&quot;\\n  attr {\\n    key: &quot;T&quot;\\n    value {\\n      type: DT_FLOAT\\n    }\\n  }\\n  attr {\\n    key: &quot;padding&quot;\\n    value {\\n      s: &quot;SAME&quot;\\n    }\\n  }\\n  attr {\\n    key: &quot;strides&quot;\\n    value {\\n      list {\\n        i: 1\\n        i: 1\\n        i: 1\\n        i: 1\\n      }\\n    }\\n  }\\n  attr {\\n    key: &quot;use_cudnn_on_gpu&quot;\\n    value {\\n      b: true\\n    }\\n  }\\n}\\nnode {\\n  name: &quot;mixed4c/pool_reduce_pre_relu&quot;\\n  op: &quot;BiasAdd&quot;\\n  input: &quot;mixed4c/pool_reduce_pre_relu/conv&quot;\\n  input: &quot;mixed4c/pool_reduce_b&quot;\\n  device: &quot;/cpu:0&quot;\\n  attr {\\n    key: &quot;T&quot;\\n    value {\\n      type: DT_FLOAT\\n    }\\n  }\\n}\\nnode {\\n  name: &quot;mixed4c/pool_reduce&quot;\\n  op: &quot;Relu&quot;\\n  input: &quot;mixed4c/pool_reduce_pre_relu&quot;\\n  device: &quot;/cpu:0&quot;\\n  attr {\\n    key: &quot;T&quot;\\n    value {\\n      type: DT_FLOAT\\n    }\\n  }\\n}\\nnode {\\n  name: &quot;mixed4c/concat/dim&quot;\\n  op: &quot;Const&quot;\\n  device: &quot;/cpu:0&quot;\\n  attr {\\n    key: &quot;dtype&quot;\\n    value {\\n      type: DT_INT32\\n    }\\n  }\\n  attr {\\n    key: &quot;value&quot;\\n    value {\\n      tensor {\\n        dtype: DT_INT32\\n        tensor_shape {\\n        }\\n        int_val: 3\\n      }\\n    }\\n  }\\n}\\nnode {\\n  name: &quot;mixed4c&quot;\\n  op: &quot;Concat&quot;\\n  input: &quot;mixed4c/concat/dim&quot;\\n  input: &quot;mixed4c/1x1&quot;\\n  input: &quot;mixed4c/3x3&quot;\\n  input: &quot;mixed4c/5x5&quot;\\n  input: &quot;mixed4c/pool_reduce&quot;\\n  device: &quot;/cpu:0&quot;\\n  attr {\\n    key: &quot;N&quot;\\n    value {\\n      i: 4\\n    }\\n  }\\n  attr {\\n    key: &quot;T&quot;\\n    value {\\n      type: DT_FLOAT\\n    }\\n  }\\n}\\nnode {\\n  name: &quot;mixed4d/1x1_pre_relu/conv&quot;\\n  op: &quot;Conv2D&quot;\\n  input: &quot;mixed4c&quot;\\n  input: &quot;mixed4d/1x1_w&quot;\\n  device: &quot;/cpu:0&quot;\\n  attr {\\n    key: &quot;T&quot;\\n    value {\\n      type: DT_FLOAT\\n    }\\n  }\\n  attr {\\n    key: &quot;padding&quot;\\n    value {\\n      s: &quot;SAME&quot;\\n    }\\n  }\\n  attr {\\n    key: &quot;strides&quot;\\n    value {\\n      list {\\n        i: 1\\n        i: 1\\n        i: 1\\n        i: 1\\n      }\\n    }\\n  }\\n  attr {\\n    key: &quot;use_cudnn_on_gpu&quot;\\n    value {\\n      b: true\\n    }\\n  }\\n}\\nnode {\\n  name: &quot;mixed4d/1x1_pre_relu&quot;\\n  op: &quot;BiasAdd&quot;\\n  input: &quot;mixed4d/1x1_pre_relu/conv&quot;\\n  input: &quot;mixed4d/1x1_b&quot;\\n  device: &quot;/cpu:0&quot;\\n  attr {\\n    key: &quot;T&quot;\\n    value {\\n      type: DT_FLOAT\\n    }\\n  }\\n}\\nnode {\\n  name: &quot;mixed4d/1x1&quot;\\n  op: &quot;Relu&quot;\\n  input: &quot;mixed4d/1x1_pre_relu&quot;\\n  device: &quot;/cpu:0&quot;\\n  attr {\\n    key: &quot;T&quot;\\n    value {\\n      type: DT_FLOAT\\n    }\\n  }\\n}\\nnode {\\n  name: &quot;mixed4d/3x3_bottleneck_pre_relu/conv&quot;\\n  op: &quot;Conv2D&quot;\\n  input: &quot;mixed4c&quot;\\n  input: &quot;mixed4d/3x3_bottleneck_w&quot;\\n  device: &quot;/cpu:0&quot;\\n  attr {\\n    key: &quot;T&quot;\\n    value {\\n      type: DT_FLOAT\\n    }\\n  }\\n  attr {\\n    key: &quot;padding&quot;\\n    value {\\n      s: &quot;SAME&quot;\\n    }\\n  }\\n  attr {\\n    key: &quot;strides&quot;\\n    value {\\n      list {\\n        i: 1\\n        i: 1\\n        i: 1\\n        i: 1\\n      }\\n    }\\n  }\\n  attr {\\n    key: &quot;use_cudnn_on_gpu&quot;\\n    value {\\n      b: true\\n    }\\n  }\\n}\\nnode {\\n  name: &quot;mixed4d/3x3_bottleneck_pre_relu&quot;\\n  op: &quot;BiasAdd&quot;\\n  input: &quot;mixed4d/3x3_bottleneck_pre_relu/conv&quot;\\n  input: &quot;mixed4d/3x3_bottleneck_b&quot;\\n  device: &quot;/cpu:0&quot;\\n  attr {\\n    key: &quot;T&quot;\\n    value {\\n      type: DT_FLOAT\\n    }\\n  }\\n}\\nnode {\\n  name: &quot;mixed4d/3x3_bottleneck&quot;\\n  op: &quot;Relu&quot;\\n  input: &quot;mixed4d/3x3_bottleneck_pre_relu&quot;\\n  device: &quot;/cpu:0&quot;\\n  attr {\\n    key: &quot;T&quot;\\n    value {\\n      type: DT_FLOAT\\n    }\\n  }\\n}\\nnode {\\n  name: &quot;mixed4d/3x3_pre_relu/conv&quot;\\n  op: &quot;Conv2D&quot;\\n  input: &quot;mixed4d/3x3_bottleneck&quot;\\n  input: &quot;mixed4d/3x3_w&quot;\\n  device: &quot;/cpu:0&quot;\\n  attr {\\n    key: &quot;T&quot;\\n    value {\\n      type: DT_FLOAT\\n    }\\n  }\\n  attr {\\n    key: &quot;padding&quot;\\n    value {\\n      s: &quot;SAME&quot;\\n    }\\n  }\\n  attr {\\n    key: &quot;strides&quot;\\n    value {\\n      list {\\n        i: 1\\n        i: 1\\n        i: 1\\n        i: 1\\n      }\\n    }\\n  }\\n  attr {\\n    key: &quot;use_cudnn_on_gpu&quot;\\n    value {\\n      b: true\\n    }\\n  }\\n}\\nnode {\\n  name: &quot;mixed4d/3x3_pre_relu&quot;\\n  op: &quot;BiasAdd&quot;\\n  input: &quot;mixed4d/3x3_pre_relu/conv&quot;\\n  input: &quot;mixed4d/3x3_b&quot;\\n  device: &quot;/cpu:0&quot;\\n  attr {\\n    key: &quot;T&quot;\\n    value {\\n      type: DT_FLOAT\\n    }\\n  }\\n}\\nnode {\\n  name: &quot;mixed4d/3x3&quot;\\n  op: &quot;Relu&quot;\\n  input: &quot;mixed4d/3x3_pre_relu&quot;\\n  device: &quot;/cpu:0&quot;\\n  attr {\\n    key: &quot;T&quot;\\n    value {\\n      type: DT_FLOAT\\n    }\\n  }\\n}\\nnode {\\n  name: &quot;mixed4d/5x5_bottleneck_pre_relu/conv&quot;\\n  op: &quot;Conv2D&quot;\\n  input: &quot;mixed4c&quot;\\n  input: &quot;mixed4d/5x5_bottleneck_w&quot;\\n  device: &quot;/cpu:0&quot;\\n  attr {\\n    key: &quot;T&quot;\\n    value {\\n      type: DT_FLOAT\\n    }\\n  }\\n  attr {\\n    key: &quot;padding&quot;\\n    value {\\n      s: &quot;SAME&quot;\\n    }\\n  }\\n  attr {\\n    key: &quot;strides&quot;\\n    value {\\n      list {\\n        i: 1\\n        i: 1\\n        i: 1\\n        i: 1\\n      }\\n    }\\n  }\\n  attr {\\n    key: &quot;use_cudnn_on_gpu&quot;\\n    value {\\n      b: true\\n    }\\n  }\\n}\\nnode {\\n  name: &quot;mixed4d/5x5_bottleneck_pre_relu&quot;\\n  op: &quot;BiasAdd&quot;\\n  input: &quot;mixed4d/5x5_bottleneck_pre_relu/conv&quot;\\n  input: &quot;mixed4d/5x5_bottleneck_b&quot;\\n  device: &quot;/cpu:0&quot;\\n  attr {\\n    key: &quot;T&quot;\\n    value {\\n      type: DT_FLOAT\\n    }\\n  }\\n}\\nnode {\\n  name: &quot;mixed4d/5x5_bottleneck&quot;\\n  op: &quot;Relu&quot;\\n  input: &quot;mixed4d/5x5_bottleneck_pre_relu&quot;\\n  device: &quot;/cpu:0&quot;\\n  attr {\\n    key: &quot;T&quot;\\n    value {\\n      type: DT_FLOAT\\n    }\\n  }\\n}\\nnode {\\n  name: &quot;mixed4d/5x5_pre_relu/conv&quot;\\n  op: &quot;Conv2D&quot;\\n  input: &quot;mixed4d/5x5_bottleneck&quot;\\n  input: &quot;mixed4d/5x5_w&quot;\\n  device: &quot;/cpu:0&quot;\\n  attr {\\n    key: &quot;T&quot;\\n    value {\\n      type: DT_FLOAT\\n    }\\n  }\\n  attr {\\n    key: &quot;padding&quot;\\n    value {\\n      s: &quot;SAME&quot;\\n    }\\n  }\\n  attr {\\n    key: &quot;strides&quot;\\n    value {\\n      list {\\n        i: 1\\n        i: 1\\n        i: 1\\n        i: 1\\n      }\\n    }\\n  }\\n  attr {\\n    key: &quot;use_cudnn_on_gpu&quot;\\n    value {\\n      b: true\\n    }\\n  }\\n}\\nnode {\\n  name: &quot;mixed4d/5x5_pre_relu&quot;\\n  op: &quot;BiasAdd&quot;\\n  input: &quot;mixed4d/5x5_pre_relu/conv&quot;\\n  input: &quot;mixed4d/5x5_b&quot;\\n  device: &quot;/cpu:0&quot;\\n  attr {\\n    key: &quot;T&quot;\\n    value {\\n      type: DT_FLOAT\\n    }\\n  }\\n}\\nnode {\\n  name: &quot;mixed4d/5x5&quot;\\n  op: &quot;Relu&quot;\\n  input: &quot;mixed4d/5x5_pre_relu&quot;\\n  device: &quot;/cpu:0&quot;\\n  attr {\\n    key: &quot;T&quot;\\n    value {\\n      type: DT_FLOAT\\n    }\\n  }\\n}\\nnode {\\n  name: &quot;mixed4d/pool&quot;\\n  op: &quot;MaxPool&quot;\\n  input: &quot;mixed4c&quot;\\n  device: &quot;/cpu:0&quot;\\n  attr {\\n    key: &quot;ksize&quot;\\n    value {\\n      list {\\n        i: 1\\n        i: 3\\n        i: 3\\n        i: 1\\n      }\\n    }\\n  }\\n  attr {\\n    key: &quot;padding&quot;\\n    value {\\n      s: &quot;SAME&quot;\\n    }\\n  }\\n  attr {\\n    key: &quot;strides&quot;\\n    value {\\n      list {\\n        i: 1\\n        i: 1\\n        i: 1\\n        i: 1\\n      }\\n    }\\n  }\\n}\\nnode {\\n  name: &quot;mixed4d/pool_reduce_pre_relu/conv&quot;\\n  op: &quot;Conv2D&quot;\\n  input: &quot;mixed4d/pool&quot;\\n  input: &quot;mixed4d/pool_reduce_w&quot;\\n  device: &quot;/cpu:0&quot;\\n  attr {\\n    key: &quot;T&quot;\\n    value {\\n      type: DT_FLOAT\\n    }\\n  }\\n  attr {\\n    key: &quot;padding&quot;\\n    value {\\n      s: &quot;SAME&quot;\\n    }\\n  }\\n  attr {\\n    key: &quot;strides&quot;\\n    value {\\n      list {\\n        i: 1\\n        i: 1\\n        i: 1\\n        i: 1\\n      }\\n    }\\n  }\\n  attr {\\n    key: &quot;use_cudnn_on_gpu&quot;\\n    value {\\n      b: true\\n    }\\n  }\\n}\\nnode {\\n  name: &quot;mixed4d/pool_reduce_pre_relu&quot;\\n  op: &quot;BiasAdd&quot;\\n  input: &quot;mixed4d/pool_reduce_pre_relu/conv&quot;\\n  input: &quot;mixed4d/pool_reduce_b&quot;\\n  device: &quot;/cpu:0&quot;\\n  attr {\\n    key: &quot;T&quot;\\n    value {\\n      type: DT_FLOAT\\n    }\\n  }\\n}\\nnode {\\n  name: &quot;mixed4d/pool_reduce&quot;\\n  op: &quot;Relu&quot;\\n  input: &quot;mixed4d/pool_reduce_pre_relu&quot;\\n  device: &quot;/cpu:0&quot;\\n  attr {\\n    key: &quot;T&quot;\\n    value {\\n      type: DT_FLOAT\\n    }\\n  }\\n}\\nnode {\\n  name: &quot;mixed4d/concat/dim&quot;\\n  op: &quot;Const&quot;\\n  device: &quot;/cpu:0&quot;\\n  attr {\\n    key: &quot;dtype&quot;\\n    value {\\n      type: DT_INT32\\n    }\\n  }\\n  attr {\\n    key: &quot;value&quot;\\n    value {\\n      tensor {\\n        dtype: DT_INT32\\n        tensor_shape {\\n        }\\n        int_val: 3\\n      }\\n    }\\n  }\\n}\\nnode {\\n  name: &quot;mixed4d&quot;\\n  op: &quot;Concat&quot;\\n  input: &quot;mixed4d/concat/dim&quot;\\n  input: &quot;mixed4d/1x1&quot;\\n  input: &quot;mixed4d/3x3&quot;\\n  input: &quot;mixed4d/5x5&quot;\\n  input: &quot;mixed4d/pool_reduce&quot;\\n  device: &quot;/cpu:0&quot;\\n  attr {\\n    key: &quot;N&quot;\\n    value {\\n      i: 4\\n    }\\n  }\\n  attr {\\n    key: &quot;T&quot;\\n    value {\\n      type: DT_FLOAT\\n    }\\n  }\\n}\\nnode {\\n  name: &quot;mixed4e/1x1_pre_relu/conv&quot;\\n  op: &quot;Conv2D&quot;\\n  input: &quot;mixed4d&quot;\\n  input: &quot;mixed4e/1x1_w&quot;\\n  device: &quot;/cpu:0&quot;\\n  attr {\\n    key: &quot;T&quot;\\n    value {\\n      type: DT_FLOAT\\n    }\\n  }\\n  attr {\\n    key: &quot;padding&quot;\\n    value {\\n      s: &quot;SAME&quot;\\n    }\\n  }\\n  attr {\\n    key: &quot;strides&quot;\\n    value {\\n      list {\\n        i: 1\\n        i: 1\\n        i: 1\\n        i: 1\\n      }\\n    }\\n  }\\n  attr {\\n    key: &quot;use_cudnn_on_gpu&quot;\\n    value {\\n      b: true\\n    }\\n  }\\n}\\nnode {\\n  name: &quot;mixed4e/1x1_pre_relu&quot;\\n  op: &quot;BiasAdd&quot;\\n  input: &quot;mixed4e/1x1_pre_relu/conv&quot;\\n  input: &quot;mixed4e/1x1_b&quot;\\n  device: &quot;/cpu:0&quot;\\n  attr {\\n    key: &quot;T&quot;\\n    value {\\n      type: DT_FLOAT\\n    }\\n  }\\n}\\nnode {\\n  name: &quot;mixed4e/1x1&quot;\\n  op: &quot;Relu&quot;\\n  input: &quot;mixed4e/1x1_pre_relu&quot;\\n  device: &quot;/cpu:0&quot;\\n  attr {\\n    key: &quot;T&quot;\\n    value {\\n      type: DT_FLOAT\\n    }\\n  }\\n}\\nnode {\\n  name: &quot;mixed4e/3x3_bottleneck_pre_relu/conv&quot;\\n  op: &quot;Conv2D&quot;\\n  input: &quot;mixed4d&quot;\\n  input: &quot;mixed4e/3x3_bottleneck_w&quot;\\n  device: &quot;/cpu:0&quot;\\n  attr {\\n    key: &quot;T&quot;\\n    value {\\n      type: DT_FLOAT\\n    }\\n  }\\n  attr {\\n    key: &quot;padding&quot;\\n    value {\\n      s: &quot;SAME&quot;\\n    }\\n  }\\n  attr {\\n    key: &quot;strides&quot;\\n    value {\\n      list {\\n        i: 1\\n        i: 1\\n        i: 1\\n        i: 1\\n      }\\n    }\\n  }\\n  attr {\\n    key: &quot;use_cudnn_on_gpu&quot;\\n    value {\\n      b: true\\n    }\\n  }\\n}\\nnode {\\n  name: &quot;mixed4e/3x3_bottleneck_pre_relu&quot;\\n  op: &quot;BiasAdd&quot;\\n  input: &quot;mixed4e/3x3_bottleneck_pre_relu/conv&quot;\\n  input: &quot;mixed4e/3x3_bottleneck_b&quot;\\n  device: &quot;/cpu:0&quot;\\n  attr {\\n    key: &quot;T&quot;\\n    value {\\n      type: DT_FLOAT\\n    }\\n  }\\n}\\nnode {\\n  name: &quot;mixed4e/3x3_bottleneck&quot;\\n  op: &quot;Relu&quot;\\n  input: &quot;mixed4e/3x3_bottleneck_pre_relu&quot;\\n  device: &quot;/cpu:0&quot;\\n  attr {\\n    key: &quot;T&quot;\\n    value {\\n      type: DT_FLOAT\\n    }\\n  }\\n}\\nnode {\\n  name: &quot;mixed4e/3x3_pre_relu/conv&quot;\\n  op: &quot;Conv2D&quot;\\n  input: &quot;mixed4e/3x3_bottleneck&quot;\\n  input: &quot;mixed4e/3x3_w&quot;\\n  device: &quot;/cpu:0&quot;\\n  attr {\\n    key: &quot;T&quot;\\n    value {\\n      type: DT_FLOAT\\n    }\\n  }\\n  attr {\\n    key: &quot;padding&quot;\\n    value {\\n      s: &quot;SAME&quot;\\n    }\\n  }\\n  attr {\\n    key: &quot;strides&quot;\\n    value {\\n      list {\\n        i: 1\\n        i: 1\\n        i: 1\\n        i: 1\\n      }\\n    }\\n  }\\n  attr {\\n    key: &quot;use_cudnn_on_gpu&quot;\\n    value {\\n      b: true\\n    }\\n  }\\n}\\nnode {\\n  name: &quot;mixed4e/3x3_pre_relu&quot;\\n  op: &quot;BiasAdd&quot;\\n  input: &quot;mixed4e/3x3_pre_relu/conv&quot;\\n  input: &quot;mixed4e/3x3_b&quot;\\n  device: &quot;/cpu:0&quot;\\n  attr {\\n    key: &quot;T&quot;\\n    value {\\n      type: DT_FLOAT\\n    }\\n  }\\n}\\nnode {\\n  name: &quot;mixed4e/3x3&quot;\\n  op: &quot;Relu&quot;\\n  input: &quot;mixed4e/3x3_pre_relu&quot;\\n  device: &quot;/cpu:0&quot;\\n  attr {\\n    key: &quot;T&quot;\\n    value {\\n      type: DT_FLOAT\\n    }\\n  }\\n}\\nnode {\\n  name: &quot;mixed4e/5x5_bottleneck_pre_relu/conv&quot;\\n  op: &quot;Conv2D&quot;\\n  input: &quot;mixed4d&quot;\\n  input: &quot;mixed4e/5x5_bottleneck_w&quot;\\n  device: &quot;/cpu:0&quot;\\n  attr {\\n    key: &quot;T&quot;\\n    value {\\n      type: DT_FLOAT\\n    }\\n  }\\n  attr {\\n    key: &quot;padding&quot;\\n    value {\\n      s: &quot;SAME&quot;\\n    }\\n  }\\n  attr {\\n    key: &quot;strides&quot;\\n    value {\\n      list {\\n        i: 1\\n        i: 1\\n        i: 1\\n        i: 1\\n      }\\n    }\\n  }\\n  attr {\\n    key: &quot;use_cudnn_on_gpu&quot;\\n    value {\\n      b: true\\n    }\\n  }\\n}\\nnode {\\n  name: &quot;mixed4e/5x5_bottleneck_pre_relu&quot;\\n  op: &quot;BiasAdd&quot;\\n  input: &quot;mixed4e/5x5_bottleneck_pre_relu/conv&quot;\\n  input: &quot;mixed4e/5x5_bottleneck_b&quot;\\n  device: &quot;/cpu:0&quot;\\n  attr {\\n    key: &quot;T&quot;\\n    value {\\n      type: DT_FLOAT\\n    }\\n  }\\n}\\nnode {\\n  name: &quot;mixed4e/5x5_bottleneck&quot;\\n  op: &quot;Relu&quot;\\n  input: &quot;mixed4e/5x5_bottleneck_pre_relu&quot;\\n  device: &quot;/cpu:0&quot;\\n  attr {\\n    key: &quot;T&quot;\\n    value {\\n      type: DT_FLOAT\\n    }\\n  }\\n}\\nnode {\\n  name: &quot;mixed4e/5x5_pre_relu/conv&quot;\\n  op: &quot;Conv2D&quot;\\n  input: &quot;mixed4e/5x5_bottleneck&quot;\\n  input: &quot;mixed4e/5x5_w&quot;\\n  device: &quot;/cpu:0&quot;\\n  attr {\\n    key: &quot;T&quot;\\n    value {\\n      type: DT_FLOAT\\n    }\\n  }\\n  attr {\\n    key: &quot;padding&quot;\\n    value {\\n      s: &quot;SAME&quot;\\n    }\\n  }\\n  attr {\\n    key: &quot;strides&quot;\\n    value {\\n      list {\\n        i: 1\\n        i: 1\\n        i: 1\\n        i: 1\\n      }\\n    }\\n  }\\n  attr {\\n    key: &quot;use_cudnn_on_gpu&quot;\\n    value {\\n      b: true\\n    }\\n  }\\n}\\nnode {\\n  name: &quot;mixed4e/5x5_pre_relu&quot;\\n  op: &quot;BiasAdd&quot;\\n  input: &quot;mixed4e/5x5_pre_relu/conv&quot;\\n  input: &quot;mixed4e/5x5_b&quot;\\n  device: &quot;/cpu:0&quot;\\n  attr {\\n    key: &quot;T&quot;\\n    value {\\n      type: DT_FLOAT\\n    }\\n  }\\n}\\nnode {\\n  name: &quot;mixed4e/5x5&quot;\\n  op: &quot;Relu&quot;\\n  input: &quot;mixed4e/5x5_pre_relu&quot;\\n  device: &quot;/cpu:0&quot;\\n  attr {\\n    key: &quot;T&quot;\\n    value {\\n      type: DT_FLOAT\\n    }\\n  }\\n}\\nnode {\\n  name: &quot;mixed4e/pool&quot;\\n  op: &quot;MaxPool&quot;\\n  input: &quot;mixed4d&quot;\\n  device: &quot;/cpu:0&quot;\\n  attr {\\n    key: &quot;ksize&quot;\\n    value {\\n      list {\\n        i: 1\\n        i: 3\\n        i: 3\\n        i: 1\\n      }\\n    }\\n  }\\n  attr {\\n    key: &quot;padding&quot;\\n    value {\\n      s: &quot;SAME&quot;\\n    }\\n  }\\n  attr {\\n    key: &quot;strides&quot;\\n    value {\\n      list {\\n        i: 1\\n        i: 1\\n        i: 1\\n        i: 1\\n      }\\n    }\\n  }\\n}\\nnode {\\n  name: &quot;mixed4e/pool_reduce_pre_relu/conv&quot;\\n  op: &quot;Conv2D&quot;\\n  input: &quot;mixed4e/pool&quot;\\n  input: &quot;mixed4e/pool_reduce_w&quot;\\n  device: &quot;/cpu:0&quot;\\n  attr {\\n    key: &quot;T&quot;\\n    value {\\n      type: DT_FLOAT\\n    }\\n  }\\n  attr {\\n    key: &quot;padding&quot;\\n    value {\\n      s: &quot;SAME&quot;\\n    }\\n  }\\n  attr {\\n    key: &quot;strides&quot;\\n    value {\\n      list {\\n        i: 1\\n        i: 1\\n        i: 1\\n        i: 1\\n      }\\n    }\\n  }\\n  attr {\\n    key: &quot;use_cudnn_on_gpu&quot;\\n    value {\\n      b: true\\n    }\\n  }\\n}\\nnode {\\n  name: &quot;mixed4e/pool_reduce_pre_relu&quot;\\n  op: &quot;BiasAdd&quot;\\n  input: &quot;mixed4e/pool_reduce_pre_relu/conv&quot;\\n  input: &quot;mixed4e/pool_reduce_b&quot;\\n  device: &quot;/cpu:0&quot;\\n  attr {\\n    key: &quot;T&quot;\\n    value {\\n      type: DT_FLOAT\\n    }\\n  }\\n}\\nnode {\\n  name: &quot;mixed4e/pool_reduce&quot;\\n  op: &quot;Relu&quot;\\n  input: &quot;mixed4e/pool_reduce_pre_relu&quot;\\n  device: &quot;/cpu:0&quot;\\n  attr {\\n    key: &quot;T&quot;\\n    value {\\n      type: DT_FLOAT\\n    }\\n  }\\n}\\nnode {\\n  name: &quot;mixed4e/concat/dim&quot;\\n  op: &quot;Const&quot;\\n  device: &quot;/cpu:0&quot;\\n  attr {\\n    key: &quot;dtype&quot;\\n    value {\\n      type: DT_INT32\\n    }\\n  }\\n  attr {\\n    key: &quot;value&quot;\\n    value {\\n      tensor {\\n        dtype: DT_INT32\\n        tensor_shape {\\n        }\\n        int_val: 3\\n      }\\n    }\\n  }\\n}\\nnode {\\n  name: &quot;mixed4e&quot;\\n  op: &quot;Concat&quot;\\n  input: &quot;mixed4e/concat/dim&quot;\\n  input: &quot;mixed4e/1x1&quot;\\n  input: &quot;mixed4e/3x3&quot;\\n  input: &quot;mixed4e/5x5&quot;\\n  input: &quot;mixed4e/pool_reduce&quot;\\n  device: &quot;/cpu:0&quot;\\n  attr {\\n    key: &quot;N&quot;\\n    value {\\n      i: 4\\n    }\\n  }\\n  attr {\\n    key: &quot;T&quot;\\n    value {\\n      type: DT_FLOAT\\n    }\\n  }\\n}\\nnode {\\n  name: &quot;maxpool10&quot;\\n  op: &quot;MaxPool&quot;\\n  input: &quot;mixed4e&quot;\\n  device: &quot;/cpu:0&quot;\\n  attr {\\n    key: &quot;ksize&quot;\\n    value {\\n      list {\\n        i: 1\\n        i: 3\\n        i: 3\\n        i: 1\\n      }\\n    }\\n  }\\n  attr {\\n    key: &quot;padding&quot;\\n    value {\\n      s: &quot;SAME&quot;\\n    }\\n  }\\n  attr {\\n    key: &quot;strides&quot;\\n    value {\\n      list {\\n        i: 1\\n        i: 2\\n        i: 2\\n        i: 1\\n      }\\n    }\\n  }\\n}\\nnode {\\n  name: &quot;mixed5a/1x1_pre_relu/conv&quot;\\n  op: &quot;Conv2D&quot;\\n  input: &quot;maxpool10&quot;\\n  input: &quot;mixed5a/1x1_w&quot;\\n  device: &quot;/cpu:0&quot;\\n  attr {\\n    key: &quot;T&quot;\\n    value {\\n      type: DT_FLOAT\\n    }\\n  }\\n  attr {\\n    key: &quot;padding&quot;\\n    value {\\n      s: &quot;SAME&quot;\\n    }\\n  }\\n  attr {\\n    key: &quot;strides&quot;\\n    value {\\n      list {\\n        i: 1\\n        i: 1\\n        i: 1\\n        i: 1\\n      }\\n    }\\n  }\\n  attr {\\n    key: &quot;use_cudnn_on_gpu&quot;\\n    value {\\n      b: true\\n    }\\n  }\\n}\\nnode {\\n  name: &quot;mixed5a/1x1_pre_relu&quot;\\n  op: &quot;BiasAdd&quot;\\n  input: &quot;mixed5a/1x1_pre_relu/conv&quot;\\n  input: &quot;mixed5a/1x1_b&quot;\\n  device: &quot;/cpu:0&quot;\\n  attr {\\n    key: &quot;T&quot;\\n    value {\\n      type: DT_FLOAT\\n    }\\n  }\\n}\\nnode {\\n  name: &quot;mixed5a/1x1&quot;\\n  op: &quot;Relu&quot;\\n  input: &quot;mixed5a/1x1_pre_relu&quot;\\n  device: &quot;/cpu:0&quot;\\n  attr {\\n    key: &quot;T&quot;\\n    value {\\n      type: DT_FLOAT\\n    }\\n  }\\n}\\nnode {\\n  name: &quot;mixed5a/3x3_bottleneck_pre_relu/conv&quot;\\n  op: &quot;Conv2D&quot;\\n  input: &quot;maxpool10&quot;\\n  input: &quot;mixed5a/3x3_bottleneck_w&quot;\\n  device: &quot;/cpu:0&quot;\\n  attr {\\n    key: &quot;T&quot;\\n    value {\\n      type: DT_FLOAT\\n    }\\n  }\\n  attr {\\n    key: &quot;padding&quot;\\n    value {\\n      s: &quot;SAME&quot;\\n    }\\n  }\\n  attr {\\n    key: &quot;strides&quot;\\n    value {\\n      list {\\n        i: 1\\n        i: 1\\n        i: 1\\n        i: 1\\n      }\\n    }\\n  }\\n  attr {\\n    key: &quot;use_cudnn_on_gpu&quot;\\n    value {\\n      b: true\\n    }\\n  }\\n}\\nnode {\\n  name: &quot;mixed5a/3x3_bottleneck_pre_relu&quot;\\n  op: &quot;BiasAdd&quot;\\n  input: &quot;mixed5a/3x3_bottleneck_pre_relu/conv&quot;\\n  input: &quot;mixed5a/3x3_bottleneck_b&quot;\\n  device: &quot;/cpu:0&quot;\\n  attr {\\n    key: &quot;T&quot;\\n    value {\\n      type: DT_FLOAT\\n    }\\n  }\\n}\\nnode {\\n  name: &quot;mixed5a/3x3_bottleneck&quot;\\n  op: &quot;Relu&quot;\\n  input: &quot;mixed5a/3x3_bottleneck_pre_relu&quot;\\n  device: &quot;/cpu:0&quot;\\n  attr {\\n    key: &quot;T&quot;\\n    value {\\n      type: DT_FLOAT\\n    }\\n  }\\n}\\nnode {\\n  name: &quot;mixed5a/3x3_pre_relu/conv&quot;\\n  op: &quot;Conv2D&quot;\\n  input: &quot;mixed5a/3x3_bottleneck&quot;\\n  input: &quot;mixed5a/3x3_w&quot;\\n  device: &quot;/cpu:0&quot;\\n  attr {\\n    key: &quot;T&quot;\\n    value {\\n      type: DT_FLOAT\\n    }\\n  }\\n  attr {\\n    key: &quot;padding&quot;\\n    value {\\n      s: &quot;SAME&quot;\\n    }\\n  }\\n  attr {\\n    key: &quot;strides&quot;\\n    value {\\n      list {\\n        i: 1\\n        i: 1\\n        i: 1\\n        i: 1\\n      }\\n    }\\n  }\\n  attr {\\n    key: &quot;use_cudnn_on_gpu&quot;\\n    value {\\n      b: true\\n    }\\n  }\\n}\\nnode {\\n  name: &quot;mixed5a/3x3_pre_relu&quot;\\n  op: &quot;BiasAdd&quot;\\n  input: &quot;mixed5a/3x3_pre_relu/conv&quot;\\n  input: &quot;mixed5a/3x3_b&quot;\\n  device: &quot;/cpu:0&quot;\\n  attr {\\n    key: &quot;T&quot;\\n    value {\\n      type: DT_FLOAT\\n    }\\n  }\\n}\\nnode {\\n  name: &quot;mixed5a/3x3&quot;\\n  op: &quot;Relu&quot;\\n  input: &quot;mixed5a/3x3_pre_relu&quot;\\n  device: &quot;/cpu:0&quot;\\n  attr {\\n    key: &quot;T&quot;\\n    value {\\n      type: DT_FLOAT\\n    }\\n  }\\n}\\nnode {\\n  name: &quot;mixed5a/5x5_bottleneck_pre_relu/conv&quot;\\n  op: &quot;Conv2D&quot;\\n  input: &quot;maxpool10&quot;\\n  input: &quot;mixed5a/5x5_bottleneck_w&quot;\\n  device: &quot;/cpu:0&quot;\\n  attr {\\n    key: &quot;T&quot;\\n    value {\\n      type: DT_FLOAT\\n    }\\n  }\\n  attr {\\n    key: &quot;padding&quot;\\n    value {\\n      s: &quot;SAME&quot;\\n    }\\n  }\\n  attr {\\n    key: &quot;strides&quot;\\n    value {\\n      list {\\n        i: 1\\n        i: 1\\n        i: 1\\n        i: 1\\n      }\\n    }\\n  }\\n  attr {\\n    key: &quot;use_cudnn_on_gpu&quot;\\n    value {\\n      b: true\\n    }\\n  }\\n}\\nnode {\\n  name: &quot;mixed5a/5x5_bottleneck_pre_relu&quot;\\n  op: &quot;BiasAdd&quot;\\n  input: &quot;mixed5a/5x5_bottleneck_pre_relu/conv&quot;\\n  input: &quot;mixed5a/5x5_bottleneck_b&quot;\\n  device: &quot;/cpu:0&quot;\\n  attr {\\n    key: &quot;T&quot;\\n    value {\\n      type: DT_FLOAT\\n    }\\n  }\\n}\\nnode {\\n  name: &quot;mixed5a/5x5_bottleneck&quot;\\n  op: &quot;Relu&quot;\\n  input: &quot;mixed5a/5x5_bottleneck_pre_relu&quot;\\n  device: &quot;/cpu:0&quot;\\n  attr {\\n    key: &quot;T&quot;\\n    value {\\n      type: DT_FLOAT\\n    }\\n  }\\n}\\nnode {\\n  name: &quot;mixed5a/5x5_pre_relu/conv&quot;\\n  op: &quot;Conv2D&quot;\\n  input: &quot;mixed5a/5x5_bottleneck&quot;\\n  input: &quot;mixed5a/5x5_w&quot;\\n  device: &quot;/cpu:0&quot;\\n  attr {\\n    key: &quot;T&quot;\\n    value {\\n      type: DT_FLOAT\\n    }\\n  }\\n  attr {\\n    key: &quot;padding&quot;\\n    value {\\n      s: &quot;SAME&quot;\\n    }\\n  }\\n  attr {\\n    key: &quot;strides&quot;\\n    value {\\n      list {\\n        i: 1\\n        i: 1\\n        i: 1\\n        i: 1\\n      }\\n    }\\n  }\\n  attr {\\n    key: &quot;use_cudnn_on_gpu&quot;\\n    value {\\n      b: true\\n    }\\n  }\\n}\\nnode {\\n  name: &quot;mixed5a/5x5_pre_relu&quot;\\n  op: &quot;BiasAdd&quot;\\n  input: &quot;mixed5a/5x5_pre_relu/conv&quot;\\n  input: &quot;mixed5a/5x5_b&quot;\\n  device: &quot;/cpu:0&quot;\\n  attr {\\n    key: &quot;T&quot;\\n    value {\\n      type: DT_FLOAT\\n    }\\n  }\\n}\\nnode {\\n  name: &quot;mixed5a/5x5&quot;\\n  op: &quot;Relu&quot;\\n  input: &quot;mixed5a/5x5_pre_relu&quot;\\n  device: &quot;/cpu:0&quot;\\n  attr {\\n    key: &quot;T&quot;\\n    value {\\n      type: DT_FLOAT\\n    }\\n  }\\n}\\nnode {\\n  name: &quot;mixed5a/pool&quot;\\n  op: &quot;MaxPool&quot;\\n  input: &quot;maxpool10&quot;\\n  device: &quot;/cpu:0&quot;\\n  attr {\\n    key: &quot;ksize&quot;\\n    value {\\n      list {\\n        i: 1\\n        i: 3\\n        i: 3\\n        i: 1\\n      }\\n    }\\n  }\\n  attr {\\n    key: &quot;padding&quot;\\n    value {\\n      s: &quot;SAME&quot;\\n    }\\n  }\\n  attr {\\n    key: &quot;strides&quot;\\n    value {\\n      list {\\n        i: 1\\n        i: 1\\n        i: 1\\n        i: 1\\n      }\\n    }\\n  }\\n}\\nnode {\\n  name: &quot;mixed5a/pool_reduce_pre_relu/conv&quot;\\n  op: &quot;Conv2D&quot;\\n  input: &quot;mixed5a/pool&quot;\\n  input: &quot;mixed5a/pool_reduce_w&quot;\\n  device: &quot;/cpu:0&quot;\\n  attr {\\n    key: &quot;T&quot;\\n    value {\\n      type: DT_FLOAT\\n    }\\n  }\\n  attr {\\n    key: &quot;padding&quot;\\n    value {\\n      s: &quot;SAME&quot;\\n    }\\n  }\\n  attr {\\n    key: &quot;strides&quot;\\n    value {\\n      list {\\n        i: 1\\n        i: 1\\n        i: 1\\n        i: 1\\n      }\\n    }\\n  }\\n  attr {\\n    key: &quot;use_cudnn_on_gpu&quot;\\n    value {\\n      b: true\\n    }\\n  }\\n}\\nnode {\\n  name: &quot;mixed5a/pool_reduce_pre_relu&quot;\\n  op: &quot;BiasAdd&quot;\\n  input: &quot;mixed5a/pool_reduce_pre_relu/conv&quot;\\n  input: &quot;mixed5a/pool_reduce_b&quot;\\n  device: &quot;/cpu:0&quot;\\n  attr {\\n    key: &quot;T&quot;\\n    value {\\n      type: DT_FLOAT\\n    }\\n  }\\n}\\nnode {\\n  name: &quot;mixed5a/pool_reduce&quot;\\n  op: &quot;Relu&quot;\\n  input: &quot;mixed5a/pool_reduce_pre_relu&quot;\\n  device: &quot;/cpu:0&quot;\\n  attr {\\n    key: &quot;T&quot;\\n    value {\\n      type: DT_FLOAT\\n    }\\n  }\\n}\\nnode {\\n  name: &quot;mixed5a/concat/dim&quot;\\n  op: &quot;Const&quot;\\n  device: &quot;/cpu:0&quot;\\n  attr {\\n    key: &quot;dtype&quot;\\n    value {\\n      type: DT_INT32\\n    }\\n  }\\n  attr {\\n    key: &quot;value&quot;\\n    value {\\n      tensor {\\n        dtype: DT_INT32\\n        tensor_shape {\\n        }\\n        int_val: 3\\n      }\\n    }\\n  }\\n}\\nnode {\\n  name: &quot;mixed5a&quot;\\n  op: &quot;Concat&quot;\\n  input: &quot;mixed5a/concat/dim&quot;\\n  input: &quot;mixed5a/1x1&quot;\\n  input: &quot;mixed5a/3x3&quot;\\n  input: &quot;mixed5a/5x5&quot;\\n  input: &quot;mixed5a/pool_reduce&quot;\\n  device: &quot;/cpu:0&quot;\\n  attr {\\n    key: &quot;N&quot;\\n    value {\\n      i: 4\\n    }\\n  }\\n  attr {\\n    key: &quot;T&quot;\\n    value {\\n      type: DT_FLOAT\\n    }\\n  }\\n}\\nnode {\\n  name: &quot;mixed5b/1x1_pre_relu/conv&quot;\\n  op: &quot;Conv2D&quot;\\n  input: &quot;mixed5a&quot;\\n  input: &quot;mixed5b/1x1_w&quot;\\n  device: &quot;/cpu:0&quot;\\n  attr {\\n    key: &quot;T&quot;\\n    value {\\n      type: DT_FLOAT\\n    }\\n  }\\n  attr {\\n    key: &quot;padding&quot;\\n    value {\\n      s: &quot;SAME&quot;\\n    }\\n  }\\n  attr {\\n    key: &quot;strides&quot;\\n    value {\\n      list {\\n        i: 1\\n        i: 1\\n        i: 1\\n        i: 1\\n      }\\n    }\\n  }\\n  attr {\\n    key: &quot;use_cudnn_on_gpu&quot;\\n    value {\\n      b: true\\n    }\\n  }\\n}\\nnode {\\n  name: &quot;mixed5b/1x1_pre_relu&quot;\\n  op: &quot;BiasAdd&quot;\\n  input: &quot;mixed5b/1x1_pre_relu/conv&quot;\\n  input: &quot;mixed5b/1x1_b&quot;\\n  device: &quot;/cpu:0&quot;\\n  attr {\\n    key: &quot;T&quot;\\n    value {\\n      type: DT_FLOAT\\n    }\\n  }\\n}\\nnode {\\n  name: &quot;mixed5b/1x1&quot;\\n  op: &quot;Relu&quot;\\n  input: &quot;mixed5b/1x1_pre_relu&quot;\\n  device: &quot;/cpu:0&quot;\\n  attr {\\n    key: &quot;T&quot;\\n    value {\\n      type: DT_FLOAT\\n    }\\n  }\\n}\\nnode {\\n  name: &quot;mixed5b/3x3_bottleneck_pre_relu/conv&quot;\\n  op: &quot;Conv2D&quot;\\n  input: &quot;mixed5a&quot;\\n  input: &quot;mixed5b/3x3_bottleneck_w&quot;\\n  device: &quot;/cpu:0&quot;\\n  attr {\\n    key: &quot;T&quot;\\n    value {\\n      type: DT_FLOAT\\n    }\\n  }\\n  attr {\\n    key: &quot;padding&quot;\\n    value {\\n      s: &quot;SAME&quot;\\n    }\\n  }\\n  attr {\\n    key: &quot;strides&quot;\\n    value {\\n      list {\\n        i: 1\\n        i: 1\\n        i: 1\\n        i: 1\\n      }\\n    }\\n  }\\n  attr {\\n    key: &quot;use_cudnn_on_gpu&quot;\\n    value {\\n      b: true\\n    }\\n  }\\n}\\nnode {\\n  name: &quot;mixed5b/3x3_bottleneck_pre_relu&quot;\\n  op: &quot;BiasAdd&quot;\\n  input: &quot;mixed5b/3x3_bottleneck_pre_relu/conv&quot;\\n  input: &quot;mixed5b/3x3_bottleneck_b&quot;\\n  device: &quot;/cpu:0&quot;\\n  attr {\\n    key: &quot;T&quot;\\n    value {\\n      type: DT_FLOAT\\n    }\\n  }\\n}\\nnode {\\n  name: &quot;mixed5b/3x3_bottleneck&quot;\\n  op: &quot;Relu&quot;\\n  input: &quot;mixed5b/3x3_bottleneck_pre_relu&quot;\\n  device: &quot;/cpu:0&quot;\\n  attr {\\n    key: &quot;T&quot;\\n    value {\\n      type: DT_FLOAT\\n    }\\n  }\\n}\\nnode {\\n  name: &quot;mixed5b/3x3_pre_relu/conv&quot;\\n  op: &quot;Conv2D&quot;\\n  input: &quot;mixed5b/3x3_bottleneck&quot;\\n  input: &quot;mixed5b/3x3_w&quot;\\n  device: &quot;/cpu:0&quot;\\n  attr {\\n    key: &quot;T&quot;\\n    value {\\n      type: DT_FLOAT\\n    }\\n  }\\n  attr {\\n    key: &quot;padding&quot;\\n    value {\\n      s: &quot;SAME&quot;\\n    }\\n  }\\n  attr {\\n    key: &quot;strides&quot;\\n    value {\\n      list {\\n        i: 1\\n        i: 1\\n        i: 1\\n        i: 1\\n      }\\n    }\\n  }\\n  attr {\\n    key: &quot;use_cudnn_on_gpu&quot;\\n    value {\\n      b: true\\n    }\\n  }\\n}\\nnode {\\n  name: &quot;mixed5b/3x3_pre_relu&quot;\\n  op: &quot;BiasAdd&quot;\\n  input: &quot;mixed5b/3x3_pre_relu/conv&quot;\\n  input: &quot;mixed5b/3x3_b&quot;\\n  device: &quot;/cpu:0&quot;\\n  attr {\\n    key: &quot;T&quot;\\n    value {\\n      type: DT_FLOAT\\n    }\\n  }\\n}\\nnode {\\n  name: &quot;mixed5b/3x3&quot;\\n  op: &quot;Relu&quot;\\n  input: &quot;mixed5b/3x3_pre_relu&quot;\\n  device: &quot;/cpu:0&quot;\\n  attr {\\n    key: &quot;T&quot;\\n    value {\\n      type: DT_FLOAT\\n    }\\n  }\\n}\\nnode {\\n  name: &quot;mixed5b/5x5_bottleneck_pre_relu/conv&quot;\\n  op: &quot;Conv2D&quot;\\n  input: &quot;mixed5a&quot;\\n  input: &quot;mixed5b/5x5_bottleneck_w&quot;\\n  device: &quot;/cpu:0&quot;\\n  attr {\\n    key: &quot;T&quot;\\n    value {\\n      type: DT_FLOAT\\n    }\\n  }\\n  attr {\\n    key: &quot;padding&quot;\\n    value {\\n      s: &quot;SAME&quot;\\n    }\\n  }\\n  attr {\\n    key: &quot;strides&quot;\\n    value {\\n      list {\\n        i: 1\\n        i: 1\\n        i: 1\\n        i: 1\\n      }\\n    }\\n  }\\n  attr {\\n    key: &quot;use_cudnn_on_gpu&quot;\\n    value {\\n      b: true\\n    }\\n  }\\n}\\nnode {\\n  name: &quot;mixed5b/5x5_bottleneck_pre_relu&quot;\\n  op: &quot;BiasAdd&quot;\\n  input: &quot;mixed5b/5x5_bottleneck_pre_relu/conv&quot;\\n  input: &quot;mixed5b/5x5_bottleneck_b&quot;\\n  device: &quot;/cpu:0&quot;\\n  attr {\\n    key: &quot;T&quot;\\n    value {\\n      type: DT_FLOAT\\n    }\\n  }\\n}\\nnode {\\n  name: &quot;mixed5b/5x5_bottleneck&quot;\\n  op: &quot;Relu&quot;\\n  input: &quot;mixed5b/5x5_bottleneck_pre_relu&quot;\\n  device: &quot;/cpu:0&quot;\\n  attr {\\n    key: &quot;T&quot;\\n    value {\\n      type: DT_FLOAT\\n    }\\n  }\\n}\\nnode {\\n  name: &quot;mixed5b/5x5_pre_relu/conv&quot;\\n  op: &quot;Conv2D&quot;\\n  input: &quot;mixed5b/5x5_bottleneck&quot;\\n  input: &quot;mixed5b/5x5_w&quot;\\n  device: &quot;/cpu:0&quot;\\n  attr {\\n    key: &quot;T&quot;\\n    value {\\n      type: DT_FLOAT\\n    }\\n  }\\n  attr {\\n    key: &quot;padding&quot;\\n    value {\\n      s: &quot;SAME&quot;\\n    }\\n  }\\n  attr {\\n    key: &quot;strides&quot;\\n    value {\\n      list {\\n        i: 1\\n        i: 1\\n        i: 1\\n        i: 1\\n      }\\n    }\\n  }\\n  attr {\\n    key: &quot;use_cudnn_on_gpu&quot;\\n    value {\\n      b: true\\n    }\\n  }\\n}\\nnode {\\n  name: &quot;mixed5b/5x5_pre_relu&quot;\\n  op: &quot;BiasAdd&quot;\\n  input: &quot;mixed5b/5x5_pre_relu/conv&quot;\\n  input: &quot;mixed5b/5x5_b&quot;\\n  device: &quot;/cpu:0&quot;\\n  attr {\\n    key: &quot;T&quot;\\n    value {\\n      type: DT_FLOAT\\n    }\\n  }\\n}\\nnode {\\n  name: &quot;mixed5b/5x5&quot;\\n  op: &quot;Relu&quot;\\n  input: &quot;mixed5b/5x5_pre_relu&quot;\\n  device: &quot;/cpu:0&quot;\\n  attr {\\n    key: &quot;T&quot;\\n    value {\\n      type: DT_FLOAT\\n    }\\n  }\\n}\\nnode {\\n  name: &quot;mixed5b/pool&quot;\\n  op: &quot;MaxPool&quot;\\n  input: &quot;mixed5a&quot;\\n  device: &quot;/cpu:0&quot;\\n  attr {\\n    key: &quot;ksize&quot;\\n    value {\\n      list {\\n        i: 1\\n        i: 3\\n        i: 3\\n        i: 1\\n      }\\n    }\\n  }\\n  attr {\\n    key: &quot;padding&quot;\\n    value {\\n      s: &quot;SAME&quot;\\n    }\\n  }\\n  attr {\\n    key: &quot;strides&quot;\\n    value {\\n      list {\\n        i: 1\\n        i: 1\\n        i: 1\\n        i: 1\\n      }\\n    }\\n  }\\n}\\nnode {\\n  name: &quot;mixed5b/pool_reduce_pre_relu/conv&quot;\\n  op: &quot;Conv2D&quot;\\n  input: &quot;mixed5b/pool&quot;\\n  input: &quot;mixed5b/pool_reduce_w&quot;\\n  device: &quot;/cpu:0&quot;\\n  attr {\\n    key: &quot;T&quot;\\n    value {\\n      type: DT_FLOAT\\n    }\\n  }\\n  attr {\\n    key: &quot;padding&quot;\\n    value {\\n      s: &quot;SAME&quot;\\n    }\\n  }\\n  attr {\\n    key: &quot;strides&quot;\\n    value {\\n      list {\\n        i: 1\\n        i: 1\\n        i: 1\\n        i: 1\\n      }\\n    }\\n  }\\n  attr {\\n    key: &quot;use_cudnn_on_gpu&quot;\\n    value {\\n      b: true\\n    }\\n  }\\n}\\nnode {\\n  name: &quot;mixed5b/pool_reduce_pre_relu&quot;\\n  op: &quot;BiasAdd&quot;\\n  input: &quot;mixed5b/pool_reduce_pre_relu/conv&quot;\\n  input: &quot;mixed5b/pool_reduce_b&quot;\\n  device: &quot;/cpu:0&quot;\\n  attr {\\n    key: &quot;T&quot;\\n    value {\\n      type: DT_FLOAT\\n    }\\n  }\\n}\\nnode {\\n  name: &quot;mixed5b/pool_reduce&quot;\\n  op: &quot;Relu&quot;\\n  input: &quot;mixed5b/pool_reduce_pre_relu&quot;\\n  device: &quot;/cpu:0&quot;\\n  attr {\\n    key: &quot;T&quot;\\n    value {\\n      type: DT_FLOAT\\n    }\\n  }\\n}\\nnode {\\n  name: &quot;mixed5b/concat/dim&quot;\\n  op: &quot;Const&quot;\\n  device: &quot;/cpu:0&quot;\\n  attr {\\n    key: &quot;dtype&quot;\\n    value {\\n      type: DT_INT32\\n    }\\n  }\\n  attr {\\n    key: &quot;value&quot;\\n    value {\\n      tensor {\\n        dtype: DT_INT32\\n        tensor_shape {\\n        }\\n        int_val: 3\\n      }\\n    }\\n  }\\n}\\nnode {\\n  name: &quot;mixed5b&quot;\\n  op: &quot;Concat&quot;\\n  input: &quot;mixed5b/concat/dim&quot;\\n  input: &quot;mixed5b/1x1&quot;\\n  input: &quot;mixed5b/3x3&quot;\\n  input: &quot;mixed5b/5x5&quot;\\n  input: &quot;mixed5b/pool_reduce&quot;\\n  device: &quot;/cpu:0&quot;\\n  attr {\\n    key: &quot;N&quot;\\n    value {\\n      i: 4\\n    }\\n  }\\n  attr {\\n    key: &quot;T&quot;\\n    value {\\n      type: DT_FLOAT\\n    }\\n  }\\n}\\nnode {\\n  name: &quot;avgpool0&quot;\\n  op: &quot;AvgPool&quot;\\n  input: &quot;mixed5b&quot;\\n  device: &quot;/cpu:0&quot;\\n  attr {\\n    key: &quot;T&quot;\\n    value {\\n      type: DT_FLOAT\\n    }\\n  }\\n  attr {\\n    key: &quot;ksize&quot;\\n    value {\\n      list {\\n        i: 1\\n        i: 7\\n        i: 7\\n        i: 1\\n      }\\n    }\\n  }\\n  attr {\\n    key: &quot;padding&quot;\\n    value {\\n      s: &quot;VALID&quot;\\n    }\\n  }\\n  attr {\\n    key: &quot;strides&quot;\\n    value {\\n      list {\\n        i: 1\\n        i: 1\\n        i: 1\\n        i: 1\\n      }\\n    }\\n  }\\n}\\nnode {\\n  name: &quot;head0/pool&quot;\\n  op: &quot;AvgPool&quot;\\n  input: &quot;mixed4a&quot;\\n  device: &quot;/cpu:0&quot;\\n  attr {\\n    key: &quot;T&quot;\\n    value {\\n      type: DT_FLOAT\\n    }\\n  }\\n  attr {\\n    key: &quot;ksize&quot;\\n    value {\\n      list {\\n        i: 1\\n        i: 5\\n        i: 5\\n        i: 1\\n      }\\n    }\\n  }\\n  attr {\\n    key: &quot;padding&quot;\\n    value {\\n      s: &quot;VALID&quot;\\n    }\\n  }\\n  attr {\\n    key: &quot;strides&quot;\\n    value {\\n      list {\\n        i: 1\\n        i: 3\\n        i: 3\\n        i: 1\\n      }\\n    }\\n  }\\n}\\nnode {\\n  name: &quot;head0/bottleneck_pre_relu/conv&quot;\\n  op: &quot;Conv2D&quot;\\n  input: &quot;head0/pool&quot;\\n  input: &quot;head0/bottleneck_w&quot;\\n  device: &quot;/cpu:0&quot;\\n  attr {\\n    key: &quot;T&quot;\\n    value {\\n      type: DT_FLOAT\\n    }\\n  }\\n  attr {\\n    key: &quot;padding&quot;\\n    value {\\n      s: &quot;SAME&quot;\\n    }\\n  }\\n  attr {\\n    key: &quot;strides&quot;\\n    value {\\n      list {\\n        i: 1\\n        i: 1\\n        i: 1\\n        i: 1\\n      }\\n    }\\n  }\\n  attr {\\n    key: &quot;use_cudnn_on_gpu&quot;\\n    value {\\n      b: true\\n    }\\n  }\\n}\\nnode {\\n  name: &quot;head0/bottleneck_pre_relu&quot;\\n  op: &quot;BiasAdd&quot;\\n  input: &quot;head0/bottleneck_pre_relu/conv&quot;\\n  input: &quot;head0/bottleneck_b&quot;\\n  device: &quot;/cpu:0&quot;\\n  attr {\\n    key: &quot;T&quot;\\n    value {\\n      type: DT_FLOAT\\n    }\\n  }\\n}\\nnode {\\n  name: &quot;head0/bottleneck&quot;\\n  op: &quot;Relu&quot;\\n  input: &quot;head0/bottleneck_pre_relu&quot;\\n  device: &quot;/cpu:0&quot;\\n  attr {\\n    key: &quot;T&quot;\\n    value {\\n      type: DT_FLOAT\\n    }\\n  }\\n}\\nnode {\\n  name: &quot;head0/bottleneck/reshape/shape&quot;\\n  op: &quot;Const&quot;\\n  device: &quot;/cpu:0&quot;\\n  attr {\\n    key: &quot;dtype&quot;\\n    value {\\n      type: DT_INT32\\n    }\\n  }\\n  attr {\\n    key: &quot;value&quot;\\n    value {\\n      tensor {\\n        dtype: DT_INT32\\n        tensor_shape {\\n          dim {\\n            size: 2\\n          }\\n        }\\n        tensor_content: &quot;\\\\377\\\\377\\\\377\\\\377\\\\000\\\\010\\\\000\\\\000&quot;\\n      }\\n    }\\n  }\\n}\\nnode {\\n  name: &quot;head0/bottleneck/reshape&quot;\\n  op: &quot;Reshape&quot;\\n  input: &quot;head0/bottleneck&quot;\\n  input: &quot;head0/bottleneck/reshape/shape&quot;\\n  device: &quot;/cpu:0&quot;\\n  attr {\\n    key: &quot;T&quot;\\n    value {\\n      type: DT_FLOAT\\n    }\\n  }\\n}\\nnode {\\n  name: &quot;nn0/pre_relu/matmul&quot;\\n  op: &quot;MatMul&quot;\\n  input: &quot;head0/bottleneck/reshape&quot;\\n  input: &quot;nn0/w&quot;\\n  device: &quot;/cpu:0&quot;\\n  attr {\\n    key: &quot;T&quot;\\n    value {\\n      type: DT_FLOAT\\n    }\\n  }\\n  attr {\\n    key: &quot;transpose_a&quot;\\n    value {\\n      b: false\\n    }\\n  }\\n  attr {\\n    key: &quot;transpose_b&quot;\\n    value {\\n      b: false\\n    }\\n  }\\n}\\nnode {\\n  name: &quot;nn0/pre_relu&quot;\\n  op: &quot;BiasAdd&quot;\\n  input: &quot;nn0/pre_relu/matmul&quot;\\n  input: &quot;nn0/b&quot;\\n  device: &quot;/cpu:0&quot;\\n  attr {\\n    key: &quot;T&quot;\\n    value {\\n      type: DT_FLOAT\\n    }\\n  }\\n}\\nnode {\\n  name: &quot;nn0&quot;\\n  op: &quot;Relu&quot;\\n  input: &quot;nn0/pre_relu&quot;\\n  device: &quot;/cpu:0&quot;\\n  attr {\\n    key: &quot;T&quot;\\n    value {\\n      type: DT_FLOAT\\n    }\\n  }\\n}\\nnode {\\n  name: &quot;nn0/reshape/shape&quot;\\n  op: &quot;Const&quot;\\n  device: &quot;/cpu:0&quot;\\n  attr {\\n    key: &quot;dtype&quot;\\n    value {\\n      type: DT_INT32\\n    }\\n  }\\n  attr {\\n    key: &quot;value&quot;\\n    value {\\n      tensor {\\n        dtype: DT_INT32\\n        tensor_shape {\\n          dim {\\n            size: 2\\n          }\\n        }\\n        tensor_content: &quot;\\\\377\\\\377\\\\377\\\\377\\\\000\\\\004\\\\000\\\\000&quot;\\n      }\\n    }\\n  }\\n}\\nnode {\\n  name: &quot;nn0/reshape&quot;\\n  op: &quot;Reshape&quot;\\n  input: &quot;nn0&quot;\\n  input: &quot;nn0/reshape/shape&quot;\\n  device: &quot;/cpu:0&quot;\\n  attr {\\n    key: &quot;T&quot;\\n    value {\\n      type: DT_FLOAT\\n    }\\n  }\\n}\\nnode {\\n  name: &quot;softmax0/pre_activation/matmul&quot;\\n  op: &quot;MatMul&quot;\\n  input: &quot;nn0/reshape&quot;\\n  input: &quot;softmax0/w&quot;\\n  device: &quot;/cpu:0&quot;\\n  attr {\\n    key: &quot;T&quot;\\n    value {\\n      type: DT_FLOAT\\n    }\\n  }\\n  attr {\\n    key: &quot;transpose_a&quot;\\n    value {\\n      b: false\\n    }\\n  }\\n  attr {\\n    key: &quot;transpose_b&quot;\\n    value {\\n      b: false\\n    }\\n  }\\n}\\nnode {\\n  name: &quot;softmax0/pre_activation&quot;\\n  op: &quot;BiasAdd&quot;\\n  input: &quot;softmax0/pre_activation/matmul&quot;\\n  input: &quot;softmax0/b&quot;\\n  device: &quot;/cpu:0&quot;\\n  attr {\\n    key: &quot;T&quot;\\n    value {\\n      type: DT_FLOAT\\n    }\\n  }\\n}\\nnode {\\n  name: &quot;softmax0&quot;\\n  op: &quot;Softmax&quot;\\n  input: &quot;softmax0/pre_activation&quot;\\n  device: &quot;/cpu:0&quot;\\n  attr {\\n    key: &quot;T&quot;\\n    value {\\n      type: DT_FLOAT\\n    }\\n  }\\n}\\nnode {\\n  name: &quot;head1/pool&quot;\\n  op: &quot;AvgPool&quot;\\n  input: &quot;mixed4d&quot;\\n  device: &quot;/cpu:0&quot;\\n  attr {\\n    key: &quot;T&quot;\\n    value {\\n      type: DT_FLOAT\\n    }\\n  }\\n  attr {\\n    key: &quot;ksize&quot;\\n    value {\\n      list {\\n        i: 1\\n        i: 5\\n        i: 5\\n        i: 1\\n      }\\n    }\\n  }\\n  attr {\\n    key: &quot;padding&quot;\\n    value {\\n      s: &quot;VALID&quot;\\n    }\\n  }\\n  attr {\\n    key: &quot;strides&quot;\\n    value {\\n      list {\\n        i: 1\\n        i: 3\\n        i: 3\\n        i: 1\\n      }\\n    }\\n  }\\n}\\nnode {\\n  name: &quot;head1/bottleneck_pre_relu/conv&quot;\\n  op: &quot;Conv2D&quot;\\n  input: &quot;head1/pool&quot;\\n  input: &quot;head1/bottleneck_w&quot;\\n  device: &quot;/cpu:0&quot;\\n  attr {\\n    key: &quot;T&quot;\\n    value {\\n      type: DT_FLOAT\\n    }\\n  }\\n  attr {\\n    key: &quot;padding&quot;\\n    value {\\n      s: &quot;SAME&quot;\\n    }\\n  }\\n  attr {\\n    key: &quot;strides&quot;\\n    value {\\n      list {\\n        i: 1\\n        i: 1\\n        i: 1\\n        i: 1\\n      }\\n    }\\n  }\\n  attr {\\n    key: &quot;use_cudnn_on_gpu&quot;\\n    value {\\n      b: true\\n    }\\n  }\\n}\\nnode {\\n  name: &quot;head1/bottleneck_pre_relu&quot;\\n  op: &quot;BiasAdd&quot;\\n  input: &quot;head1/bottleneck_pre_relu/conv&quot;\\n  input: &quot;head1/bottleneck_b&quot;\\n  device: &quot;/cpu:0&quot;\\n  attr {\\n    key: &quot;T&quot;\\n    value {\\n      type: DT_FLOAT\\n    }\\n  }\\n}\\nnode {\\n  name: &quot;head1/bottleneck&quot;\\n  op: &quot;Relu&quot;\\n  input: &quot;head1/bottleneck_pre_relu&quot;\\n  device: &quot;/cpu:0&quot;\\n  attr {\\n    key: &quot;T&quot;\\n    value {\\n      type: DT_FLOAT\\n    }\\n  }\\n}\\nnode {\\n  name: &quot;head1/bottleneck/reshape/shape&quot;\\n  op: &quot;Const&quot;\\n  device: &quot;/cpu:0&quot;\\n  attr {\\n    key: &quot;dtype&quot;\\n    value {\\n      type: DT_INT32\\n    }\\n  }\\n  attr {\\n    key: &quot;value&quot;\\n    value {\\n      tensor {\\n        dtype: DT_INT32\\n        tensor_shape {\\n          dim {\\n            size: 2\\n          }\\n        }\\n        tensor_content: &quot;\\\\377\\\\377\\\\377\\\\377\\\\000\\\\010\\\\000\\\\000&quot;\\n      }\\n    }\\n  }\\n}\\nnode {\\n  name: &quot;head1/bottleneck/reshape&quot;\\n  op: &quot;Reshape&quot;\\n  input: &quot;head1/bottleneck&quot;\\n  input: &quot;head1/bottleneck/reshape/shape&quot;\\n  device: &quot;/cpu:0&quot;\\n  attr {\\n    key: &quot;T&quot;\\n    value {\\n      type: DT_FLOAT\\n    }\\n  }\\n}\\nnode {\\n  name: &quot;nn1/pre_relu/matmul&quot;\\n  op: &quot;MatMul&quot;\\n  input: &quot;head1/bottleneck/reshape&quot;\\n  input: &quot;nn1/w&quot;\\n  device: &quot;/cpu:0&quot;\\n  attr {\\n    key: &quot;T&quot;\\n    value {\\n      type: DT_FLOAT\\n    }\\n  }\\n  attr {\\n    key: &quot;transpose_a&quot;\\n    value {\\n      b: false\\n    }\\n  }\\n  attr {\\n    key: &quot;transpose_b&quot;\\n    value {\\n      b: false\\n    }\\n  }\\n}\\nnode {\\n  name: &quot;nn1/pre_relu&quot;\\n  op: &quot;BiasAdd&quot;\\n  input: &quot;nn1/pre_relu/matmul&quot;\\n  input: &quot;nn1/b&quot;\\n  device: &quot;/cpu:0&quot;\\n  attr {\\n    key: &quot;T&quot;\\n    value {\\n      type: DT_FLOAT\\n    }\\n  }\\n}\\nnode {\\n  name: &quot;nn1&quot;\\n  op: &quot;Relu&quot;\\n  input: &quot;nn1/pre_relu&quot;\\n  device: &quot;/cpu:0&quot;\\n  attr {\\n    key: &quot;T&quot;\\n    value {\\n      type: DT_FLOAT\\n    }\\n  }\\n}\\nnode {\\n  name: &quot;nn1/reshape/shape&quot;\\n  op: &quot;Const&quot;\\n  device: &quot;/cpu:0&quot;\\n  attr {\\n    key: &quot;dtype&quot;\\n    value {\\n      type: DT_INT32\\n    }\\n  }\\n  attr {\\n    key: &quot;value&quot;\\n    value {\\n      tensor {\\n        dtype: DT_INT32\\n        tensor_shape {\\n          dim {\\n            size: 2\\n          }\\n        }\\n        tensor_content: &quot;\\\\377\\\\377\\\\377\\\\377\\\\000\\\\004\\\\000\\\\000&quot;\\n      }\\n    }\\n  }\\n}\\nnode {\\n  name: &quot;nn1/reshape&quot;\\n  op: &quot;Reshape&quot;\\n  input: &quot;nn1&quot;\\n  input: &quot;nn1/reshape/shape&quot;\\n  device: &quot;/cpu:0&quot;\\n  attr {\\n    key: &quot;T&quot;\\n    value {\\n      type: DT_FLOAT\\n    }\\n  }\\n}\\nnode {\\n  name: &quot;softmax1/pre_activation/matmul&quot;\\n  op: &quot;MatMul&quot;\\n  input: &quot;nn1/reshape&quot;\\n  input: &quot;softmax1/w&quot;\\n  device: &quot;/cpu:0&quot;\\n  attr {\\n    key: &quot;T&quot;\\n    value {\\n      type: DT_FLOAT\\n    }\\n  }\\n  attr {\\n    key: &quot;transpose_a&quot;\\n    value {\\n      b: false\\n    }\\n  }\\n  attr {\\n    key: &quot;transpose_b&quot;\\n    value {\\n      b: false\\n    }\\n  }\\n}\\nnode {\\n  name: &quot;softmax1/pre_activation&quot;\\n  op: &quot;BiasAdd&quot;\\n  input: &quot;softmax1/pre_activation/matmul&quot;\\n  input: &quot;softmax1/b&quot;\\n  device: &quot;/cpu:0&quot;\\n  attr {\\n    key: &quot;T&quot;\\n    value {\\n      type: DT_FLOAT\\n    }\\n  }\\n}\\nnode {\\n  name: &quot;softmax1&quot;\\n  op: &quot;Softmax&quot;\\n  input: &quot;softmax1/pre_activation&quot;\\n  device: &quot;/cpu:0&quot;\\n  attr {\\n    key: &quot;T&quot;\\n    value {\\n      type: DT_FLOAT\\n    }\\n  }\\n}\\nnode {\\n  name: &quot;avgpool0/reshape/shape&quot;\\n  op: &quot;Const&quot;\\n  device: &quot;/cpu:0&quot;\\n  attr {\\n    key: &quot;dtype&quot;\\n    value {\\n      type: DT_INT32\\n    }\\n  }\\n  attr {\\n    key: &quot;value&quot;\\n    value {\\n      tensor {\\n        dtype: DT_INT32\\n        tensor_shape {\\n          dim {\\n            size: 2\\n          }\\n        }\\n        tensor_content: &quot;\\\\377\\\\377\\\\377\\\\377\\\\000\\\\004\\\\000\\\\000&quot;\\n      }\\n    }\\n  }\\n}\\nnode {\\n  name: &quot;avgpool0/reshape&quot;\\n  op: &quot;Reshape&quot;\\n  input: &quot;avgpool0&quot;\\n  input: &quot;avgpool0/reshape/shape&quot;\\n  device: &quot;/cpu:0&quot;\\n  attr {\\n    key: &quot;T&quot;\\n    value {\\n      type: DT_FLOAT\\n    }\\n  }\\n}\\nnode {\\n  name: &quot;softmax2/pre_activation/matmul&quot;\\n  op: &quot;MatMul&quot;\\n  input: &quot;avgpool0/reshape&quot;\\n  input: &quot;softmax2/w&quot;\\n  device: &quot;/cpu:0&quot;\\n  attr {\\n    key: &quot;T&quot;\\n    value {\\n      type: DT_FLOAT\\n    }\\n  }\\n  attr {\\n    key: &quot;transpose_a&quot;\\n    value {\\n      b: false\\n    }\\n  }\\n  attr {\\n    key: &quot;transpose_b&quot;\\n    value {\\n      b: false\\n    }\\n  }\\n}\\nnode {\\n  name: &quot;softmax2/pre_activation&quot;\\n  op: &quot;BiasAdd&quot;\\n  input: &quot;softmax2/pre_activation/matmul&quot;\\n  input: &quot;softmax2/b&quot;\\n  device: &quot;/cpu:0&quot;\\n  attr {\\n    key: &quot;T&quot;\\n    value {\\n      type: DT_FLOAT\\n    }\\n  }\\n}\\nnode {\\n  name: &quot;softmax2&quot;\\n  op: &quot;Softmax&quot;\\n  input: &quot;softmax2/pre_activation&quot;\\n  device: &quot;/cpu:0&quot;\\n  attr {\\n    key: &quot;T&quot;\\n    value {\\n      type: DT_FLOAT\\n    }\\n  }\\n}\\nnode {\\n  name: &quot;output&quot;\\n  op: &quot;Identity&quot;\\n  input: &quot;softmax0&quot;\\n  device: &quot;/cpu:0&quot;\\n  attr {\\n    key: &quot;T&quot;\\n    value {\\n      type: DT_FLOAT\\n    }\\n  }\\n}\\nnode {\\n  name: &quot;output1&quot;\\n  op: &quot;Identity&quot;\\n  input: &quot;softmax1&quot;\\n  device: &quot;/cpu:0&quot;\\n  attr {\\n    key: &quot;T&quot;\\n    value {\\n      type: DT_FLOAT\\n    }\\n  }\\n}\\nnode {\\n  name: &quot;output2&quot;\\n  op: &quot;Identity&quot;\\n  input: &quot;softmax2&quot;\\n  device: &quot;/cpu:0&quot;\\n  attr {\\n    key: &quot;T&quot;\\n    value {\\n      type: DT_FLOAT\\n    }\\n  }\\n}\\n';\n",
       "              }\n",
       "            </script>\n",
       "            <link rel=&quot;import&quot; href=&quot;https://tensorboard.appspot.com/tf-graph-basic.build.html&quot; onload=load()>\n",
       "            <div style=&quot;height:600px&quot;>\n",
       "              <tf-graph-basic id=&quot;graph0.47514670729906583&quot;></tf-graph-basic>\n",
       "            </div>\n",
       "        \"></iframe>\n",
       "        "
      ],
      "text/plain": [
       "<IPython.core.display.HTML object>"
      ]
     },
     "metadata": {},
     "output_type": "display_data"
    }
   ],
   "source": [
    "nb_utils.show_graph(net['graph_def'])"
   ]
  },
  {
   "cell_type": "markdown",
   "metadata": {},
   "source": [
    "If you open up the \"mixed3a\" node above (double click on it), you'll see the first \"inception\" module.  This network encompasses a few advanced concepts that we did not have time to discuss during the lecture, including residual connections, feature concatenation, parallel convolution streams, 1x1 convolutions, and including negative labels in the softmax layer.  I'll expand on the 1x1 convolutions here, but please feel free to skip ahead if this isn't of interest to you.\n",
    "\n",
    "<a name=\"a-note-on-1x1-convolutions\"></a>\n",
    "## A Note on 1x1 Convolutions\n",
    "\n",
    "The 1x1 convolutions are setting the `ksize` parameter of the kernels to 1.  This is effectively allowing you to change the number of dimensions.  Remember that you need a 4-d tensor as input to a convolution.  Let's say its dimensions are $\\text{N}\\ x\\ \\text{W}\\ x\\ \\text{H}\\ x\\ \\text{C}_I$, where $\\text{C}_I$ represents the number of channels the image has.  Let's say it is an RGB image, then $\\text{C}_I$ would be 3.  Or later in the network, if we have already convolved it, it might be 64 channels instead.  Regardless, when you convolve it w/ a $\\text{K}_H\\ x\\ \\text{K}_W\\ x\\ \\text{C}_I\\ x\\ \\text{C}_O$ filter, where $\\text{K}_H$ is 1 and $\\text{K}_W$ is also 1, then the filters size is: $1\\ x\\ 1\\ x\\ \\text{C}_I$ and this is perfomed for each output channel $\\text{C}_O$.  What this is doing is filtering the information only in the channels dimension, not the spatial dimensions.  The output of this convolution will be a $\\text{N}\\ x\\ \\text{W}\\ x\\ \\text{H}\\ x\\ \\text{C}_O$ output tensor.  The only thing that changes in the output is the number of output filters.\n",
    "\n",
    "The 1x1 convolution operation is essentially reducing the amount of information in the channels dimensions before performing a much more expensive operation, e.g. a 3x3 or 5x5 convolution.  Effectively, it is a very clever trick for dimensionality reduction used in many state of the art convolutional networks.  Another way to look at it is that it is preseving the spatial information, but at each location, there is a fully connected network taking all the information from every input channel, $\\text{C}_I$, and reducing it down to $\\text{C}_O$ channels (or could easily also be up, but that is not the typical use case for this).  So it's not really a convolution, but we can use the convolution operation to perform it at every location in our image.\n",
    "\n",
    "If you are interested in reading more about this architecture, I highly encourage you to read [Network in Network](https://arxiv.org/pdf/1312.4400v3.pdf), Christian Szegedy's work on the [Inception network](http://www.cs.unc.edu/~wliu/papers/GoogLeNet.pdf), Highway Networks, Residual Networks, and Ladder Networks.\n",
    "\n",
    "In this course, we'll stick to focusing on the applications of these, while trying to delve as much into the code as possible.\n",
    "\n",
    "<a name=\"network-labels\"></a>\n",
    "## Network Labels\n",
    "\n",
    "Let's now look at the labels:"
   ]
  },
  {
   "cell_type": "code",
   "execution_count": 10,
   "metadata": {
    "collapsed": false
   },
   "outputs": [
    {
     "data": {
      "text/plain": [
       "[(0, 'dummy'),\n",
       " (1, 'kit fox'),\n",
       " (2, 'English setter'),\n",
       " (3, 'Siberian husky'),\n",
       " (4, 'Australian terrier'),\n",
       " (5, 'English springer'),\n",
       " (6, 'grey whale'),\n",
       " (7, 'lesser panda'),\n",
       " (8, 'Egyptian cat'),\n",
       " (9, 'ibex'),\n",
       " (10, 'Persian cat'),\n",
       " (11, 'cougar'),\n",
       " (12, 'gazelle'),\n",
       " (13, 'porcupine'),\n",
       " (14, 'sea lion'),\n",
       " (15, 'malamute'),\n",
       " (16, 'badger'),\n",
       " (17, 'Great Dane'),\n",
       " (18, 'Walker hound'),\n",
       " (19, 'Welsh springer spaniel'),\n",
       " (20, 'whippet'),\n",
       " (21, 'Scottish deerhound'),\n",
       " (22, 'killer whale'),\n",
       " (23, 'mink'),\n",
       " (24, 'African elephant'),\n",
       " (25, 'Weimaraner'),\n",
       " (26, 'soft-coated wheaten terrier'),\n",
       " (27, 'Dandie Dinmont'),\n",
       " (28, 'red wolf'),\n",
       " (29, 'Old English sheepdog'),\n",
       " (30, 'jaguar'),\n",
       " (31, 'otterhound'),\n",
       " (32, 'bloodhound'),\n",
       " (33, 'Airedale'),\n",
       " (34, 'hyena'),\n",
       " (35, 'meerkat'),\n",
       " (36, 'giant schnauzer'),\n",
       " (37, 'titi'),\n",
       " (38, 'three-toed sloth'),\n",
       " (39, 'sorrel'),\n",
       " (40, 'black-footed ferret'),\n",
       " (41, 'dalmatian'),\n",
       " (42, 'black-and-tan coonhound'),\n",
       " (43, 'papillon'),\n",
       " (44, 'skunk'),\n",
       " (45, 'Staffordshire bullterrier'),\n",
       " (46, 'Mexican hairless'),\n",
       " (47, 'Bouvier des Flandres'),\n",
       " (48, 'weasel'),\n",
       " (49, 'miniature poodle'),\n",
       " (50, 'Cardigan'),\n",
       " (51, 'malinois'),\n",
       " (52, 'bighorn'),\n",
       " (53, 'fox squirrel'),\n",
       " (54, 'colobus'),\n",
       " (55, 'tiger cat'),\n",
       " (56, 'Lhasa'),\n",
       " (57, 'impala'),\n",
       " (58, 'coyote'),\n",
       " (59, 'Yorkshire terrier'),\n",
       " (60, 'Newfoundland'),\n",
       " (61, 'brown bear'),\n",
       " (62, 'red fox'),\n",
       " (63, 'Norwegian elkhound'),\n",
       " (64, 'Rottweiler'),\n",
       " (65, 'hartebeest'),\n",
       " (66, 'Saluki'),\n",
       " (67, 'grey fox'),\n",
       " (68, 'schipperke'),\n",
       " (69, 'Pekinese'),\n",
       " (70, 'Brabancon griffon'),\n",
       " (71, 'West Highland white terrier'),\n",
       " (72, 'Sealyham terrier'),\n",
       " (73, 'guenon'),\n",
       " (74, 'mongoose'),\n",
       " (75, 'indri'),\n",
       " (76, 'tiger'),\n",
       " (77, 'Irish wolfhound'),\n",
       " (78, 'wild boar'),\n",
       " (79, 'EntleBucher'),\n",
       " (80, 'zebra'),\n",
       " (81, 'ram'),\n",
       " (82, 'French bulldog'),\n",
       " (83, 'orangutan'),\n",
       " (84, 'basenji'),\n",
       " (85, 'leopard'),\n",
       " (86, 'Bernese mountain dog'),\n",
       " (87, 'Maltese dog'),\n",
       " (88, 'Norfolk terrier'),\n",
       " (89, 'toy terrier'),\n",
       " (90, 'vizsla'),\n",
       " (91, 'cairn'),\n",
       " (92, 'squirrel monkey'),\n",
       " (93, 'groenendael'),\n",
       " (94, 'clumber'),\n",
       " (95, 'Siamese cat'),\n",
       " (96, 'chimpanzee'),\n",
       " (97, 'komondor'),\n",
       " (98, 'Afghan hound'),\n",
       " (99, 'Japanese spaniel'),\n",
       " (100, 'proboscis monkey'),\n",
       " (101, 'guinea pig'),\n",
       " (102, 'white wolf'),\n",
       " (103, 'ice bear'),\n",
       " (104, 'gorilla'),\n",
       " (105, 'borzoi'),\n",
       " (106, 'toy poodle'),\n",
       " (107, 'Kerry blue terrier'),\n",
       " (108, 'ox'),\n",
       " (109, 'Scotch terrier'),\n",
       " (110, 'Tibetan mastiff'),\n",
       " (111, 'spider monkey'),\n",
       " (112, 'Doberman'),\n",
       " (113, 'Boston bull'),\n",
       " (114, 'Greater Swiss Mountain dog'),\n",
       " (115, 'Appenzeller'),\n",
       " (116, 'Shih-Tzu'),\n",
       " (117, 'Irish water spaniel'),\n",
       " (118, 'Pomeranian'),\n",
       " (119, 'Bedlington terrier'),\n",
       " (120, 'warthog'),\n",
       " (121, 'Arabian camel'),\n",
       " (122, 'siamang'),\n",
       " (123, 'miniature schnauzer'),\n",
       " (124, 'collie'),\n",
       " (125, 'golden retriever'),\n",
       " (126, 'Irish terrier'),\n",
       " (127, 'affenpinscher'),\n",
       " (128, 'Border collie'),\n",
       " (129, 'hare'),\n",
       " (130, 'boxer'),\n",
       " (131, 'silky terrier'),\n",
       " (132, 'beagle'),\n",
       " (133, 'Leonberg'),\n",
       " (134, 'German short-haired pointer'),\n",
       " (135, 'patas'),\n",
       " (136, 'dhole'),\n",
       " (137, 'baboon'),\n",
       " (138, 'macaque'),\n",
       " (139, 'Chesapeake Bay retriever'),\n",
       " (140, 'bull mastiff'),\n",
       " (141, 'kuvasz'),\n",
       " (142, 'capuchin'),\n",
       " (143, 'pug'),\n",
       " (144, 'curly-coated retriever'),\n",
       " (145, 'Norwich terrier'),\n",
       " (146, 'flat-coated retriever'),\n",
       " (147, 'hog'),\n",
       " (148, 'keeshond'),\n",
       " (149, 'Eskimo dog'),\n",
       " (150, 'Brittany spaniel'),\n",
       " (151, 'standard poodle'),\n",
       " (152, 'Lakeland terrier'),\n",
       " (153, 'snow leopard'),\n",
       " (154, 'Gordon setter'),\n",
       " (155, 'dingo'),\n",
       " (156, 'standard schnauzer'),\n",
       " (157, 'hamster'),\n",
       " (158, 'Tibetan terrier'),\n",
       " (159, 'Arctic fox'),\n",
       " (160, 'wire-haired fox terrier'),\n",
       " (161, 'basset'),\n",
       " (162, 'water buffalo'),\n",
       " (163, 'American black bear'),\n",
       " (164, 'Angora'),\n",
       " (165, 'bison'),\n",
       " (166, 'howler monkey'),\n",
       " (167, 'hippopotamus'),\n",
       " (168, 'chow'),\n",
       " (169, 'giant panda'),\n",
       " (170, 'American Staffordshire terrier'),\n",
       " (171, 'Shetland sheepdog'),\n",
       " (172, 'Great Pyrenees'),\n",
       " (173, 'Chihuahua'),\n",
       " (174, 'tabby'),\n",
       " (175, 'marmoset'),\n",
       " (176, 'Labrador retriever'),\n",
       " (177, 'Saint Bernard'),\n",
       " (178, 'armadillo'),\n",
       " (179, 'Samoyed'),\n",
       " (180, 'bluetick'),\n",
       " (181, 'redbone'),\n",
       " (182, 'polecat'),\n",
       " (183, 'marmot'),\n",
       " (184, 'kelpie'),\n",
       " (185, 'gibbon'),\n",
       " (186, 'llama'),\n",
       " (187, 'miniature pinscher'),\n",
       " (188, 'wood rabbit'),\n",
       " (189, 'Italian greyhound'),\n",
       " (190, 'lion'),\n",
       " (191, 'cocker spaniel'),\n",
       " (192, 'Irish setter'),\n",
       " (193, 'dugong'),\n",
       " (194, 'Indian elephant'),\n",
       " (195, 'beaver'),\n",
       " (196, 'Sussex spaniel'),\n",
       " (197, 'Pembroke'),\n",
       " (198, 'Blenheim spaniel'),\n",
       " (199, 'Madagascar cat'),\n",
       " (200, 'Rhodesian ridgeback'),\n",
       " (201, 'lynx'),\n",
       " (202, 'African hunting dog'),\n",
       " (203, 'langur'),\n",
       " (204, 'Ibizan hound'),\n",
       " (205, 'timber wolf'),\n",
       " (206, 'cheetah'),\n",
       " (207, 'English foxhound'),\n",
       " (208, 'briard'),\n",
       " (209, 'sloth bear'),\n",
       " (210, 'Border terrier'),\n",
       " (211, 'German shepherd'),\n",
       " (212, 'otter'),\n",
       " (213, 'koala'),\n",
       " (214, 'tusker'),\n",
       " (215, 'echidna'),\n",
       " (216, 'wallaby'),\n",
       " (217, 'platypus'),\n",
       " (218, 'wombat'),\n",
       " (219, 'revolver'),\n",
       " (220, 'umbrella'),\n",
       " (221, 'schooner'),\n",
       " (222, 'soccer ball'),\n",
       " (223, 'accordion'),\n",
       " (224, 'ant'),\n",
       " (225, 'starfish'),\n",
       " (226, 'chambered nautilus'),\n",
       " (227, 'grand piano'),\n",
       " (228, 'laptop'),\n",
       " (229, 'strawberry'),\n",
       " (230, 'airliner'),\n",
       " (231, 'warplane'),\n",
       " (232, 'airship'),\n",
       " (233, 'balloon'),\n",
       " (234, 'space shuttle'),\n",
       " (235, 'fireboat'),\n",
       " (236, 'gondola'),\n",
       " (237, 'speedboat'),\n",
       " (238, 'lifeboat'),\n",
       " (239, 'canoe'),\n",
       " (240, 'yawl'),\n",
       " (241, 'catamaran'),\n",
       " (242, 'trimaran'),\n",
       " (243, 'container ship'),\n",
       " (244, 'liner'),\n",
       " (245, 'pirate'),\n",
       " (246, 'aircraft carrier'),\n",
       " (247, 'submarine'),\n",
       " (248, 'wreck'),\n",
       " (249, 'half track'),\n",
       " (250, 'tank'),\n",
       " (251, 'missile'),\n",
       " (252, 'bobsled'),\n",
       " (253, 'dogsled'),\n",
       " (254, 'bicycle-built-for-two'),\n",
       " (255, 'mountain bike'),\n",
       " (256, 'freight car'),\n",
       " (257, 'passenger car'),\n",
       " (258, 'barrow'),\n",
       " (259, 'shopping cart'),\n",
       " (260, 'motor scooter'),\n",
       " (261, 'forklift'),\n",
       " (262, 'electric locomotive'),\n",
       " (263, 'steam locomotive'),\n",
       " (264, 'amphibian'),\n",
       " (265, 'ambulance'),\n",
       " (266, 'beach wagon'),\n",
       " (267, 'cab'),\n",
       " (268, 'convertible'),\n",
       " (269, 'jeep'),\n",
       " (270, 'limousine'),\n",
       " (271, 'minivan'),\n",
       " (272, 'Model T'),\n",
       " (273, 'racer'),\n",
       " (274, 'sports car'),\n",
       " (275, 'go-kart'),\n",
       " (276, 'golfcart'),\n",
       " (277, 'moped'),\n",
       " (278, 'snowplow'),\n",
       " (279, 'fire engine'),\n",
       " (280, 'garbage truck'),\n",
       " (281, 'pickup'),\n",
       " (282, 'tow truck'),\n",
       " (283, 'trailer truck'),\n",
       " (284, 'moving van'),\n",
       " (285, 'police van'),\n",
       " (286, 'recreational vehicle'),\n",
       " (287, 'streetcar'),\n",
       " (288, 'snowmobile'),\n",
       " (289, 'tractor'),\n",
       " (290, 'mobile home'),\n",
       " (291, 'tricycle'),\n",
       " (292, 'unicycle'),\n",
       " (293, 'horse cart'),\n",
       " (294, 'jinrikisha'),\n",
       " (295, 'oxcart'),\n",
       " (296, 'bassinet'),\n",
       " (297, 'cradle'),\n",
       " (298, 'crib'),\n",
       " (299, 'four-poster'),\n",
       " (300, 'bookcase'),\n",
       " (301, 'china cabinet'),\n",
       " (302, 'medicine chest'),\n",
       " (303, 'chiffonier'),\n",
       " (304, 'table lamp'),\n",
       " (305, 'file'),\n",
       " (306, 'park bench'),\n",
       " (307, 'barber chair'),\n",
       " (308, 'throne'),\n",
       " (309, 'folding chair'),\n",
       " (310, 'rocking chair'),\n",
       " (311, 'studio couch'),\n",
       " (312, 'toilet seat'),\n",
       " (313, 'desk'),\n",
       " (314, 'pool table'),\n",
       " (315, 'dining table'),\n",
       " (316, 'entertainment center'),\n",
       " (317, 'wardrobe'),\n",
       " (318, 'Granny Smith'),\n",
       " (319, 'orange'),\n",
       " (320, 'lemon'),\n",
       " (321, 'fig'),\n",
       " (322, 'pineapple'),\n",
       " (323, 'banana'),\n",
       " (324, 'jackfruit'),\n",
       " (325, 'custard apple'),\n",
       " (326, 'pomegranate'),\n",
       " (327, 'acorn'),\n",
       " (328, 'hip'),\n",
       " (329, 'ear'),\n",
       " (330, 'rapeseed'),\n",
       " (331, 'corn'),\n",
       " (332, 'buckeye'),\n",
       " (333, 'organ'),\n",
       " (334, 'upright'),\n",
       " (335, 'chime'),\n",
       " (336, 'drum'),\n",
       " (337, 'gong'),\n",
       " (338, 'maraca'),\n",
       " (339, 'marimba'),\n",
       " (340, 'steel drum'),\n",
       " (341, 'banjo'),\n",
       " (342, 'cello'),\n",
       " (343, 'violin'),\n",
       " (344, 'harp'),\n",
       " (345, 'acoustic guitar'),\n",
       " (346, 'electric guitar'),\n",
       " (347, 'cornet'),\n",
       " (348, 'French horn'),\n",
       " (349, 'trombone'),\n",
       " (350, 'harmonica'),\n",
       " (351, 'ocarina'),\n",
       " (352, 'panpipe'),\n",
       " (353, 'bassoon'),\n",
       " (354, 'oboe'),\n",
       " (355, 'sax'),\n",
       " (356, 'flute'),\n",
       " (357, 'daisy'),\n",
       " (358, \"yellow lady's slipper\"),\n",
       " (359, 'cliff'),\n",
       " (360, 'valley'),\n",
       " (361, 'alp'),\n",
       " (362, 'volcano'),\n",
       " (363, 'promontory'),\n",
       " (364, 'sandbar'),\n",
       " (365, 'coral reef'),\n",
       " (366, 'lakeside'),\n",
       " (367, 'seashore'),\n",
       " (368, 'geyser'),\n",
       " (369, 'hatchet'),\n",
       " (370, 'cleaver'),\n",
       " (371, 'letter opener'),\n",
       " (372, 'plane'),\n",
       " (373, 'power drill'),\n",
       " (374, 'lawn mower'),\n",
       " (375, 'hammer'),\n",
       " (376, 'corkscrew'),\n",
       " (377, 'can opener'),\n",
       " (378, 'plunger'),\n",
       " (379, 'screwdriver'),\n",
       " (380, 'shovel'),\n",
       " (381, 'plow'),\n",
       " (382, 'chain saw'),\n",
       " (383, 'cock'),\n",
       " (384, 'hen'),\n",
       " (385, 'ostrich'),\n",
       " (386, 'brambling'),\n",
       " (387, 'goldfinch'),\n",
       " (388, 'house finch'),\n",
       " (389, 'junco'),\n",
       " (390, 'indigo bunting'),\n",
       " (391, 'robin'),\n",
       " (392, 'bulbul'),\n",
       " (393, 'jay'),\n",
       " (394, 'magpie'),\n",
       " (395, 'chickadee'),\n",
       " (396, 'water ouzel'),\n",
       " (397, 'kite'),\n",
       " (398, 'bald eagle'),\n",
       " (399, 'vulture'),\n",
       " (400, 'great grey owl'),\n",
       " (401, 'black grouse'),\n",
       " (402, 'ptarmigan'),\n",
       " (403, 'ruffed grouse'),\n",
       " (404, 'prairie chicken'),\n",
       " (405, 'peacock'),\n",
       " (406, 'quail'),\n",
       " (407, 'partridge'),\n",
       " (408, 'African grey'),\n",
       " (409, 'macaw'),\n",
       " (410, 'sulphur-crested cockatoo'),\n",
       " (411, 'lorikeet'),\n",
       " (412, 'coucal'),\n",
       " (413, 'bee eater'),\n",
       " (414, 'hornbill'),\n",
       " (415, 'hummingbird'),\n",
       " (416, 'jacamar'),\n",
       " (417, 'toucan'),\n",
       " (418, 'drake'),\n",
       " (419, 'red-breasted merganser'),\n",
       " (420, 'goose'),\n",
       " (421, 'black swan'),\n",
       " (422, 'white stork'),\n",
       " (423, 'black stork'),\n",
       " (424, 'spoonbill'),\n",
       " (425, 'flamingo'),\n",
       " (426, 'American egret'),\n",
       " (427, 'little blue heron'),\n",
       " (428, 'bittern'),\n",
       " (429, 'crane'),\n",
       " (430, 'limpkin'),\n",
       " (431, 'American coot'),\n",
       " (432, 'bustard'),\n",
       " (433, 'ruddy turnstone'),\n",
       " (434, 'red-backed sandpiper'),\n",
       " (435, 'redshank'),\n",
       " (436, 'dowitcher'),\n",
       " (437, 'oystercatcher'),\n",
       " (438, 'European gallinule'),\n",
       " (439, 'pelican'),\n",
       " (440, 'king penguin'),\n",
       " (441, 'albatross'),\n",
       " (442, 'great white shark'),\n",
       " (443, 'tiger shark'),\n",
       " (444, 'hammerhead'),\n",
       " (445, 'electric ray'),\n",
       " (446, 'stingray'),\n",
       " (447, 'barracouta'),\n",
       " (448, 'coho'),\n",
       " (449, 'tench'),\n",
       " (450, 'goldfish'),\n",
       " (451, 'eel'),\n",
       " (452, 'rock beauty'),\n",
       " (453, 'anemone fish'),\n",
       " (454, 'lionfish'),\n",
       " (455, 'puffer'),\n",
       " (456, 'sturgeon'),\n",
       " (457, 'gar'),\n",
       " (458, 'loggerhead'),\n",
       " (459, 'leatherback turtle'),\n",
       " (460, 'mud turtle'),\n",
       " (461, 'terrapin'),\n",
       " (462, 'box turtle'),\n",
       " (463, 'banded gecko'),\n",
       " (464, 'common iguana'),\n",
       " (465, 'American chameleon'),\n",
       " (466, 'whiptail'),\n",
       " (467, 'agama'),\n",
       " (468, 'frilled lizard'),\n",
       " (469, 'alligator lizard'),\n",
       " (470, 'Gila monster'),\n",
       " (471, 'green lizard'),\n",
       " (472, 'African chameleon'),\n",
       " (473, 'Komodo dragon'),\n",
       " (474, 'triceratops'),\n",
       " (475, 'African crocodile'),\n",
       " (476, 'American alligator'),\n",
       " (477, 'thunder snake'),\n",
       " (478, 'ringneck snake'),\n",
       " (479, 'hognose snake'),\n",
       " (480, 'green snake'),\n",
       " (481, 'king snake'),\n",
       " (482, 'garter snake'),\n",
       " (483, 'water snake'),\n",
       " (484, 'vine snake'),\n",
       " (485, 'night snake'),\n",
       " (486, 'boa constrictor'),\n",
       " (487, 'rock python'),\n",
       " (488, 'Indian cobra'),\n",
       " (489, 'green mamba'),\n",
       " (490, 'sea snake'),\n",
       " (491, 'horned viper'),\n",
       " (492, 'diamondback'),\n",
       " (493, 'sidewinder'),\n",
       " (494, 'European fire salamander'),\n",
       " (495, 'common newt'),\n",
       " (496, 'eft'),\n",
       " (497, 'spotted salamander'),\n",
       " (498, 'axolotl'),\n",
       " (499, 'bullfrog'),\n",
       " (500, 'tree frog'),\n",
       " (501, 'tailed frog'),\n",
       " (502, 'whistle'),\n",
       " (503, 'wing'),\n",
       " (504, 'paintbrush'),\n",
       " (505, 'hand blower'),\n",
       " (506, 'oxygen mask'),\n",
       " (507, 'snorkel'),\n",
       " (508, 'loudspeaker'),\n",
       " (509, 'microphone'),\n",
       " (510, 'screen'),\n",
       " (511, 'mouse'),\n",
       " (512, 'electric fan'),\n",
       " (513, 'oil filter'),\n",
       " (514, 'strainer'),\n",
       " (515, 'space heater'),\n",
       " (516, 'stove'),\n",
       " (517, 'guillotine'),\n",
       " (518, 'barometer'),\n",
       " (519, 'rule'),\n",
       " (520, 'odometer'),\n",
       " (521, 'scale'),\n",
       " (522, 'analog clock'),\n",
       " (523, 'digital clock'),\n",
       " (524, 'wall clock'),\n",
       " (525, 'hourglass'),\n",
       " (526, 'sundial'),\n",
       " (527, 'parking meter'),\n",
       " (528, 'stopwatch'),\n",
       " (529, 'digital watch'),\n",
       " (530, 'stethoscope'),\n",
       " (531, 'syringe'),\n",
       " (532, 'magnetic compass'),\n",
       " (533, 'binoculars'),\n",
       " (534, 'projector'),\n",
       " (535, 'sunglasses'),\n",
       " (536, 'loupe'),\n",
       " (537, 'radio telescope'),\n",
       " (538, 'bow'),\n",
       " (539, 'cannon [ground]'),\n",
       " (540, 'assault rifle'),\n",
       " (541, 'rifle'),\n",
       " (542, 'projectile'),\n",
       " (543, 'computer keyboard'),\n",
       " (544, 'typewriter keyboard'),\n",
       " (545, 'crane'),\n",
       " (546, 'lighter'),\n",
       " (547, 'abacus'),\n",
       " (548, 'cash machine'),\n",
       " (549, 'slide rule'),\n",
       " (550, 'desktop computer'),\n",
       " (551, 'hand-held computer'),\n",
       " (552, 'notebook'),\n",
       " (553, 'web site'),\n",
       " (554, 'harvester'),\n",
       " (555, 'thresher'),\n",
       " (556, 'printer'),\n",
       " (557, 'slot'),\n",
       " (558, 'vending machine'),\n",
       " (559, 'sewing machine'),\n",
       " (560, 'joystick'),\n",
       " (561, 'switch'),\n",
       " (562, 'hook'),\n",
       " (563, 'car wheel'),\n",
       " (564, 'paddlewheel'),\n",
       " (565, 'pinwheel'),\n",
       " (566, \"potter's wheel\"),\n",
       " (567, 'gas pump'),\n",
       " (568, 'carousel'),\n",
       " (569, 'swing'),\n",
       " (570, 'reel'),\n",
       " (571, 'radiator'),\n",
       " (572, 'puck'),\n",
       " (573, 'hard disc'),\n",
       " (574, 'sunglass'),\n",
       " (575, 'pick'),\n",
       " (576, 'car mirror'),\n",
       " (577, 'solar dish'),\n",
       " (578, 'remote control'),\n",
       " (579, 'disk brake'),\n",
       " (580, 'buckle'),\n",
       " (581, 'hair slide'),\n",
       " (582, 'knot'),\n",
       " (583, 'combination lock'),\n",
       " (584, 'padlock'),\n",
       " (585, 'nail'),\n",
       " (586, 'safety pin'),\n",
       " (587, 'screw'),\n",
       " (588, 'muzzle'),\n",
       " (589, 'seat belt'),\n",
       " (590, 'ski'),\n",
       " (591, 'candle'),\n",
       " (592, \"jack-o'-lantern\"),\n",
       " (593, 'spotlight'),\n",
       " (594, 'torch'),\n",
       " (595, 'neck brace'),\n",
       " (596, 'pier'),\n",
       " (597, 'tripod'),\n",
       " (598, 'maypole'),\n",
       " (599, 'mousetrap'),\n",
       " (600, 'spider web'),\n",
       " (601, 'trilobite'),\n",
       " (602, 'harvestman'),\n",
       " (603, 'scorpion'),\n",
       " (604, 'black and gold garden spider'),\n",
       " (605, 'barn spider'),\n",
       " (606, 'garden spider'),\n",
       " (607, 'black widow'),\n",
       " (608, 'tarantula'),\n",
       " (609, 'wolf spider'),\n",
       " (610, 'tick'),\n",
       " (611, 'centipede'),\n",
       " (612, 'isopod'),\n",
       " (613, 'Dungeness crab'),\n",
       " (614, 'rock crab'),\n",
       " (615, 'fiddler crab'),\n",
       " (616, 'king crab'),\n",
       " (617, 'American lobster'),\n",
       " (618, 'spiny lobster'),\n",
       " (619, 'crayfish'),\n",
       " (620, 'hermit crab'),\n",
       " (621, 'tiger beetle'),\n",
       " (622, 'ladybug'),\n",
       " (623, 'ground beetle'),\n",
       " (624, 'long-horned beetle'),\n",
       " (625, 'leaf beetle'),\n",
       " (626, 'dung beetle'),\n",
       " (627, 'rhinoceros beetle'),\n",
       " (628, 'weevil'),\n",
       " (629, 'fly'),\n",
       " (630, 'bee'),\n",
       " (631, 'grasshopper'),\n",
       " (632, 'cricket'),\n",
       " (633, 'walking stick'),\n",
       " (634, 'cockroach'),\n",
       " (635, 'mantis'),\n",
       " (636, 'cicada'),\n",
       " (637, 'leafhopper'),\n",
       " (638, 'lacewing'),\n",
       " (639, 'dragonfly'),\n",
       " (640, 'damselfly'),\n",
       " (641, 'admiral'),\n",
       " (642, 'ringlet'),\n",
       " (643, 'monarch'),\n",
       " (644, 'cabbage butterfly'),\n",
       " (645, 'sulphur butterfly'),\n",
       " (646, 'lycaenid'),\n",
       " (647, 'jellyfish'),\n",
       " (648, 'sea anemone'),\n",
       " (649, 'brain coral'),\n",
       " (650, 'flatworm'),\n",
       " (651, 'nematode'),\n",
       " (652, 'conch'),\n",
       " (653, 'snail'),\n",
       " (654, 'slug'),\n",
       " (655, 'sea slug'),\n",
       " (656, 'chiton'),\n",
       " (657, 'sea urchin'),\n",
       " (658, 'sea cucumber'),\n",
       " (659, 'iron'),\n",
       " (660, 'espresso maker'),\n",
       " (661, 'microwave'),\n",
       " (662, 'Dutch oven'),\n",
       " (663, 'rotisserie'),\n",
       " (664, 'toaster'),\n",
       " (665, 'waffle iron'),\n",
       " (666, 'vacuum'),\n",
       " (667, 'dishwasher'),\n",
       " (668, 'refrigerator'),\n",
       " (669, 'washer'),\n",
       " (670, 'Crock Pot'),\n",
       " (671, 'frying pan'),\n",
       " (672, 'wok'),\n",
       " (673, 'caldron'),\n",
       " (674, 'coffeepot'),\n",
       " (675, 'teapot'),\n",
       " (676, 'spatula'),\n",
       " (677, 'altar'),\n",
       " (678, 'triumphal arch'),\n",
       " (679, 'patio'),\n",
       " (680, 'steel arch bridge'),\n",
       " (681, 'suspension bridge'),\n",
       " (682, 'viaduct'),\n",
       " (683, 'barn'),\n",
       " (684, 'greenhouse'),\n",
       " (685, 'palace'),\n",
       " (686, 'monastery'),\n",
       " (687, 'library'),\n",
       " (688, 'apiary'),\n",
       " (689, 'boathouse'),\n",
       " (690, 'church'),\n",
       " (691, 'mosque'),\n",
       " (692, 'stupa'),\n",
       " (693, 'planetarium'),\n",
       " (694, 'restaurant'),\n",
       " (695, 'cinema'),\n",
       " (696, 'home theater'),\n",
       " (697, 'lumbermill'),\n",
       " (698, 'coil'),\n",
       " (699, 'obelisk'),\n",
       " (700, 'totem pole'),\n",
       " (701, 'castle'),\n",
       " (702, 'prison'),\n",
       " (703, 'grocery store'),\n",
       " (704, 'bakery'),\n",
       " (705, 'barbershop'),\n",
       " (706, 'bookshop'),\n",
       " (707, 'butcher shop'),\n",
       " (708, 'confectionery'),\n",
       " (709, 'shoe shop'),\n",
       " (710, 'tobacco shop'),\n",
       " (711, 'toyshop'),\n",
       " (712, 'fountain'),\n",
       " (713, 'cliff dwelling'),\n",
       " (714, 'yurt'),\n",
       " (715, 'dock'),\n",
       " (716, 'brass'),\n",
       " (717, 'megalith'),\n",
       " (718, 'bannister'),\n",
       " (719, 'breakwater'),\n",
       " (720, 'dam'),\n",
       " (721, 'chainlink fence'),\n",
       " (722, 'picket fence'),\n",
       " (723, 'worm fence'),\n",
       " (724, 'stone wall'),\n",
       " (725, 'grille'),\n",
       " (726, 'sliding door'),\n",
       " (727, 'turnstile'),\n",
       " (728, 'mountain tent'),\n",
       " (729, 'scoreboard'),\n",
       " (730, 'honeycomb'),\n",
       " (731, 'plate rack'),\n",
       " (732, 'pedestal'),\n",
       " (733, 'beacon'),\n",
       " (734, 'mashed potato'),\n",
       " (735, 'bell pepper'),\n",
       " (736, 'head cabbage'),\n",
       " (737, 'broccoli'),\n",
       " (738, 'cauliflower'),\n",
       " (739, 'zucchini'),\n",
       " (740, 'spaghetti squash'),\n",
       " (741, 'acorn squash'),\n",
       " (742, 'butternut squash'),\n",
       " (743, 'cucumber'),\n",
       " (744, 'artichoke'),\n",
       " (745, 'cardoon'),\n",
       " (746, 'mushroom'),\n",
       " (747, 'shower curtain'),\n",
       " (748, 'jean'),\n",
       " (749, 'carton'),\n",
       " (750, 'handkerchief'),\n",
       " (751, 'sandal'),\n",
       " (752, 'ashcan'),\n",
       " (753, 'safe'),\n",
       " (754, 'plate'),\n",
       " (755, 'necklace'),\n",
       " (756, 'croquet ball'),\n",
       " (757, 'fur coat'),\n",
       " (758, 'thimble'),\n",
       " (759, 'pajama'),\n",
       " (760, 'running shoe'),\n",
       " (761, 'cocktail shaker'),\n",
       " (762, 'chest'),\n",
       " (763, 'manhole cover'),\n",
       " (764, 'modem'),\n",
       " (765, 'tub'),\n",
       " (766, 'tray'),\n",
       " (767, 'balance beam'),\n",
       " (768, 'bagel'),\n",
       " (769, 'prayer rug'),\n",
       " (770, 'kimono'),\n",
       " (771, 'hot pot'),\n",
       " (772, 'whiskey jug'),\n",
       " (773, 'knee pad'),\n",
       " (774, 'book jacket'),\n",
       " (775, 'spindle'),\n",
       " (776, 'ski mask'),\n",
       " (777, 'beer bottle'),\n",
       " (778, 'crash helmet'),\n",
       " (779, 'bottlecap'),\n",
       " (780, 'tile roof'),\n",
       " (781, 'mask'),\n",
       " (782, 'maillot'),\n",
       " (783, 'Petri dish'),\n",
       " (784, 'football helmet'),\n",
       " (785, 'bathing cap'),\n",
       " (786, 'teddy bear'),\n",
       " (787, 'holster'),\n",
       " (788, 'pop bottle'),\n",
       " (789, 'photocopier'),\n",
       " (790, 'vestment'),\n",
       " (791, 'crossword puzzle'),\n",
       " (792, 'golf ball'),\n",
       " (793, 'trifle'),\n",
       " (794, 'suit'),\n",
       " (795, 'water tower'),\n",
       " (796, 'feather boa'),\n",
       " (797, 'cloak'),\n",
       " (798, 'red wine'),\n",
       " (799, 'drumstick'),\n",
       " (800, 'shield'),\n",
       " (801, 'Christmas stocking'),\n",
       " (802, 'hoopskirt'),\n",
       " (803, 'menu'),\n",
       " (804, 'stage'),\n",
       " (805, 'bonnet'),\n",
       " (806, 'meat loaf'),\n",
       " (807, 'baseball'),\n",
       " (808, 'face powder'),\n",
       " (809, 'scabbard'),\n",
       " (810, 'sunscreen'),\n",
       " (811, 'beer glass'),\n",
       " (812, 'hen-of-the-woods'),\n",
       " (813, 'guacamole'),\n",
       " (814, 'lampshade'),\n",
       " (815, 'wool'),\n",
       " (816, 'hay'),\n",
       " (817, 'bow tie'),\n",
       " (818, 'mailbag'),\n",
       " (819, 'water jug'),\n",
       " (820, 'bucket'),\n",
       " (821, 'dishrag'),\n",
       " (822, 'soup bowl'),\n",
       " (823, 'eggnog'),\n",
       " (824, 'mortar'),\n",
       " (825, 'trench coat'),\n",
       " (826, 'paddle'),\n",
       " (827, 'chain'),\n",
       " (828, 'swab'),\n",
       " (829, 'mixing bowl'),\n",
       " (830, 'potpie'),\n",
       " (831, 'wine bottle'),\n",
       " (832, 'shoji'),\n",
       " (833, 'bulletproof vest'),\n",
       " (834, 'drilling platform'),\n",
       " (835, 'binder'),\n",
       " (836, 'cardigan'),\n",
       " (837, 'sweatshirt'),\n",
       " (838, 'pot'),\n",
       " (839, 'birdhouse'),\n",
       " (840, 'hamper'),\n",
       " (841, 'ping-pong ball'),\n",
       " (842, 'pencil box'),\n",
       " (843, 'pay-phone'),\n",
       " (844, 'consomme'),\n",
       " (845, 'apron'),\n",
       " (846, 'punching bag'),\n",
       " (847, 'backpack'),\n",
       " (848, 'groom'),\n",
       " (849, 'bearskin'),\n",
       " (850, 'pencil sharpener'),\n",
       " (851, 'broom'),\n",
       " (852, 'mosquito net'),\n",
       " (853, 'abaya'),\n",
       " (854, 'mortarboard'),\n",
       " (855, 'poncho'),\n",
       " (856, 'crutch'),\n",
       " (857, 'Polaroid camera'),\n",
       " (858, 'space bar'),\n",
       " (859, 'cup'),\n",
       " (860, 'racket'),\n",
       " (861, 'traffic light'),\n",
       " (862, 'quill'),\n",
       " (863, 'radio'),\n",
       " (864, 'dough'),\n",
       " (865, 'cuirass'),\n",
       " (866, 'military uniform'),\n",
       " (867, 'lipstick'),\n",
       " (868, 'shower cap'),\n",
       " (869, 'monitor'),\n",
       " (870, 'oscilloscope'),\n",
       " (871, 'mitten'),\n",
       " (872, 'brassiere'),\n",
       " (873, 'French loaf'),\n",
       " (874, 'vase'),\n",
       " (875, 'milk can'),\n",
       " (876, 'rugby ball'),\n",
       " (877, 'paper towel'),\n",
       " (878, 'earthstar'),\n",
       " (879, 'envelope'),\n",
       " (880, 'miniskirt'),\n",
       " (881, 'cowboy hat'),\n",
       " (882, 'trolleybus'),\n",
       " (883, 'perfume'),\n",
       " (884, 'bathtub'),\n",
       " (885, 'hotdog'),\n",
       " (886, 'coral fungus'),\n",
       " (887, 'bullet train'),\n",
       " (888, 'pillow'),\n",
       " (889, 'toilet tissue'),\n",
       " (890, 'cassette'),\n",
       " (891, \"carpenter's kit\"),\n",
       " (892, 'ladle'),\n",
       " (893, 'stinkhorn'),\n",
       " (894, 'lotion'),\n",
       " (895, 'hair spray'),\n",
       " (896, 'academic gown'),\n",
       " (897, 'dome'),\n",
       " (898, 'crate'),\n",
       " (899, 'wig'),\n",
       " (900, 'burrito'),\n",
       " (901, 'pill bottle'),\n",
       " (902, 'chain mail'),\n",
       " (903, 'theater curtain'),\n",
       " (904, 'window shade'),\n",
       " (905, 'barrel'),\n",
       " (906, 'washbasin'),\n",
       " (907, 'ballpoint'),\n",
       " (908, 'basketball'),\n",
       " (909, 'bath towel'),\n",
       " (910, 'cowboy boot'),\n",
       " (911, 'gown'),\n",
       " (912, 'window screen'),\n",
       " (913, 'agaric'),\n",
       " (914, 'cellular telephone'),\n",
       " (915, 'nipple'),\n",
       " (916, 'barbell'),\n",
       " (917, 'mailbox'),\n",
       " (918, 'lab coat'),\n",
       " (919, 'fire screen'),\n",
       " (920, 'minibus'),\n",
       " (921, 'packet'),\n",
       " (922, 'maze'),\n",
       " (923, 'pole'),\n",
       " (924, 'horizontal bar'),\n",
       " (925, 'sombrero'),\n",
       " (926, 'pickelhaube'),\n",
       " (927, 'rain barrel'),\n",
       " (928, 'wallet'),\n",
       " (929, 'cassette player'),\n",
       " (930, 'comic book'),\n",
       " (931, 'piggy bank'),\n",
       " (932, 'street sign'),\n",
       " (933, 'bell cote'),\n",
       " (934, 'fountain pen'),\n",
       " (935, 'Windsor tie'),\n",
       " (936, 'volleyball'),\n",
       " (937, 'overskirt'),\n",
       " (938, 'sarong'),\n",
       " (939, 'purse'),\n",
       " (940, 'bolo tie'),\n",
       " (941, 'bib'),\n",
       " (942, 'parachute'),\n",
       " (943, 'sleeping bag'),\n",
       " (944, 'television'),\n",
       " (945, 'swimming trunks'),\n",
       " (946, 'measuring cup'),\n",
       " (947, 'espresso'),\n",
       " (948, 'pizza'),\n",
       " (949, 'breastplate'),\n",
       " (950, 'shopping basket'),\n",
       " (951, 'wooden spoon'),\n",
       " (952, 'saltshaker'),\n",
       " (953, 'chocolate sauce'),\n",
       " (954, 'ballplayer'),\n",
       " (955, 'goblet'),\n",
       " (956, 'gyromitra'),\n",
       " (957, 'stretcher'),\n",
       " (958, 'water bottle'),\n",
       " (959, 'dial telephone'),\n",
       " (960, 'soap dispenser'),\n",
       " (961, 'jersey'),\n",
       " (962, 'school bus'),\n",
       " (963, 'jigsaw puzzle'),\n",
       " (964, 'plastic bag'),\n",
       " (965, 'reflex camera'),\n",
       " (966, 'diaper'),\n",
       " (967, 'Band Aid'),\n",
       " (968, 'ice lolly'),\n",
       " (969, 'velvet'),\n",
       " (970, 'tennis ball'),\n",
       " (971, 'gasmask'),\n",
       " (972, 'doormat'),\n",
       " (973, 'Loafer'),\n",
       " (974, 'ice cream'),\n",
       " (975, 'pretzel'),\n",
       " (976, 'quilt'),\n",
       " (977, 'maillot'),\n",
       " (978, 'tape player'),\n",
       " (979, 'clog'),\n",
       " (980, 'iPod'),\n",
       " (981, 'bolete'),\n",
       " (982, 'scuba diver'),\n",
       " (983, 'pitcher'),\n",
       " (984, 'matchstick'),\n",
       " (985, 'bikini'),\n",
       " (986, 'sock'),\n",
       " (987, 'CD player'),\n",
       " (988, 'lens cap'),\n",
       " (989, 'thatch'),\n",
       " (990, 'vault'),\n",
       " (991, 'beaker'),\n",
       " (992, 'bubble'),\n",
       " (993, 'cheeseburger'),\n",
       " (994, 'parallel bars'),\n",
       " (995, 'flagpole'),\n",
       " (996, 'coffee mug'),\n",
       " (997, 'rubber eraser'),\n",
       " (998, 'stole'),\n",
       " (999, 'carbonara'),\n",
       " ...]"
      ]
     },
     "execution_count": 10,
     "metadata": {},
     "output_type": "execute_result"
    }
   ],
   "source": [
    "net['labels']"
   ]
  },
  {
   "cell_type": "code",
   "execution_count": 11,
   "metadata": {
    "collapsed": false
   },
   "outputs": [
    {
     "name": "stdout",
     "output_type": "stream",
     "text": [
      "(851, 'broom')\n"
     ]
    }
   ],
   "source": [
    "label_i = 851\n",
    "print(net['labels'][label_i])"
   ]
  },
  {
   "cell_type": "markdown",
   "metadata": {},
   "source": [
    "<a name=\"using-context-managers\"></a>\n",
    "## Using Context Managers\n",
    "\n",
    "Up until now, we've mostly used a single `tf.Session` within a notebook and didn't give it much thought.  Now that we're using some bigger models, we're going to have to be more careful.  Using a big model and being careless with our session can result in a lot of unexpected behavior, program crashes, and out of memory errors.  The VGG network and the I2V networks are quite large.  So we'll need to start being more careful with our sessions using context managers.\n",
    "\n",
    "Let's see how this works w/ VGG:\n",
    "\n",
    "<h3><font color='red'>TODO! COMPLETE THIS SECTION!</font></h3>"
   ]
  },
  {
   "cell_type": "code",
   "execution_count": 12,
   "metadata": {
    "collapsed": false
   },
   "outputs": [
    {
     "name": "stdout",
     "output_type": "stream",
     "text": [
      "Downloading https://s3.amazonaws.com/cadl/models/vgg16.tfmodel\n",
      "Downloading https://s3.amazonaws.com/cadl/models/synset.txt\n"
     ]
    }
   ],
   "source": [
    "# Load the VGG network.  Scroll back up to where we loaded the inception\n",
    "# network if you are unsure.  It is inside the \"vgg16\" module...\n",
    "net = vgg16.get_vgg_model()\n",
    "\n",
    "assert(net['labels'][0] == (0, 'n01440764 tench, Tinca tinca'))"
   ]
  },
  {
   "cell_type": "code",
   "execution_count": 13,
   "metadata": {
    "collapsed": true
   },
   "outputs": [],
   "source": [
    "# Let's explicity use the CPU, since we don't gain anything using the GPU\n",
    "# when doing Deep Dream (it's only a single image, benefits come w/ many images).\n",
    "device = '/cpu:0'\n",
    "\n",
    "# We'll now explicitly create a graph\n",
    "g = tf.Graph()\n",
    "\n",
    "# And here is a context manager.  We use the python \"with\" notation to create a context\n",
    "# and create a session that only exists within this indent,  as soon as we leave it,\n",
    "# the session is automatically closed!  We also tel the session which graph to use.\n",
    "# We can pass a second context after the comma,\n",
    "# which we'll use to be explicit about using the CPU instead of a GPU.\n",
    "with tf.Session(graph=g) as sess, g.device(device):\n",
    "    \n",
    "    # Now load the graph_def, which defines operations and their values into `g`\n",
    "    tf.import_graph_def(net['graph_def'], name='net')"
   ]
  },
  {
   "cell_type": "code",
   "execution_count": 14,
   "metadata": {
    "collapsed": false
   },
   "outputs": [
    {
     "name": "stdout",
     "output_type": "stream",
     "text": [
      "['net/images', 'net/mul/y', 'net/mul', 'net/split/split_dim', 'net/split', 'net/sub/y', 'net/sub', 'net/sub_1/y', 'net/sub_1', 'net/sub_2/y', 'net/sub_2', 'net/concat/concat_dim', 'net/concat', 'net/conv1_1/filter', 'net/conv1_1/Conv2D', 'net/conv1_1/biases', 'net/conv1_1/BiasAdd', 'net/conv1_1/conv1_1', 'net/conv1_2/filter', 'net/conv1_2/Conv2D', 'net/conv1_2/biases', 'net/conv1_2/BiasAdd', 'net/conv1_2/conv1_2', 'net/pool1', 'net/conv2_1/filter', 'net/conv2_1/Conv2D', 'net/conv2_1/biases', 'net/conv2_1/BiasAdd', 'net/conv2_1/conv2_1', 'net/conv2_2/filter', 'net/conv2_2/Conv2D', 'net/conv2_2/biases', 'net/conv2_2/BiasAdd', 'net/conv2_2/conv2_2', 'net/pool2', 'net/conv3_1/filter', 'net/conv3_1/Conv2D', 'net/conv3_1/biases', 'net/conv3_1/BiasAdd', 'net/conv3_1/conv3_1', 'net/conv3_2/filter', 'net/conv3_2/Conv2D', 'net/conv3_2/biases', 'net/conv3_2/BiasAdd', 'net/conv3_2/conv3_2', 'net/conv3_3/filter', 'net/conv3_3/Conv2D', 'net/conv3_3/biases', 'net/conv3_3/BiasAdd', 'net/conv3_3/conv3_3', 'net/pool3', 'net/conv4_1/filter', 'net/conv4_1/Conv2D', 'net/conv4_1/biases', 'net/conv4_1/BiasAdd', 'net/conv4_1/conv4_1', 'net/conv4_2/filter', 'net/conv4_2/Conv2D', 'net/conv4_2/biases', 'net/conv4_2/BiasAdd', 'net/conv4_2/conv4_2', 'net/conv4_3/filter', 'net/conv4_3/Conv2D', 'net/conv4_3/biases', 'net/conv4_3/BiasAdd', 'net/conv4_3/conv4_3', 'net/pool4', 'net/conv5_1/filter', 'net/conv5_1/Conv2D', 'net/conv5_1/biases', 'net/conv5_1/BiasAdd', 'net/conv5_1/conv5_1', 'net/conv5_2/filter', 'net/conv5_2/Conv2D', 'net/conv5_2/biases', 'net/conv5_2/BiasAdd', 'net/conv5_2/conv5_2', 'net/conv5_3/filter', 'net/conv5_3/Conv2D', 'net/conv5_3/biases', 'net/conv5_3/BiasAdd', 'net/conv5_3/conv5_3', 'net/pool5', 'net/Reshape/shape', 'net/Reshape', 'net/Const', 'net/Const_1', 'net/MatMul', 'net/fc6', 'net/fc6_relu', 'net/dropout/Shape', 'net/dropout/random_uniform/min', 'net/dropout/random_uniform/range', 'net/dropout/random_uniform/RandomUniform', 'net/dropout/random_uniform/mul', 'net/dropout/random_uniform', 'net/dropout/add/x', 'net/dropout/add', 'net/dropout/Floor', 'net/dropout/mul/y', 'net/dropout/mul', 'net/dropout/mul_1', 'net/Reshape_1/shape', 'net/Reshape_1', 'net/Const_2', 'net/Const_3', 'net/MatMul_1', 'net/fc7', 'net/fc7_relu', 'net/dropout_1/Shape', 'net/dropout_1/random_uniform/min', 'net/dropout_1/random_uniform/range', 'net/dropout_1/random_uniform/RandomUniform', 'net/dropout_1/random_uniform/mul', 'net/dropout_1/random_uniform', 'net/dropout_1/add/x', 'net/dropout_1/add', 'net/dropout_1/Floor', 'net/dropout_1/mul/y', 'net/dropout_1/mul', 'net/dropout_1/mul_1', 'net/Reshape_2/shape', 'net/Reshape_2', 'net/Const_4', 'net/Const_5', 'net/MatMul_2', 'net/fc8', 'net/prob', 'net/init']\n"
     ]
    }
   ],
   "source": [
    "# Now we can get all the operations that belong to the graph `g`:\n",
    "names = [op.name for op in g.get_operations()]\n",
    "print(names)"
   ]
  },
  {
   "cell_type": "markdown",
   "metadata": {},
   "source": [
    "<a name=\"part-2---visualizing-gradients\"></a>\n",
    "# Part 2 - Visualizing Gradients\n",
    "\n",
    "Now that we know how to load a network and extract layers from it, let's grab only the pooling layers:\n",
    "\n",
    "<h3><font color='red'>TODO! COMPLETE THIS SECTION!</font></h3>"
   ]
  },
  {
   "cell_type": "code",
   "execution_count": null,
   "metadata": {
    "collapsed": true
   },
   "outputs": [],
   "source": [
    "# First find all the pooling layers in the network.  You can\n",
    "# use list comprehension to iterate over all the \"names\" we just\n",
    "# created, finding whichever ones have the name \"pool\" in them.\n",
    "# Then be sure to append a \":0\" to the names\n",
    "features = ...\n",
    "\n",
    "# Let's print them\n",
    "print(features)\n",
    "\n",
    "# This is what we want to have at the end.  You could just copy this list\n",
    "# if you are stuck!\n",
    "assert(features == ['net/pool1:0', 'net/pool2:0', 'net/pool3:0', 'net/pool4:0', 'net/pool5:0'])"
   ]
  },
  {
   "cell_type": "markdown",
   "metadata": {},
   "source": [
    "Let's also grab the input layer:\n",
    "\n",
    "<h3><font color='red'>TODO! COMPLETE THIS SECTION!</font></h3>"
   ]
  },
  {
   "cell_type": "code",
   "execution_count": null,
   "metadata": {
    "collapsed": true
   },
   "outputs": [],
   "source": [
    "# Use the function 'get_tensor_by_name' and the 'names' array to help you\n",
    "# get the first tensor in the network.  Remember you have to add \":0\" to the\n",
    "# name to get the output of an operation which is the tensor.\n",
    "x = ...\n",
    "\n",
    "assert(x.name == 'net/images:0')"
   ]
  },
  {
   "cell_type": "markdown",
   "metadata": {},
   "source": [
    "We'll now try to find the gradient activation that maximizes a layer with respect to the input layer `x`."
   ]
  },
  {
   "cell_type": "code",
   "execution_count": null,
   "metadata": {
    "collapsed": true
   },
   "outputs": [],
   "source": [
    "def plot_gradient(img, x, feature, g, device='/cpu:0'):\n",
    "    \"\"\"Let's visualize the network's gradient activation\n",
    "    when backpropagated to the original input image.  This\n",
    "    is effectively telling us which pixels contribute to the\n",
    "    predicted layer, class, or given neuron with the layer\"\"\"\n",
    "    \n",
    "    # We'll be explicit about the graph and the device\n",
    "    # by using a context manager:\n",
    "    with tf.Session(graph=g) as sess, g.device(device):\n",
    "        saliency = tf.gradients(tf.reduce_mean(feature), x)\n",
    "        this_res = sess.run(saliency[0], feed_dict={x: img})\n",
    "        grad = this_res[0] / np.max(np.abs(this_res))\n",
    "        return grad"
   ]
  },
  {
   "cell_type": "markdown",
   "metadata": {},
   "source": [
    "Let's try this w/ an image now.  We're going to use the `plot_gradient` function to help us.  This is going to take our input image, run it through the network up to a layer, find the gradient of the mean of that layer's activation with respect to the input image, then backprop that gradient back to the input layer.  We'll then visualize the gradient by normalizing it's values using the `utils.normalize` function."
   ]
  },
  {
   "cell_type": "code",
   "execution_count": null,
   "metadata": {
    "collapsed": true
   },
   "outputs": [],
   "source": [
    "og = plt.imread('clinton.png')[..., :3]\n",
    "img = net['preprocess'](og)[np.newaxis]\n",
    "\n",
    "fig, axs = plt.subplots(1, len(features), figsize=(20, 10))\n",
    "\n",
    "for i in range(len(features)):\n",
    "    axs[i].set_title(features[i])\n",
    "    grad = plot_gradient(img, x, g.get_tensor_by_name(features[i]), g)\n",
    "    axs[i].imshow(utils.normalize(grad))"
   ]
  },
  {
   "cell_type": "markdown",
   "metadata": {},
   "source": [
    "<a name=\"part-3---basic-deep-dream\"></a>\n",
    "# Part 3 - Basic Deep Dream\n",
    "\n",
    "In the lecture we saw how Deep Dreaming takes the backpropagated gradient activations and simply adds it to the image, running the same process again and again in a loop.  We also saw many tricks one can add to this idea, such as infinitely zooming into the image by cropping and scaling, adding jitter by randomly moving the image around, or adding constraints on the total activations.\n",
    "\n",
    "Have a look here for inspiration:\n",
    "\n",
    "https://research.googleblog.com/2015/06/inceptionism-going-deeper-into-neural.html  \n",
    "\n",
    "\n",
    "https://photos.google.com/share/AF1QipPX0SCl7OzWilt9LnuQliattX4OUCj_8EP65_cTVnBmS1jnYgsGQAieQUc1VQWdgQ?key=aVBxWjhwSzg2RjJWLWRuVFBBZEN1d205bUdEMnhB  \n",
    "\n",
    "https://mtyka.github.io/deepdream/2016/02/05/bilateral-class-vis.html\n",
    "\n",
    "Let's stick the necessary bits in a function and try exploring how deep dream amplifies the representations of the chosen layers:"
   ]
  },
  {
   "cell_type": "code",
   "execution_count": null,
   "metadata": {
    "collapsed": true
   },
   "outputs": [],
   "source": [
    "def dream(img, gradient, step, net, x, n_iterations=50, plot_step=10):\n",
    "    # Copy the input image as we'll add the gradient to it in a loop\n",
    "    img_copy = img.copy()\n",
    "\n",
    "    fig, axs = plt.subplots(1, n_iterations // plot_step, figsize=(20, 10))\n",
    "\n",
    "    with tf.Session(graph=g) as sess, g.device(device):\n",
    "        for it_i in range(n_iterations):\n",
    "\n",
    "            # This will calculate the gradient of the layer we chose with respect to the input image.\n",
    "            this_res = sess.run(gradient[0], feed_dict={x: img_copy})[0]\n",
    "\n",
    "            # Let's normalize it by the maximum activation\n",
    "            this_res /= (np.max(np.abs(this_res) + 1e-8))\n",
    "            \n",
    "            # Or alternatively, we can normalize by standard deviation\n",
    "            # this_res /= (np.std(this_res) + 1e-8)\n",
    "            \n",
    "            # Or we could use the `utils.normalize function:\n",
    "            # this_res = utils.normalize(this_res)\n",
    "            \n",
    "            # Experiment with all of the above options.  They will drastically\n",
    "            # effect the resulting dream, and really depend on the network\n",
    "            # you use, and the way the network handles normalization of the\n",
    "            # input image, and the step size you choose!  Lots to explore!\n",
    "\n",
    "            # Then add the gradient back to the input image\n",
    "            # Think about what this gradient represents?\n",
    "            # It says what direction we should move our input\n",
    "            # in order to meet our objective stored in \"gradient\"\n",
    "            img_copy += this_res * step\n",
    "\n",
    "            # Plot the image\n",
    "            if (it_i + 1) % plot_step == 0:\n",
    "                m = net['deprocess'](img_copy[0])\n",
    "                axs[it_i // plot_step].imshow(m)"
   ]
  },
  {
   "cell_type": "code",
   "execution_count": null,
   "metadata": {
    "collapsed": true
   },
   "outputs": [],
   "source": [
    "# We'll run it for 3 iterations\n",
    "n_iterations = 3\n",
    "\n",
    "# Think of this as our learning rate.  This is how much of\n",
    "# the gradient we'll add back to the input image\n",
    "step = 1.0\n",
    "\n",
    "# Every 1 iterations, we'll plot the current deep dream\n",
    "plot_step = 1"
   ]
  },
  {
   "cell_type": "markdown",
   "metadata": {},
   "source": [
    "Let's now try running Deep Dream for every feature, each of our 5 pooling layers.  We'll need to get the layer corresponding to our feature.  Then find the gradient of this layer's mean activation with respect to our input, `x`.  Then pass these to our `dream` function.  This can take awhile (about 10 minutes using the CPU on my Macbook Pro)."
   ]
  },
  {
   "cell_type": "code",
   "execution_count": null,
   "metadata": {
    "collapsed": true
   },
   "outputs": [],
   "source": [
    "for feature_i in range(len(features)):\n",
    "    with tf.Session(graph=g) as sess, g.device(device):\n",
    "        # Get a feature layer\n",
    "        layer = g.get_tensor_by_name(features[feature_i])\n",
    "\n",
    "        # Find the gradient of this layer's mean activation\n",
    "        # with respect to the input image\n",
    "        gradient = tf.gradients(tf.reduce_mean(layer), x)\n",
    "        \n",
    "        # Dream w/ our image\n",
    "        dream(img, gradient, step, net, x, n_iterations=n_iterations, plot_step=plot_step)"
   ]
  },
  {
   "cell_type": "markdown",
   "metadata": {},
   "source": [
    "Instead of using an image, we can use an image of noise and see how it \"hallucinates\" the representations that the layer most responds to:"
   ]
  },
  {
   "cell_type": "code",
   "execution_count": null,
   "metadata": {
    "collapsed": true
   },
   "outputs": [],
   "source": [
    "noise = net['preprocess'](\n",
    "    np.random.rand(256, 256, 3) * 0.1 + 0.45)[np.newaxis]"
   ]
  },
  {
   "cell_type": "markdown",
   "metadata": {},
   "source": [
    "We'll do the same thing as before, now w/ our noise image:\n",
    "\n",
    "<h3><font color='red'>TODO! COMPLETE THIS SECTION!</font></h3>"
   ]
  },
  {
   "cell_type": "code",
   "execution_count": null,
   "metadata": {
    "collapsed": true
   },
   "outputs": [],
   "source": [
    "for feature_i in range(len(features)):\n",
    "    with tf.Session(graph=g) as sess, g.device(device):\n",
    "        # Get a feature layer\n",
    "        layer = ...\n",
    "\n",
    "        # Find the gradient of this layer's mean activation\n",
    "        # with respect to the input image\n",
    "        gradient = ...\n",
    "        \n",
    "        # Dream w/ the noise image.  Complete this!\n",
    "        dream(...)"
   ]
  },
  {
   "cell_type": "markdown",
   "metadata": {},
   "source": [
    "<a name=\"part-4---deep-dream-extensions\"></a>\n",
    "# Part 4 - Deep Dream Extensions\n",
    "\n",
    "As we saw in the lecture, we can also use the final softmax layer of a network to use during deep dream.  This allows us to be explicit about the object we want hallucinated in an image.\n",
    "\n",
    "<a name=\"using-the-softmax-layer\"></a>\n",
    "## Using the Softmax Layer\n",
    "\n",
    "Let's get another image to play with, preprocess it, and then make it 4-dimensional.\n",
    "\n",
    "<h3><font color='red'>TODO! COMPLETE THIS SECTION!</font></h3>"
   ]
  },
  {
   "cell_type": "code",
   "execution_count": null,
   "metadata": {
    "collapsed": true
   },
   "outputs": [],
   "source": [
    "# Load your own image here\n",
    "og = ...\n",
    "plt.imshow(og)\n",
    "\n",
    "# Preprocess the image and make sure it is 4-dimensional by adding a new axis to the 0th dimension:\n",
    "img = ...\n",
    "\n",
    "assert(img.ndim == 4)"
   ]
  },
  {
   "cell_type": "code",
   "execution_count": null,
   "metadata": {
    "collapsed": true
   },
   "outputs": [],
   "source": [
    "# Let's get the softmax layer\n",
    "print(names[-2])\n",
    "layer = g.get_tensor_by_name(names[-2] + \":0\")\n",
    "\n",
    "# And find its shape\n",
    "with tf.Session(graph=g) as sess, g.device(device):\n",
    "    layer_shape = tf.shape(layer).eval(feed_dict={x:img})\n",
    "\n",
    "# We can find out how many neurons it has by feeding it an image and\n",
    "# calculating the shape.  The number of output channels is the last dimension.\n",
    "n_els = layer_shape[-1]"
   ]
  },
  {
   "cell_type": "code",
   "execution_count": null,
   "metadata": {
    "collapsed": true
   },
   "outputs": [],
   "source": [
    "# Let's pick a label.  First let's print out every label and then find one we like:\n",
    "print(net['labels'])"
   ]
  },
  {
   "cell_type": "markdown",
   "metadata": {},
   "source": [
    "<h3><font color='red'>TODO! COMPLETE THIS SECTION!</font></h3>"
   ]
  },
  {
   "cell_type": "code",
   "execution_count": null,
   "metadata": {
    "collapsed": true
   },
   "outputs": [],
   "source": [
    "# Pick a neuron.  Or pick a random one.  This should be 0-n_els\n",
    "neuron_i = ...\n",
    "\n",
    "print(net['labels'][neuron_i])\n",
    "assert(neuron_i >= 0 and neuron_i < n_els)"
   ]
  },
  {
   "cell_type": "code",
   "execution_count": null,
   "metadata": {
    "collapsed": true
   },
   "outputs": [],
   "source": [
    "# And we'll create an activation of this layer which is very close to 0\n",
    "layer_vec = np.ones(layer_shape) / 100.0\n",
    "\n",
    "# Except for the randomly chosen neuron which will be very close to 1\n",
    "layer_vec[..., neuron_i] = 0.99"
   ]
  },
  {
   "cell_type": "markdown",
   "metadata": {},
   "source": [
    "Let's decide on some parameters of our deep dream.  We'll need to decide how many iterations to run for.  And we'll plot the result every few iterations, also saving it so that we can produce a GIF.  And at every iteration, we need to decide how much to ascend our gradient.\n",
    "\n",
    "<h3><font color='red'>TODO! COMPLETE THIS SECTION!</font></h3>"
   ]
  },
  {
   "cell_type": "code",
   "execution_count": null,
   "metadata": {
    "collapsed": true
   },
   "outputs": [],
   "source": [
    "# Explore different parameters for this section.\n",
    "n_iterations = 51\n",
    "\n",
    "plot_step = 5\n",
    "\n",
    "# If you use a different network, you will definitely need to experiment\n",
    "# with the step size, as each network normalizes the input image differently.\n",
    "step = 0.2"
   ]
  },
  {
   "cell_type": "markdown",
   "metadata": {},
   "source": [
    "Now let's dream.  We're going to define a context manager to create a session and use our existing graph, and make sure we use the CPU device, as there is no gain in using GPU, and we have much more CPU memory than GPU memory."
   ]
  },
  {
   "cell_type": "code",
   "execution_count": null,
   "metadata": {
    "collapsed": true
   },
   "outputs": [],
   "source": [
    "imgs = []\n",
    "with tf.Session(graph=g) as sess, g.device(device):\n",
    "    gradient = tf.gradients(tf.reduce_max(layer), x)\n",
    "\n",
    "    # Copy the input image as we'll add the gradient to it in a loop\n",
    "    img_copy = img.copy()\n",
    "\n",
    "    with tf.Session(graph=g) as sess, g.device(device):\n",
    "        for it_i in range(n_iterations):\n",
    "\n",
    "            # This will calculate the gradient of the layer we chose with respect to the input image.\n",
    "            this_res = sess.run(gradient[0], feed_dict={\n",
    "                    x: img_copy, layer: layer_vec})[0]\n",
    "            \n",
    "            # Let's normalize it by the maximum activation\n",
    "            this_res /= (np.max(np.abs(this_res) + 1e-8))\n",
    "            \n",
    "            # Or alternatively, we can normalize by standard deviation\n",
    "            # this_res /= (np.std(this_res) + 1e-8)\n",
    "\n",
    "            # Then add the gradient back to the input image\n",
    "            # Think about what this gradient represents?\n",
    "            # It says what direction we should move our input\n",
    "            # in order to meet our objective stored in \"gradient\"\n",
    "            img_copy += this_res * step\n",
    "\n",
    "            # Plot the image\n",
    "            if (it_i + 1) % plot_step == 0:\n",
    "                m = net['deprocess'](img_copy[0])\n",
    "\n",
    "                plt.figure(figsize=(5, 5))\n",
    "                plt.grid('off')\n",
    "                plt.imshow(m)\n",
    "                plt.show()\n",
    "                \n",
    "                imgs.append(m)\n",
    "                "
   ]
  },
  {
   "cell_type": "code",
   "execution_count": null,
   "metadata": {
    "collapsed": true
   },
   "outputs": [],
   "source": [
    "# Save the gif\n",
    "gif.build_gif(imgs, saveto='softmax.gif')"
   ]
  },
  {
   "cell_type": "code",
   "execution_count": null,
   "metadata": {
    "collapsed": true
   },
   "outputs": [],
   "source": [
    "ipyd.Image(url='softmax.gif?i={}'.format(\n",
    "        np.random.rand()), height=300, width=300)"
   ]
  },
  {
   "cell_type": "markdown",
   "metadata": {},
   "source": [
    "<a name=\"fractal\"></a>\n",
    "## Fractal\n",
    "\n",
    "During the lecture we also saw a simple trick for creating an infinite fractal: crop the image and then resize it.  This can produce some lovely aesthetics and really show some strong object hallucinations if left long enough and with the right parameters for step size/normalization/regularization.  Feel free to experiment with the code below, adding your own regularizations as shown in the lecture to produce different results!\n",
    "\n",
    "<h3><font color='red'>TODO! COMPLETE THIS SECTION!</font></h3>"
   ]
  },
  {
   "cell_type": "code",
   "execution_count": null,
   "metadata": {
    "collapsed": true
   },
   "outputs": [],
   "source": [
    "n_iterations = 101\n",
    "plot_step = 10\n",
    "step = 0.1\n",
    "crop = 1\n",
    "imgs = []\n",
    "\n",
    "n_imgs, height, width, *ch = img.shape\n",
    "\n",
    "with tf.Session(graph=g) as sess, g.device(device):\n",
    "    # Explore changing the gradient here from max to mean\n",
    "    # or even try using different concepts we learned about\n",
    "    # when creating style net, such as using a total variational\n",
    "    # loss on `x`.\n",
    "    gradient = tf.gradients(tf.reduce_max(layer), x)\n",
    "\n",
    "    # Copy the input image as we'll add the gradient to it in a loop\n",
    "    img_copy = img.copy()\n",
    "\n",
    "    with tf.Session(graph=g) as sess, g.device(device):\n",
    "        for it_i in range(n_iterations):\n",
    "\n",
    "            # This will calculate the gradient of the layer\n",
    "            # we chose with respect to the input image.\n",
    "            this_res = sess.run(gradient[0], feed_dict={\n",
    "                    x: img_copy, layer: layer_vec})[0]\n",
    "            \n",
    "            # This is just one way we could normalize the\n",
    "            # gradient.  It helps to look at the range of your image's\n",
    "            # values, e.g. if it is 0 - 1, or -115 to +115,\n",
    "            # and then consider the best way to normalize the gradient.\n",
    "            # For some networks, it might not even be necessary\n",
    "            # to perform this normalization, especially if you\n",
    "            # leave the dream to run for enough iterations.\n",
    "            # this_res = this_res / (np.std(this_res) + 1e-10)\n",
    "            this_res = this_res / (np.max(np.abs(this_res)) + 1e-10)\n",
    "\n",
    "            # Then add the gradient back to the input image\n",
    "            # Think about what this gradient represents?\n",
    "            # It says what direction we should move our input\n",
    "            # in order to meet our objective stored in \"gradient\"\n",
    "            img_copy += this_res * step\n",
    "            \n",
    "            # Optionally, we could apply any number of regularization\n",
    "            # techniques... Try exploring different ways of regularizing\n",
    "            # gradient. ascent process.  If you are adventurous, you can\n",
    "            # also explore changing the gradient above using a\n",
    "            # total variational loss, as we used in the style net\n",
    "            # implementation during the lecture.  I leave that to you\n",
    "            # as an exercise!\n",
    "\n",
    "            # Crop a 1 pixel border from height and width\n",
    "            img_copy = img_copy[:, crop:-crop, crop:-crop, :]\n",
    "\n",
    "            # Resize (Note: in the lecture, we used scipy's resize which\n",
    "            # could not resize images outside of 0-1 range, and so we had\n",
    "            # to store the image ranges.  This is a much simpler resize\n",
    "            # method that allows us to `preserve_range`.)\n",
    "            img_copy = resize(img_copy[0], (height, width), order=3,\n",
    "                         clip=False, preserve_range=True\n",
    "                         )[np.newaxis].astype(np.float32)\n",
    "\n",
    "            # Plot the image\n",
    "            if (it_i + 1) % plot_step == 0:\n",
    "                m = net['deprocess'](img_copy[0])\n",
    "\n",
    "                plt.grid('off')\n",
    "                plt.imshow(m)\n",
    "                plt.show()\n",
    "                \n",
    "                imgs.append(m)\n",
    "\n",
    "# Create a GIF\n",
    "gif.build_gif(imgs, saveto='fractal.gif')"
   ]
  },
  {
   "cell_type": "code",
   "execution_count": null,
   "metadata": {
    "collapsed": true
   },
   "outputs": [],
   "source": [
    "ipyd.Image(url='fractal.gif?i=2', height=300, width=300)"
   ]
  },
  {
   "cell_type": "markdown",
   "metadata": {},
   "source": [
    "<a name=\"guided-hallucinations\"></a>\n",
    "## Guided Hallucinations\n",
    "\n",
    "Instead of following the gradient of an arbitrary mean or max of a particular layer's activation, or a particular object that we want to synthesize, we can also try to guide our image to look like another image.  One way to try this is to take one image, the guide, and find the features at a particular layer or layers.  Then, we take our synthesis image and find the gradient which makes it's own layers activations look like the guide image.\n",
    "\n",
    "<h3><font color='red'>TODO! COMPLETE THIS SECTION!</font></h3>"
   ]
  },
  {
   "cell_type": "code",
   "execution_count": null,
   "metadata": {
    "collapsed": true
   },
   "outputs": [],
   "source": [
    "# Replace these with your own images!\n",
    "guide_og = plt.imread(...)[..., :3]\n",
    "dream_og = plt.imread(...)[..., :3]\n",
    "\n",
    "assert(guide_og.ndim == 3 and guide_og.shape[-1] == 3)\n",
    "assert(dream_og.ndim == 3 and dream_og.shape[-1] == 3)"
   ]
  },
  {
   "cell_type": "markdown",
   "metadata": {},
   "source": [
    "Preprocess both images:"
   ]
  },
  {
   "cell_type": "code",
   "execution_count": null,
   "metadata": {
    "collapsed": true
   },
   "outputs": [],
   "source": [
    "guide_img = net['preprocess'](guide_og)[np.newaxis]\n",
    "dream_img = net['preprocess'](dream_og)[np.newaxis]\n",
    "\n",
    "fig, axs = plt.subplots(1, 2, figsize=(7, 4))\n",
    "axs[0].imshow(guide_og)\n",
    "axs[1].imshow(dream_og)"
   ]
  },
  {
   "cell_type": "markdown",
   "metadata": {},
   "source": [
    "Like w/ Style Net, we are going to measure how similar the features in the guide image are to the dream images.  In order to do that, we'll calculate the dot product.  Experiment with other measures such as l1 or l2 loss to see how this impacts the resulting Dream!\n",
    "\n",
    "<h3><font color='red'>TODO! COMPLETE THIS SECTION!</font></h3>"
   ]
  },
  {
   "cell_type": "code",
   "execution_count": null,
   "metadata": {
    "collapsed": true
   },
   "outputs": [],
   "source": [
    "x = g.get_tensor_by_name(names[0] + \":0\")\n",
    "\n",
    "# Experiment with the weighting\n",
    "feature_loss_weight = 1.0\n",
    "\n",
    "with tf.Session(graph=g) as sess, g.device(device):\n",
    "    feature_loss = tf.Variable(0.0)\n",
    "    \n",
    "    # Explore different layers/subsets of layers.  This is just an example.\n",
    "    for feature_i in features[3:5]:\n",
    "\n",
    "        # Get the activation of the feature\n",
    "        layer = g.get_tensor_by_name(feature_i)\n",
    "        \n",
    "        # Do the same for our guide image\n",
    "        guide_layer = sess.run(layer, feed_dict={x: guide_img})\n",
    "        \n",
    "        # Now we need to measure how similar they are!\n",
    "        # We'll use the dot product, which requires us to first reshape both\n",
    "        # features to a 2D vector.  But you should experiment with other ways\n",
    "        # of measuring similarity such as l1 or l2 loss.\n",
    "        \n",
    "        # Reshape each layer to 2D vector\n",
    "        layer = tf.reshape(layer, [-1, 1])\n",
    "        guide_layer = guide_layer.reshape(-1, 1)\n",
    "        \n",
    "        # Now calculate their dot product\n",
    "        correlation = tf.matmul(guide_layer.T, layer)\n",
    "        \n",
    "        # And weight the loss by a factor so we can control its influence\n",
    "        feature_loss += feature_loss_weight * correlation"
   ]
  },
  {
   "cell_type": "markdown",
   "metadata": {},
   "source": [
    "We'll now use another measure that we saw when developing Style Net during the lecture.  This measure the pixel to pixel difference of neighboring pixels.  What we're doing when we try to optimize a gradient that makes the mean differences small is saying, we want the difference to be low.  This allows us to smooth our image in the same way that we did using the Gaussian to blur the image.  \n",
    "\n",
    "<h3><font color='red'>TODO! COMPLETE THIS SECTION!</font></h3>"
   ]
  },
  {
   "cell_type": "code",
   "execution_count": null,
   "metadata": {
    "collapsed": true
   },
   "outputs": [],
   "source": [
    "n_img, height, width, ch = dream_img.shape\n",
    "\n",
    "# We'll weight the overall contribution of the total variational loss\n",
    "# Experiment with this weighting\n",
    "tv_loss_weight = 1.0\n",
    "\n",
    "with tf.Session(graph=g) as sess, g.device(device):\n",
    "    # Penalize variations in neighboring pixels, enforcing smoothness\n",
    "    dx = tf.square(x[:, :height - 1, :width - 1, :] - x[:, :height - 1, 1:, :])\n",
    "    dy = tf.square(x[:, :height - 1, :width - 1, :] - x[:, 1:, :width - 1, :])\n",
    "    \n",
    "    # We will calculate their difference raised to a power to push smaller\n",
    "    # differences closer to 0 and larger differences higher.\n",
    "    # Experiment w/ the power you raise this to to see how it effects the result\n",
    "    tv_loss = tv_loss_weight * tf.reduce_mean(tf.pow(dx + dy, 1.2))"
   ]
  },
  {
   "cell_type": "markdown",
   "metadata": {},
   "source": [
    "Now we train just like before, except we'll need to combine our two loss terms, `feature_loss` and `tv_loss` by simply adding them!  The one thing we have to keep in mind is that we want to minimize the `tv_loss` while maximizing the `feature_loss`.  That means we'll need to use the negative `tv_loss` and the positive `feature_loss`.  As an experiment, try just optimizing the `tv_loss` and removing the `feature_loss` from the `tf.gradients` call.  What happens?\n",
    "\n",
    "<h3><font color='red'>TODO! COMPLETE THIS SECTION!</font></h3>"
   ]
  },
  {
   "cell_type": "code",
   "execution_count": null,
   "metadata": {
    "collapsed": true
   },
   "outputs": [],
   "source": [
    "# Experiment with the step size!\n",
    "step = 0.1\n",
    "\n",
    "imgs = []\n",
    "\n",
    "with tf.Session(graph=g) as sess, g.device(device):\n",
    "    # Experiment with just optimizing the tv_loss or negative tv_loss to understand what it is doing!\n",
    "    gradient = tf.gradients(-tv_loss + feature_loss, x)\n",
    "\n",
    "    # Copy the input image as we'll add the gradient to it in a loop\n",
    "    img_copy = dream_img.copy()\n",
    "\n",
    "    with tf.Session(graph=g) as sess, g.device(device):\n",
    "        sess.run(tf.initialize_all_variables())\n",
    "        \n",
    "        for it_i in range(n_iterations):\n",
    "\n",
    "            # This will calculate the gradient of the layer we chose with respect to the input image.\n",
    "            this_res = sess.run(gradient[0], feed_dict={x: img_copy})[0]\n",
    "            \n",
    "            # Let's normalize it by the maximum activation\n",
    "            this_res /= (np.max(np.abs(this_res) + 1e-8))\n",
    "            \n",
    "            # Or alternatively, we can normalize by standard deviation\n",
    "            # this_res /= (np.std(this_res) + 1e-8)\n",
    "\n",
    "            # Then add the gradient back to the input image\n",
    "            # Think about what this gradient represents?\n",
    "            # It says what direction we should move our input\n",
    "            # in order to meet our objective stored in \"gradient\"\n",
    "            img_copy += this_res * step\n",
    "\n",
    "            # Plot the image\n",
    "            if (it_i + 1) % plot_step == 0:\n",
    "                m = net['deprocess'](img_copy[0])\n",
    "\n",
    "                plt.figure(figsize=(5, 5))\n",
    "                plt.grid('off')\n",
    "                plt.imshow(m)\n",
    "                plt.show()\n",
    "                \n",
    "                imgs.append(m)\n",
    "\n",
    "gif.build_gif(imgs, saveto='guided.gif')                "
   ]
  },
  {
   "cell_type": "code",
   "execution_count": null,
   "metadata": {
    "collapsed": true
   },
   "outputs": [],
   "source": [
    "ipyd.Image(url='guided.gif?i=0', height=300, width=300)"
   ]
  },
  {
   "cell_type": "markdown",
   "metadata": {},
   "source": [
    "<a name=\"further-explorations\"></a>\n",
    "## Further Explorations\n",
    "\n",
    "In the `libs` module, I've included a `deepdream` module which has two functions for performing Deep Dream and the Guided Deep Dream.  Feel free to explore these to create your own deep dreams.\n",
    "\n",
    "<a name=\"part-5---style-net\"></a>\n",
    "# Part 5 - Style Net\n",
    "\n",
    "We'll now work on creating our own style net implementation.  We've seen all the steps for how to do this during the lecture, and you can always refer to the [Lecture Transcript](lecture-4.ipynb) if you need to.  I want to you to explore using different networks and different layers in creating your content and style losses.  This is completely unexplored territory so it can be frustrating to find things that work.  Think of this as your empty canvas!  If you are really stuck, you will find a `stylenet` implementation under the `libs` module that you can use instead.\n",
    "\n",
    "Have a look here for inspiration:\n",
    "\n",
    "https://mtyka.github.io/code/2015/10/02/experiments-with-style-transfer.html  \n",
    "\n",
    "http://kylemcdonald.net/stylestudies/\n",
    "\n",
    "<a name=\"network\"></a>\n",
    "## Network\n",
    "\n",
    "Let's reset the graph and load up a network.  I'll include code here for loading up any of our pretrained networks so you can explore each of them!\n",
    "\n",
    "<h3><font color='red'>TODO! COMPLETE THIS SECTION!</font></h3>"
   ]
  },
  {
   "cell_type": "code",
   "execution_count": null,
   "metadata": {
    "collapsed": true
   },
   "outputs": [],
   "source": [
    "sess.close()\n",
    "tf.reset_default_graph()\n",
    "\n",
    "# Stick w/ VGG for now, and then after you see how\n",
    "# the next few sections work w/ this network, come back\n",
    "# and explore the other networks.\n",
    "\n",
    "net = vgg16.get_vgg_model()\n",
    "# net = vgg16.get_vgg_face_model()\n",
    "# net = inception.get_inception_model(version='v5')\n",
    "# net = inception.get_inception_model(version='v3')\n",
    "# net = i2v.get_i2v_model()\n",
    "# net = i2v.get_i2v_tag_model()"
   ]
  },
  {
   "cell_type": "code",
   "execution_count": null,
   "metadata": {
    "collapsed": true
   },
   "outputs": [],
   "source": [
    "# Let's explicity use the CPU, since we don't gain anything using the GPU\n",
    "# when doing Deep Dream (it's only a single image, benefits come w/ many images).\n",
    "device = '/cpu:0'\n",
    "\n",
    "# We'll now explicitly create a graph\n",
    "g = tf.Graph()"
   ]
  },
  {
   "cell_type": "markdown",
   "metadata": {},
   "source": [
    "Let's now import the graph definition into our newly created Graph using a context manager and specifying that we want to use the CPU."
   ]
  },
  {
   "cell_type": "code",
   "execution_count": null,
   "metadata": {
    "collapsed": true
   },
   "outputs": [],
   "source": [
    "# And here is a context manager.  We use the python \"with\" notation to create a context\n",
    "# and create a session that only exists within this indent,  as soon as we leave it,\n",
    "# the session is automatically closed!  We also tel the session which graph to use.\n",
    "# We can pass a second context after the comma,\n",
    "# which we'll use to be explicit about using the CPU instead of a GPU.\n",
    "with tf.Session(graph=g) as sess, g.device(device):\n",
    "    \n",
    "    # Now load the graph_def, which defines operations and their values into `g`\n",
    "    tf.import_graph_def(net['graph_def'], name='net')"
   ]
  },
  {
   "cell_type": "markdown",
   "metadata": {},
   "source": [
    "Let's then grab the names of every operation in our network:"
   ]
  },
  {
   "cell_type": "code",
   "execution_count": null,
   "metadata": {
    "collapsed": true
   },
   "outputs": [],
   "source": [
    "names = [op.name for op in g.get_operations()]"
   ]
  },
  {
   "cell_type": "markdown",
   "metadata": {},
   "source": [
    "Now we need an image for our content image and another one for our style image."
   ]
  },
  {
   "cell_type": "code",
   "execution_count": null,
   "metadata": {
    "collapsed": true
   },
   "outputs": [],
   "source": [
    "content_og = plt.imread('arles.png')[..., :3]\n",
    "style_og = plt.imread('clinton.png')[..., :3]\n",
    "\n",
    "fig, axs = plt.subplots(1, 2)\n",
    "axs[0].imshow(content_og)\n",
    "axs[0].set_title('Content Image')\n",
    "axs[0].grid('off')\n",
    "axs[1].imshow(style_og)\n",
    "axs[1].set_title('Style Image')\n",
    "axs[1].grid('off')\n",
    "\n",
    "# We'll save these with a specific name to include in your submission\n",
    "plt.imsave(arr=content_og, fname='content.png')\n",
    "plt.imsave(arr=style_og, fname='style.png')"
   ]
  },
  {
   "cell_type": "code",
   "execution_count": null,
   "metadata": {
    "collapsed": true
   },
   "outputs": [],
   "source": [
    "content_img = net['preprocess'](content_og)[np.newaxis]\n",
    "style_img = net['preprocess'](style_og)[np.newaxis]"
   ]
  },
  {
   "cell_type": "markdown",
   "metadata": {},
   "source": [
    "Let's see what the network classifies these images as just for fun:\n",
    "\n",
    "<h3><font color='red'>TODO! COMPLETE THIS SECTION!</font></h3>"
   ]
  },
  {
   "cell_type": "code",
   "execution_count": null,
   "metadata": {
    "collapsed": true
   },
   "outputs": [],
   "source": [
    "# Grab the tensor defining the input to the network\n",
    "x = ...\n",
    "\n",
    "# And grab the tensor defining the softmax layer of the network\n",
    "softmax = ...\n",
    "\n",
    "for img in [content_img, style_img]:\n",
    "    with tf.Session(graph=g) as sess, g.device('/cpu:0'):\n",
    "        # Remember from the lecture that we have to set the dropout\n",
    "        # \"keep probability\" to 1.0.\n",
    "        res = softmax.eval(feed_dict={x: img,\n",
    "                    'net/dropout_1/random_uniform:0': [[1.0]],\n",
    "                    'net/dropout/random_uniform:0': [[1.0]]})[0]\n",
    "        print([(res[idx], net['labels'][idx])\n",
    "               for idx in res.argsort()[-5:][::-1]])"
   ]
  },
  {
   "cell_type": "markdown",
   "metadata": {},
   "source": [
    "<a name=\"content-features\"></a>\n",
    "## Content Features\n",
    "\n",
    "We're going to need to find the layer or layers we want to use to help us define our \"content loss\".  Recall from the lecture when we used VGG, we used the 4th convolutional layer."
   ]
  },
  {
   "cell_type": "code",
   "execution_count": null,
   "metadata": {
    "collapsed": true
   },
   "outputs": [],
   "source": [
    "print(names)"
   ]
  },
  {
   "cell_type": "markdown",
   "metadata": {},
   "source": [
    "Pick a layer for using for the content features.  If you aren't using VGG remember to get rid of the dropout stuff!\n",
    "\n",
    "<h3><font color='red'>TODO! COMPLETE THIS SECTION!</font></h3>"
   ]
  },
  {
   "cell_type": "code",
   "execution_count": null,
   "metadata": {
    "collapsed": true
   },
   "outputs": [],
   "source": [
    "# Experiment w/ different layers here.  You'll need to change this if you \n",
    "# use another network!\n",
    "content_layer = 'net/conv3_2/conv3_2:0'\n",
    "\n",
    "with tf.Session(graph=g) as sess, g.device('/cpu:0'):\n",
    "    content_features = g.get_tensor_by_name(content_layer).eval(\n",
    "            session=sess,\n",
    "            feed_dict={x: content_img,\n",
    "                'net/dropout_1/random_uniform:0': [[1.0]],\n",
    "                'net/dropout/random_uniform:0': [[1.0]]})"
   ]
  },
  {
   "cell_type": "markdown",
   "metadata": {},
   "source": [
    "<a name=\"style-features\"></a>\n",
    "## Style Features\n",
    "\n",
    "Let's do the same thing now for the style features.  We'll use more than 1 layer though so we'll append all the features in a list.  If you aren't using VGG remember to get rid of the dropout stuff!\n",
    "\n",
    "<h3><font color='red'>TODO! COMPLETE THIS SECTION!</font></h3>"
   ]
  },
  {
   "cell_type": "code",
   "execution_count": null,
   "metadata": {
    "collapsed": true
   },
   "outputs": [],
   "source": [
    "# Experiment with different layers and layer subsets.  You'll need to change these\n",
    "# if you use a different network!\n",
    "style_layers = ['net/conv1_1/conv1_1:0',\n",
    "                'net/conv2_1/conv2_1:0',\n",
    "                'net/conv3_1/conv3_1:0',\n",
    "                'net/conv4_1/conv4_1:0',\n",
    "                'net/conv5_1/conv5_1:0']\n",
    "style_activations = []\n",
    "\n",
    "with tf.Session(graph=g) as sess, g.device('/cpu:0'):\n",
    "    for style_i in style_layers:\n",
    "        style_activation_i = g.get_tensor_by_name(style_i).eval(\n",
    "            feed_dict={x: style_img,\n",
    "                    'net/dropout_1/random_uniform:0': [[1.0]],\n",
    "                    'net/dropout/random_uniform:0': [[1.0]]})\n",
    "        style_activations.append(style_activation_i)"
   ]
  },
  {
   "cell_type": "markdown",
   "metadata": {},
   "source": [
    "Now we find the gram matrix which we'll use to optimize our features."
   ]
  },
  {
   "cell_type": "code",
   "execution_count": null,
   "metadata": {
    "collapsed": true
   },
   "outputs": [],
   "source": [
    "style_features = []\n",
    "for style_activation_i in style_activations:\n",
    "    s_i = np.reshape(style_activation_i, [-1, style_activation_i.shape[-1]])\n",
    "    gram_matrix = np.matmul(s_i.T, s_i) / s_i.size\n",
    "    style_features.append(gram_matrix.astype(np.float32))"
   ]
  },
  {
   "cell_type": "markdown",
   "metadata": {},
   "source": [
    "<a name=\"remapping-the-input\"></a>\n",
    "## Remapping the Input\n",
    "\n",
    "We're almost done building our network.  We just have to change the input to the network to become \"trainable\".  Instead of a placeholder, we'll have a `tf.Variable`, which allows it to be trained.  We could set this to the content image, another image entirely, or an image of noise.  Experiment with all three options!\n",
    "\n",
    "<h3><font color='red'>TODO! COMPLETE THIS SECTION!</font></h3>"
   ]
  },
  {
   "cell_type": "code",
   "execution_count": null,
   "metadata": {
    "collapsed": true
   },
   "outputs": [],
   "source": [
    "tf.reset_default_graph()\n",
    "g = tf.Graph()\n",
    "\n",
    "# Get the network again\n",
    "net = vgg16.get_vgg_model()\n",
    "\n",
    "# Load up a session which we'll use to import the graph into.\n",
    "with tf.Session(graph=g) as sess, g.device('/cpu:0'):\n",
    "    # We can set the `net_input` to our content image\n",
    "    # or perhaps another image\n",
    "    # or an image of noise\n",
    "#     net_input = tf.Variable(content_img / 255.0)\n",
    "    net_input = tf.get_variable(\n",
    "       name='input',\n",
    "       shape=content_img.shape,\n",
    "       dtype=tf.float32,\n",
    "       initializer=tf.random_normal_initializer(\n",
    "           mean=np.mean(content_img), stddev=np.std(content_img)))\n",
    "    \n",
    "    # Now we load the network again, but this time replacing our placeholder\n",
    "    # with the trainable tf.Variable\n",
    "    tf.import_graph_def(\n",
    "        net['graph_def'],\n",
    "        name='net',\n",
    "        input_map={'images:0': net_input})"
   ]
  },
  {
   "cell_type": "markdown",
   "metadata": {},
   "source": [
    "<a name=\"content-loss\"></a>\n",
    "## Content Loss\n",
    "\n",
    "In the lecture we saw that we'll simply find the l2 loss between our content layer features."
   ]
  },
  {
   "cell_type": "code",
   "execution_count": null,
   "metadata": {
    "collapsed": true
   },
   "outputs": [],
   "source": [
    "with tf.Session(graph=g) as sess, g.device('/cpu:0'):\n",
    "    content_loss = tf.nn.l2_loss((g.get_tensor_by_name(content_layer) -\n",
    "                                 content_features) /\n",
    "                                 content_features.size)"
   ]
  },
  {
   "cell_type": "markdown",
   "metadata": {},
   "source": [
    "<a name=\"style-loss\"></a>\n",
    "## Style Loss\n",
    "\n",
    "Instead of straight l2 loss on the raw feature activations, we're going to calculate the gram matrix and find the loss between these.  Intuitively, this is finding what is common across all convolution filters, and trying to enforce the commonality between the synthesis and style image's gram matrix."
   ]
  },
  {
   "cell_type": "code",
   "execution_count": null,
   "metadata": {
    "collapsed": true
   },
   "outputs": [],
   "source": [
    "with tf.Session(graph=g) as sess, g.device('/cpu:0'):\n",
    "    style_loss = np.float32(0.0)\n",
    "    for style_layer_i, style_gram_i in zip(style_layers, style_features):\n",
    "        layer_i = g.get_tensor_by_name(style_layer_i)\n",
    "        layer_shape = layer_i.get_shape().as_list()\n",
    "        layer_size = layer_shape[1] * layer_shape[2] * layer_shape[3]\n",
    "        layer_flat = tf.reshape(layer_i, [-1, layer_shape[3]])\n",
    "        gram_matrix = tf.matmul(tf.transpose(layer_flat), layer_flat) / layer_size\n",
    "        style_loss = tf.add(style_loss, tf.nn.l2_loss((gram_matrix - style_gram_i) / np.float32(style_gram_i.size)))"
   ]
  },
  {
   "cell_type": "markdown",
   "metadata": {},
   "source": [
    "<a name=\"total-variation-loss\"></a>\n",
    "## Total Variation Loss\n",
    "\n",
    "And just like w/ guided hallucinations, we'll try to enforce some smoothness using a total variation loss."
   ]
  },
  {
   "cell_type": "code",
   "execution_count": null,
   "metadata": {
    "collapsed": true
   },
   "outputs": [],
   "source": [
    "def total_variation_loss(x):\n",
    "    h, w = x.get_shape().as_list()[1], x.get_shape().as_list()[1]\n",
    "    dx = tf.square(x[:, :h-1, :w-1, :] - x[:, :h-1, 1:, :])\n",
    "    dy = tf.square(x[:, :h-1, :w-1, :] - x[:, 1:, :w-1, :])\n",
    "    return tf.reduce_sum(tf.pow(dx + dy, 1.25))\n",
    "\n",
    "with tf.Session(graph=g) as sess, g.device('/cpu:0'):\n",
    "    tv_loss = total_variation_loss(net_input)"
   ]
  },
  {
   "cell_type": "markdown",
   "metadata": {},
   "source": [
    "<a name=\"training\"></a>\n",
    "## Training\n",
    "\n",
    "We're almost ready to train!  Let's just combine our three loss measures and stick it in an optimizer.\n",
    "\n",
    "<h3><font color='red'>TODO! COMPLETE THIS SECTION!</font></h3>"
   ]
  },
  {
   "cell_type": "code",
   "execution_count": null,
   "metadata": {
    "collapsed": true
   },
   "outputs": [],
   "source": [
    "with tf.Session(graph=g) as sess, g.device('/cpu:0'):\n",
    "    # Experiment w/ the weighting of these!  They produce WILDLY different\n",
    "    # results.\n",
    "    loss = 5.0 * content_loss + 1.0 * style_loss + 0.001 * tv_loss\n",
    "    optimizer = tf.train.AdamOptimizer(0.05).minimize(loss)"
   ]
  },
  {
   "cell_type": "markdown",
   "metadata": {},
   "source": [
    "And now iterate!  Feel free to play with the number of iterations or how often you save an image.  If you use a different network to VGG, then you will not need to feed in the dropout parameters like I've done here."
   ]
  },
  {
   "cell_type": "code",
   "execution_count": null,
   "metadata": {
    "collapsed": true
   },
   "outputs": [],
   "source": [
    "imgs = []\n",
    "n_iterations = 100\n",
    "\n",
    "with tf.Session(graph=g) as sess, g.device('/cpu:0'):\n",
    "    sess.run(tf.initialize_all_variables())\n",
    "\n",
    "    # map input to noise\n",
    "    og_img = net_input.eval()\n",
    "    \n",
    "    for it_i in range(n_iterations):\n",
    "        _, this_loss, synth = sess.run([optimizer, loss, net_input], feed_dict={\n",
    "                    'net/dropout_1/random_uniform:0': np.ones(\n",
    "                        g.get_tensor_by_name(\n",
    "                            'net/dropout_1/random_uniform:0'\n",
    "                        ).get_shape().as_list()),\n",
    "                    'net/dropout/random_uniform:0': np.ones(\n",
    "                        g.get_tensor_by_name(\n",
    "                            'net/dropout/random_uniform:0'\n",
    "                        ).get_shape().as_list())\n",
    "                })\n",
    "        print(\"%d: %f, (%f - %f)\" %\n",
    "            (it_i, this_loss, np.min(synth), np.max(synth)))\n",
    "        if it_i % 5 == 0:\n",
    "            m = vgg16.deprocess(synth[0])\n",
    "            imgs.append(m)\n",
    "            plt.imshow(m)\n",
    "            plt.show()\n",
    "    gif.build_gif(imgs, saveto='stylenet.gif')"
   ]
  },
  {
   "cell_type": "code",
   "execution_count": null,
   "metadata": {
    "collapsed": true
   },
   "outputs": [],
   "source": [
    "ipyd.Image(url='stylenet.gif?i=0', height=300, width=300)"
   ]
  },
  {
   "cell_type": "markdown",
   "metadata": {},
   "source": [
    "<a name=\"assignment-submission\"></a>\n",
    "# Assignment Submission\n",
    "\n",
    "After you've completed the notebook, create a zip file of the current directory using the code below.  This code will make sure you have included this completed ipython notebook and the following files named exactly as:\n",
    "\n",
    "<pre>\n",
    "    session-4/\n",
    "      session-4.ipynb\n",
    "      softmax.gif\n",
    "      fractal.gif\n",
    "      guided.gif\n",
    "      content.png\n",
    "      style.png\n",
    "      stylenet.gif\n",
    "</pre>\n",
    "\n",
    "You'll then submit this zip file for your third assignment on Kadenze for \"Assignment 4: Deep Dream and Style Net\"!  Remember to complete the rest of the assignment, gallery commenting on your peers work, to receive full credit!  If you have any questions, remember to reach out on the forums and connect with your peers or with me.\n",
    "\n",
    "To get assessed, you'll need to be a premium student!  This will allow you to build an online portfolio of all of your work and receive grades.  If you aren't already enrolled as a student, register now at http://www.kadenze.com/ and join the [#CADL](https://twitter.com/hashtag/CADL) community to see what your peers are doing! https://www.kadenze.com/courses/creative-applications-of-deep-learning-with-tensorflow/info\n",
    "\n",
    "Also, if you share any of the GIFs on Facebook/Twitter/Instagram/etc..., be sure to use the #CADL hashtag so that other students can find your work!"
   ]
  },
  {
   "cell_type": "code",
   "execution_count": null,
   "metadata": {
    "collapsed": true
   },
   "outputs": [],
   "source": [
    "utils.build_submission('session-4.zip',\n",
    "                       ('softmax.gif',\n",
    "                        'fractal.gif',\n",
    "                        'guided.gif',\n",
    "                        'content.png',\n",
    "                        'style.png',\n",
    "                        'stylenet.gif'))"
   ]
  }
 ],
 "metadata": {
  "anaconda-cloud": {},
  "kernelspec": {
   "display_name": "Python [tensorflow]",
   "language": "python",
   "name": "Python [tensorflow]"
  },
  "language_info": {
   "codemirror_mode": {
    "name": "ipython",
    "version": 3
   },
   "file_extension": ".py",
   "mimetype": "text/x-python",
   "name": "python",
   "nbconvert_exporter": "python",
   "pygments_lexer": "ipython3",
   "version": "3.5.2"
  }
 },
 "nbformat": 4,
 "nbformat_minor": 1
}
